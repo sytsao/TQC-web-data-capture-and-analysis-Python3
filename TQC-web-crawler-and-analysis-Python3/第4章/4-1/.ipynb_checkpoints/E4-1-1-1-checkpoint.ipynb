{
 "cells": [
  {
   "cell_type": "markdown",
   "metadata": {},
   "source": [
    "## 解析 \"Plot\"\n",
    "\n",
    "``Figure``是這個層次結構中的頂級容器。這是整個視窗/頁面，所有內容都是繪製的。你可以擁有多個獨立的數位，而``Figure`可以包含多個``Axes``。\n",
    "\n",
    "大多數人都在“軸”上策劃。軸實際上是我們繪製資料的區域以及與之相關的任何刻度/標籤/等。通常我們會設置一個Axes，調用``subplot``（將Axes置於常規網格上），因此在大多數情況下，``Axes``和``Subplot``是同義詞。\n",
    "\n",
    "每個``Axes``都有一個``XAxis``和一個``YAxis``。這些包含刻度，刻度位置，標籤等。在本教程中，我們主要通過其他機制控制刻度，刻度標籤和資料限制，因此我們不會觸及所有內容的“軸”部分。那麼多。但是，這裡值得一提的是解釋術語“軸”的來源。\n"
   ]
  },
  {
   "cell_type": "markdown",
   "metadata": {},
   "source": [
    "這些物件的關係可以用下面的圖來表示：\n",
    "\n",
    "示例圖像：\n",
    "\n",
    "<img src=\"artists_figure.png\" width = \"600\" height = \"400\" alt=\"图1\" align=left />"
   ]
  },
  {
   "cell_type": "markdown",
   "metadata": {},
   "source": [
    "具體結構：\n",
    "\n",
    "<img src=\"./artists_tree.png\" width = \"600\" height = \"400\" alt=\"图2\" align=left />"
   ]
  },
  {
   "cell_type": "code",
   "execution_count": null,
   "metadata": {},
   "outputs": [],
   "source": []
  },
  {
   "cell_type": "code",
   "execution_count": 1,
   "metadata": {},
   "outputs": [],
   "source": [
    "import numpy as np\n",
    "import matplotlib.pyplot as plt\n",
    "\n",
    "# Try to reproduce the figure shown in images/exercise_1-1.png\n",
    "\n",
    "# Our data...\n",
    "x = np.linspace(0, 10, 100)\n",
    "y1, y2, y3 = np.cos(x), np.cos(x + 1), np.cos(x + 2)\n",
    "names = ['Signal 1', 'Signal 2', 'Signal 3']\n",
    "\n",
    "# Can you figure out what to do next to plot x vs y1, y2, and y3 on one figure?\n"
   ]
  },
  {
   "cell_type": "code",
   "execution_count": 2,
   "metadata": {},
   "outputs": [],
   "source": [
    "import numpy as np\n",
    "import matplotlib.pyplot as plt"
   ]
  },
  {
   "cell_type": "markdown",
   "metadata": {},
   "source": [
    "## 運用figure 物件創建圖形"
   ]
  },
  {
   "cell_type": "markdown",
   "metadata": {},
   "source": [
    "\n",
    "`figure` 物件是最外層的繪圖單位，預設是以 `1` 開始編號（**MATLAB** 風格，`Figure 1, Figure 2, ...`），可以用 `plt.figure()` 產生一幅圖像，除了預設參數外，可以指定的參數有：\n",
    "\n",
    "- `num` - 編號\n",
    "- `figsize` - 圖像大小\n",
    "- `dpi` - 解析度\n",
    "- `facecolor` - 背景色\n",
    "- `edgecolor` - 邊界顏色\n",
    "- `frameon` - 邊框\n",
    "\n",
    "這些屬性也可以通過 `Figure` 物件的 `set_xxx` 方法來改變。"
   ]
  },
  {
   "cell_type": "code",
   "execution_count": 3,
   "metadata": {},
   "outputs": [
    {
     "data": {
      "text/plain": [
       "<Figure size 432x288 with 0 Axes>"
      ]
     },
     "metadata": {},
     "output_type": "display_data"
    }
   ],
   "source": [
    "fig = plt.figure(facecolor=(1, 0, 0, .1))   # red background to see where the figure is"
   ]
  },
  {
   "cell_type": "markdown",
   "metadata": {},
   "source": [
    "結果什麼都沒發生！ 這是因為預設情況下，mpl在被告知之前不會顯示任何內容，我們需要呼叫``plt.show（）``才能顯示圖形"
   ]
  },
  {
   "cell_type": "code",
   "execution_count": 4,
   "metadata": {},
   "outputs": [],
   "source": [
    "plt.show()"
   ]
  },
  {
   "cell_type": "markdown",
   "metadata": {},
   "source": [
    "通過``figsize``參數可以控制圖形的大小，這個參數需要一個以英寸為單位的``（寬度，高度）`元組。"
   ]
  },
  {
   "cell_type": "code",
   "execution_count": 5,
   "metadata": {},
   "outputs": [
    {
     "data": {
      "text/plain": [
       "<Figure size 288x576 with 0 Axes>"
      ]
     },
     "metadata": {},
     "output_type": "display_data"
    }
   ],
   "source": [
    "# Twice as tall as it is wide:\n",
    "fig = plt.figure(figsize=plt.figaspect(2.0), facecolor=(1, 0, 0, .1))\n",
    "plt.show()"
   ]
  },
  {
   "cell_type": "markdown",
   "metadata": {},
   "source": [
    "### subplot"
   ]
  },
  {
   "cell_type": "markdown",
   "metadata": {},
   "source": [
    "`subplot` 主要是使用網格排列子圖："
   ]
  },
  {
   "cell_type": "code",
   "execution_count": 6,
   "metadata": {},
   "outputs": [
    {
     "name": "stdout",
     "output_type": "stream",
     "text": [
      "Populating the interactive namespace from numpy and matplotlib\n"
     ]
    },
    {
     "data": {
      "image/png": "[encoded data removed]",
      "text/plain": [
       "<Figure size 432x288 with 2 Axes>"
      ]
     },
     "metadata": {},
     "output_type": "display_data"
    }
   ],
   "source": [
    "%pylab inline\n",
    "\n",
    "subplot(2,1,1)\n",
    "xticks([]), yticks([])\n",
    "text(0.5,0.5, 'subplot(2,1,1)',ha='center',va='center',size=24,alpha=.5)\n",
    "\n",
    "subplot(2,1,2)\n",
    "xticks([]), yticks([])\n",
    "text(0.5,0.5, 'subplot(2,1,2)',ha='center',va='center',size=24,alpha=.5)\n",
    "\n",
    "show()"
   ]
  },
  {
   "cell_type": "markdown",
   "metadata": {},
   "source": [
    "更高級的可以用 `gridspec` 來繪圖："
   ]
  },
  {
   "cell_type": "code",
   "execution_count": 7,
   "metadata": {
    "scrolled": true
   },
   "outputs": [
    {
     "data": {
      "image/png": "[encoded data removed]",
      "text/plain": [
       "<Figure size 432x288 with 5 Axes>"
      ]
     },
     "metadata": {},
     "output_type": "display_data"
    }
   ],
   "source": [
    "import matplotlib.gridspec as gridspec\n",
    "\n",
    "G = gridspec.GridSpec(3, 3)\n",
    "\n",
    "axes_1 = subplot(G[0, :])\n",
    "xticks([]), yticks([])\n",
    "text(0.5,0.5, 'Axes 1',ha='center',va='center',size=24,alpha=.5)\n",
    "\n",
    "axes_2 = subplot(G[1,:-1])\n",
    "xticks([]), yticks([])\n",
    "text(0.5,0.5, 'Axes 2',ha='center',va='center',size=24,alpha=.5)\n",
    "\n",
    "axes_3 = subplot(G[1:, -1])\n",
    "xticks([]), yticks([])\n",
    "text(0.5,0.5, 'Axes 3',ha='center',va='center',size=24,alpha=.5)\n",
    "\n",
    "axes_4 = subplot(G[-1,0])\n",
    "xticks([]), yticks([])\n",
    "text(0.5,0.5, 'Axes 4',ha='center',va='center',size=24,alpha=.5)\n",
    "\n",
    "axes_5 = subplot(G[-1,-2])\n",
    "xticks([]), yticks([])\n",
    "text(0.5,0.5, 'Axes 5',ha='center',va='center',size=24,alpha=.5)\n",
    "\n",
    "show()"
   ]
  },
  {
   "cell_type": "markdown",
   "metadata": {},
   "source": [
    "## 運用axes 物件畫軸\n",
    "\n",
    "所有繪圖都是針對[`Axes`]完成的。由[`Axis`]物件和許多其他東西組成。 * * Axes *物件必須屬於* Figure *（並且只有一個* Figure *）。 您將要發出的大多數命令都與此* Axes *物件有關。\n",
    "\n",
    "通常，您將設置一個`Figure`，然後添加一個`Axes`。\n",
    "\n",
    "你可以使用`fig.add_axes`，但在大多數情況下，你會發現添加一個子圖可以完美地滿足你的需求。 （同樣，“子圖”只是網格系統上的一個軸。）"
   ]
  },
  {
   "cell_type": "code",
   "execution_count": 8,
   "metadata": {},
   "outputs": [
    {
     "data": {
      "image/png": "[encoded data removed]",
      "text/plain": [
       "<Figure size 432x288 with 1 Axes>"
      ]
     },
     "metadata": {},
     "output_type": "display_data"
    }
   ],
   "source": [
    "fig = plt.figure()\n",
    "ax = fig.add_subplot(111) # We'll explain the \"111\" later. Basically, 1 row and 1 column.\n",
    "ax.set(xlim=[0.5, 4.5], ylim=[-2, 8], title='An Example Axes',\n",
    "       ylabel='Y-Axis', xlabel='X-Axis')\n",
    "plt.show()"
   ]
  },
  {
   "cell_type": "markdown",
   "metadata": {},
   "source": [
    "注意呼叫``set``。 Matplotlib的物件通常有很多“顯式setter” - 換句話說，函數以``set_ <something>``開頭並控制特定選項。\n",
    "\n",
    "為了演示這個（以及作為IPython的tab-completion的一個例子），嘗試在代碼儲存格中輸入`ax.set_`，然後點擊`<Tab>`鍵。 您將看到以`set`開頭的一長串`Axes`方法。\n",
    "\n",
    "例如，我們可以將上面的第三行寫成：\n"
   ]
  },
  {
   "cell_type": "code",
   "execution_count": 9,
   "metadata": {},
   "outputs": [],
   "source": [
    "ax.set_xlim([0.5, 4.5])\n",
    "ax.set_ylim([-2, 8])\n",
    "ax.set_title('A Different Example Axes Title')\n",
    "ax.set_ylabel('Y-Axis (changed)')\n",
    "ax.set_xlabel('X-Axis (changed)')\n",
    "plt.show()"
   ]
  },
  {
   "cell_type": "markdown",
   "metadata": {},
   "source": [
    "顯然，這可以迅速得到回應。 因此，Matplotlib的`set`方法非常方便。 每個kwarg你需要通過它並嘗試調用相應的“setter”。 例如，`foo.set（bar ='blah'）`會調用`foo.set_bar（'blah'）`。\n",
    "\n",
    "請注意，`set`方法不僅適用於`Axes`; 它適用於或多或少的所有matplotlib物件。\n",
    "\n",
    "但是，在某些情況下，您需要使用諸如`ax.set_xlabel（'Some Label'，size = 25）`來控制特定函數的其他選項。"
   ]
  },
  {
   "cell_type": "code",
   "execution_count": 10,
   "metadata": {},
   "outputs": [
    {
     "data": {
      "image/png": "[encoded data removed]",
      "text/plain": [
       "<Figure size 432x288 with 2 Axes>"
      ]
     },
     "metadata": {},
     "output_type": "display_data"
    }
   ],
   "source": [
    "axes([0.1,0.1,.8,.8])\n",
    "xticks([]), yticks([])\n",
    "text(0.6,0.6, 'axes([0.1,0.1,.8,.8])',ha='center',va='center',size=20,alpha=.5)\n",
    "\n",
    "axes([0.2,0.2,.3,.3])\n",
    "xticks([]), yticks([])\n",
    "text(0.5,0.5, 'axes([0.2,0.2,.3,.3])',ha='center',va='center',size=16,alpha=.5)\n",
    "\n",
    "show()"
   ]
  },
  {
   "cell_type": "code",
   "execution_count": 11,
   "metadata": {},
   "outputs": [
    {
     "data": {
      "image/png": "[encoded data removed]",
      "text/plain": [
       "<Figure size 432x288 with 4 Axes>"
      ]
     },
     "metadata": {},
     "output_type": "display_data"
    }
   ],
   "source": [
    "axes([0.1,0.1,.5,.5])\n",
    "xticks([]), yticks([])\n",
    "text(0.1,0.1, 'axes([0.1,0.1,.8,.8])',ha='left',va='center',size=16,alpha=.5)\n",
    "\n",
    "axes([0.2,0.2,.5,.5])\n",
    "xticks([]), yticks([])\n",
    "text(0.1,0.1, 'axes([0.2,0.2,.5,.5])',ha='left',va='center',size=16,alpha=.5)\n",
    "\n",
    "axes([0.3,0.3,.5,.5])\n",
    "xticks([]), yticks([])\n",
    "text(0.1,0.1, 'axes([0.3,0.3,.5,.5])',ha='left',va='center',size=16,alpha=.5)\n",
    "\n",
    "axes([0.4,0.4,.5,.5])\n",
    "xticks([]), yticks([])\n",
    "text(0.1,0.1, 'axes([0.4,0.4,.5,.5])',ha='left',va='center',size=16,alpha=.5)\n",
    "\n",
    "show()"
   ]
  },
  {
   "cell_type": "markdown",
   "metadata": {},
   "source": [
    "後面的 `Axes` 物件會覆蓋前面的內容。"
   ]
  },
  {
   "cell_type": "markdown",
   "metadata": {},
   "source": [
    "## 基本繪圖\n",
    "\n",
    "大多數繪圖都開始在'Axes`上。 因此，如果您在軸上繪製某些東西，那麼您將使用其中一種方法。\n",
    "\n",
    "`plot`用連接它們的線繪製點。 `scatter`繪製未連接的點，可選擇按其他變數縮放或著色。\n",
    "\n",
    "如下面基本的例子：\n"
   ]
  },
  {
   "cell_type": "code",
   "execution_count": 24,
   "metadata": {},
   "outputs": [
    {
     "data": {
      "image/png": "[encoded data removed]",
      "text/plain": [
       "<Figure size 432x288 with 1 Axes>"
      ]
     },
     "metadata": {},
     "output_type": "display_data"
    }
   ],
   "source": [
    "fig = plt.figure()\n",
    "ax = fig.add_subplot(111)\n",
    "ax.plot([1, 2, 3, 4], [10, 20, 25, 30], color='lightblue', linewidth=3)\n",
    "ax.scatter([0.6, 3.8, 1.2, 2.5], [11, 25, 9, 26], c=[1, 1, 1, 1], marker='^')\n",
    "ax.set_xlim(0.5, 4.5)\n",
    "plt.show()"
   ]
  },
  {
   "cell_type": "markdown",
   "metadata": {},
   "source": [
    "## Axes方法與pyplot\n",
    "\n",
    "幾乎所有* Axes *物件的方法都作為* pyplot *模組中的函數存在，例如當呼叫`plt.xlim（1,10）`時，* pyplot *在任何* Axes *為“current”時呼叫`ax.set_xlim（1,10）`。 以下是僅使用pyplot的上述示例的等效版本。\n"
   ]
  },
  {
   "cell_type": "code",
   "execution_count": 13,
   "metadata": {},
   "outputs": [
    {
     "data": {
      "image/png": "[encoded data removed]",
      "text/plain": [
       "<Figure size 432x288 with 1 Axes>"
      ]
     },
     "metadata": {},
     "output_type": "display_data"
    }
   ],
   "source": [
    "plt.plot([1, 2, 3, 4], [10, 20, 25, 30], color='lightblue', linewidth=3)\n",
    "plt.scatter([0.3, 3.8, 1.2, 2.5], [11, 25, 9, 26], c=[1, 2, 3, 5], marker='^')\n",
    "plt.xlim(0.5, 4.5)\n",
    "plt.show()"
   ]
  },
  {
   "cell_type": "markdown",
   "metadata": {},
   "source": [
    "這有點粗糙，區域變數較少，雖然非常簡單的繪圖，短腳本將受益於pyplot隱式方法的簡潔性，當執行更複雜的繪圖，或在更大的腳本中工作時，您將需要顯式傳遞* Axes *和/或* Figure *物館進行管理。\n",
    "\n",
    "例如當我們開始在一個圖中有多個軸時，保持我們在代碼中非常清晰地工作的軸的優勢將變得更加明顯。\n"
   ]
  },
  {
   "cell_type": "markdown",
   "metadata": {},
   "source": [
    "### 多軸\n",
    "\n",
    "我們之前已經提到過，一個數字上可以有多個“軸”。 如果你想讓你的軸在常規網格系統上，那麼最簡單的方法就是使用`plt.subplots（...）`創建一個圖形並自動添加軸。\n",
    "\n",
    "例如："
   ]
  },
  {
   "cell_type": "code",
   "execution_count": 14,
   "metadata": {},
   "outputs": [
    {
     "data": {
      "image/png": "[encoded data removed]",
      "text/plain": [
       "<Figure size 432x288 with 4 Axes>"
      ]
     },
     "metadata": {},
     "output_type": "display_data"
    }
   ],
   "source": [
    "fig, axes = plt.subplots(nrows=2, ncols=2)\n",
    "plt.show()"
   ]
  },
  {
   "cell_type": "markdown",
   "metadata": {},
   "source": [
    "`plt.subplots（...）`創建了一個新的圖形並添加了4個子圖。 返回的`axes`物件是2D numpy物件陣列。 陣列中的每個專案都是子圖之一。 當你在圖上看到它們時，它們就被佈置好了。\n",
    "\n",
    "因此，當我們想要使用其中一個軸時，我們可以索引`axes`陣列並使用該項的方法。\n",
    "\n",
    "例如："
   ]
  },
  {
   "cell_type": "code",
   "execution_count": 15,
   "metadata": {},
   "outputs": [
    {
     "data": {
      "image/png": "[encoded data removed]",
      "text/plain": [
       "<Figure size 432x288 with 4 Axes>"
      ]
     },
     "metadata": {},
     "output_type": "display_data"
    }
   ],
   "source": [
    "fig, axes = plt.subplots(nrows=2, ncols=2)\n",
    "axes[0,0].set(title='Upper Left')\n",
    "axes[0,1].set(title='Upper Right')\n",
    "axes[1,0].set(title='Lower Left')\n",
    "axes[1,1].set(title='Lower Right')\n",
    "\n",
    "# To iterate over all items in a multidimensional numpy array, use the `flat` attribute\n",
    "for ax in axes.flat:\n",
    "    # Remove all xticks and yticks...\n",
    "    ax.set(xticks=[], yticks=[])\n",
    "    \n",
    "plt.show()"
   ]
  },
  {
   "cell_type": "markdown",
   "metadata": {},
   "source": [
    "關於`plt.subplots（）`的一個非常好的事情是，當它被呼叫時沒有參數，它會創建一個帶有單個子圖的新圖。\n",
    "\n",
    "任何時候你看到類似的東西\n",
    "\n",
    "```\n",
    "fig = plt.figure（）\n",
    "ax = fig.add_subplot（111）\n",
    "```\n",
    "\n",
    "您可以將其替換為：\n",
    "\n",
    "```\n",
    "fig，ax = plt.subplots（）\n"
   ]
  }
 ],
 "metadata": {
  "kernelspec": {
   "display_name": "Python 3",
   "language": "python",
   "name": "python3"
  },
  "language_info": {
   "codemirror_mode": {
    "name": "ipython",
    "version": 3
   },
   "file_extension": ".py",
   "mimetype": "text/x-python",
   "name": "python",
   "nbconvert_exporter": "python",
   "pygments_lexer": "ipython3",
   "version": "3.6.5"
  }
 },
 "nbformat": 4,
 "nbformat_minor": 1
}
