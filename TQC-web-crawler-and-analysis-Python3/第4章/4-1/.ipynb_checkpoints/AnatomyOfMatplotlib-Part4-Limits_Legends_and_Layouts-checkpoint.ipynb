{
 "cells": [
  {
   "cell_type": "code",
   "execution_count": null,
   "metadata": {},
   "outputs": [],
   "source": [
    "from __future__ import print_function\n",
    "\n",
    "# Import conventions we'll be using here. See Part 1\n",
    "import matplotlib\n",
    "matplotlib.use('nbagg')\n",
    "import matplotlib.pyplot as plt\n",
    "import numpy as np"
   ]
  },
  {
   "cell_type": "markdown",
   "metadata": {},
   "source": [
    "# 限制(Limits), 圖例(Legends), 和佈局(Layouts)\n",
    "\n",
    "包含軸邊緣的刻度，刻度標籤，限制，佈局和圖例。"
   ]
  },
  {
   "cell_type": "markdown",
   "metadata": {},
   "source": [
    "# 限制和自動縮放\n",
    "\n",
    "預設情況下，Matplotlib“自動縮放”功能將嘗試確定包含繪製的所有資料。 對於圖像繪圖，限制不會填充，而散點圖和橫條圖等繪圖會給出一些填充。"
   ]
  },
  {
   "cell_type": "code",
   "execution_count": null,
   "metadata": {},
   "outputs": [],
   "source": [
    "fig, (ax1, ax2) = plt.subplots(nrows=1, ncols=2, figsize=plt.figaspect(0.5))\n",
    "\n",
    "ax1.plot([-10, -5, 0, 5, 10, 15], [-1.2, 2, 3.5, -0.3, -4, 1])\n",
    "ax2.scatter([-10, -5, 0, 5, 10, 15], [-1.2, 2, 3.5, -0.3, -4, 1])\n",
    "\n",
    "plt.show()"
   ]
  },
  {
   "cell_type": "markdown",
   "metadata": {},
   "source": [
    "### `ax.margins（...）`\n",
    "\n",
    "如果想在繪圖中添加一些“填充”，`ax.margins（<some_small_fraction>）`是一種非常方便的方法。 不是選擇“偶數”數作為每個軸的最小/最大範圍，“margins”將使Matplotlib通過獲取資料的範圍並添加一小部分填充來計算每個軸的最小值/最大值。\n",
    "\n",
    "舉個例子："
   ]
  },
  {
   "cell_type": "code",
   "execution_count": null,
   "metadata": {},
   "outputs": [],
   "source": [
    "fig, (ax1, ax2) = plt.subplots(1, 2, figsize=plt.figaspect(0.5))\n",
    "\n",
    "ax1.plot([-10, -5, 0, 5, 10, 15], [-1.2, 2, 3.5, -0.3, -4, 1])\n",
    "ax2.scatter([-10, -5, 0, 5, 10, 15], [-1.2, 2, 3.5, -0.3, -4, 1])\n",
    "\n",
    "ax1.margins(x=0.0, y=0.1) # 10% padding in the y-direction only\n",
    "ax2.margins(0.05) # 5% padding in all directions\n",
    "\n",
    "plt.show()"
   ]
  },
  {
   "cell_type": "markdown",
   "metadata": {},
   "source": [
    "### `ax.axis（...）`\n",
    "\n",
    "`ax.axis（...）`方法是控制軸限制和啟用/禁用自動縮放的一種方法。\n",
    "\n",
    "如果您需要獲得所有當前的繪圖限制，則在沒有參數的情況下呼叫`ax.axis（）`將返回xmin / max / etc：\n",
    "\n",
    "    xmin，xmax，ymin，ymax = ax.axis（）\n",
    "    \n",
    "如果你想一次手動設置所有的x / y限制，你也可以使用`ax.axis`（注意我們用一個參數呼叫它是一個序列，而不是4個人參數）：\n",
    "\n",
    "    ax.axis（[xmin，xmax，ymin，ymax]）\n",
    "    \n",
    "但是，你可能會使用`axis`主要使用`“tight”或“equal”選項。還有其他選擇;有關詳細資訊，請參閱文檔。簡而言之，但是：\n",
    "\n",
    "  * * tight *：將軸限制設置為資料的確切範圍\n",
    "  * *equal*：設定軸的刻度使得y方向上的1 cm /英寸與x方向上的1 cm / inch相同。在Matplotlib術語中，這將繪圖的寬高比設置為1.即_ notes not_表示軸“box”將是方形。\n",
    "  \n",
    "舉例如下：\n"
   ]
  },
  {
   "cell_type": "code",
   "execution_count": null,
   "metadata": {},
   "outputs": [],
   "source": [
    "fig, axes = plt.subplots(nrows=3)\n",
    "\n",
    "for ax in axes:\n",
    "    ax.plot([-10, -5, 0, 5, 10, 15], [-1.2, 2, 3.5, -0.3, -4, 1])\n",
    "\n",
    "axes[0].set_title('Normal Autoscaling', y=0.7, x=0.8)\n",
    "\n",
    "axes[1].set_title('ax.axis(\"tight\")', y=0.7, x=0.8)\n",
    "axes[1].axis('tight')\n",
    "\n",
    "axes[2].set_title('ax.axis(\"equal\")', y=0.7, x=0.8)\n",
    "axes[2].axis('equal')\n",
    "\n",
    "plt.show()"
   ]
  },
  {
   "cell_type": "markdown",
   "metadata": {},
   "source": [
    "### 手動設置一個限制\n",
    "\n",
    "也可以僅指定限制的一半，完成**後**繪圖，允許用戶錨定限制同時讓Matplotlib自動調整其餘部分的效果。"
   ]
  },
  {
   "cell_type": "code",
   "execution_count": null,
   "metadata": {},
   "outputs": [],
   "source": [
    "# Good -- setting limits after plotting is done\n",
    "fig, (ax1, ax2) = plt.subplots(1, 2, figsize=plt.figaspect(0.5))\n",
    "ax1.plot([-10, -5, 0, 5, 10, 15], [-1.2, 2, 3.5, -0.3, -4, 1])\n",
    "ax2.scatter([-10, -5, 0, 5, 10, 15], [-1.2, 2, 3.5, -0.3, -4, 1])\n",
    "ax1.set_ylim(bottom=-10)\n",
    "ax2.set_xlim(right=25)\n",
    "plt.show()"
   ]
  },
  {
   "cell_type": "code",
   "execution_count": null,
   "metadata": {},
   "outputs": [],
   "source": [
    "# Bad -- Setting limits before plotting is done\n",
    "fig, (ax1, ax2) = plt.subplots(1, 2, figsize=plt.figaspect(0.5))\n",
    "ax1.set_ylim(bottom=-10)\n",
    "ax2.set_xlim(right=25)\n",
    "ax1.plot([-10, -5, 0, 5, 10, 15], [-1.2, 2, 3.5, -0.3, -4, 1])\n",
    "ax2.scatter([-10, -5, 0, 5, 10, 15], [-1.2, 2, 3.5, -0.3, -4, 1])\n",
    "plt.show()"
   ]
  },
  {
   "cell_type": "markdown",
   "metadata": {},
   "source": [
    "# 圖例\n",
    "\n",
    "正如您在目前為止的一些示例中所見，X和Y軸也可以通過標題與子圖進行標記，。\n",
    "\n",
    "也可以標記所繪製的線/點/條/等，也可以為繪圖提供標籤，這樣圖例就可以自動構建。"
   ]
  },
  {
   "cell_type": "code",
   "execution_count": null,
   "metadata": {},
   "outputs": [],
   "source": [
    "fig, ax = plt.subplots()\n",
    "ax.plot([1, 2, 3, 4], [10, 20, 25, 30], label='Philadelphia')\n",
    "ax.plot([1, 2, 3, 4], [30, 23, 13, 4], label='Boston')\n",
    "ax.set(ylabel='Temperature (deg C)', xlabel='Time', title='A tale of two cities')\n",
    "ax.legend()\n",
    "plt.show()"
   ]
  },
  {
   "cell_type": "markdown",
   "metadata": {},
   "source": [
    "在`classic`模式的預設情況下，圖例會出現在右上角（您可以使用`loc` kwarg來控制它）。 從v2.0開始，預設情況下，Matplotlib將選擇一個位置以盡可能避免重疊繪圖元素。 要強制使用此選項，您可以傳入：\n",
    "\n",
    "    ax.legend（LOC=“最佳”）\n",
    "    \n",
    "此外，如果您正在繪製一些您不希望出現在圖例中的內容，只需將標籤設置為“\\ _nolegend \\ _”即可。\n"
   ]
  },
  {
   "cell_type": "code",
   "execution_count": null,
   "metadata": {},
   "outputs": [],
   "source": [
    "fig, ax = plt.subplots(1, 1)\n",
    "ax.bar([1, 2, 3, 4], [10, 20, 25, 30], label=\"Foobar\", align='center', color='lightblue')\n",
    "ax.plot([1, 2, 3, 4], [10, 20, 25, 30], label=\"_nolegend_\", marker='o', color='darkred')\n",
    "ax.legend(loc='best')\n",
    "plt.show()"
   ]
  },
  {
   "cell_type": "markdown",
   "metadata": {},
   "source": [
    "# Exercise 4.1\n",
    "\n",
    "Once again, let's use a bit of what we've learned.  Try to reproduce the following figure:\n",
    "\n",
    "<img src=\"images/exercise_4-1.png\">\n",
    "\n",
    "Hint: You'll need to combine `ax.axis(...)` and `ax.margins(...)`.  Here's the data and some code to get you started:"
   ]
  },
  {
   "cell_type": "code",
   "execution_count": null,
   "metadata": {},
   "outputs": [],
   "source": [
    "%load exercises/4.1-legends_and_scaling.py"
   ]
  },
  {
   "cell_type": "code",
   "execution_count": null,
   "metadata": {
    "collapsed": true
   },
   "outputs": [],
   "source": [
    "import numpy as np\n",
    "import matplotlib.pyplot as plt\n",
    "\n",
    "plt.style.use('classic')\n",
    "\n",
    "t = np.linspace(0, 2 * np.pi, 150)\n",
    "x1, y1 = np.cos(t), np.sin(t)\n",
    "x2, y2 = 2 * x1, 2 * y1\n",
    "\n",
    "colors = ['darkred', 'darkgreen']\n",
    "\n",
    "# Try to plot the two circles, scale the axes as shown and add a legend\n",
    "# Hint: it's easiest to combine `ax.axis(...)` and `ax.margins(...)` to scale the axes"
   ]
  },
  {
   "cell_type": "markdown",
   "metadata": {},
   "source": [
    "# 處理邊界：佈局(layout)，刻度(ticks)，spins等\n",
    "\n",
    "這些是軸外側的所有注釋，軸的邊界以及如何調整軸周圍的空間量。\n",
    "\n",
    "## Ticks，Tick lines，Tick Labels和Tickers\n",
    "\n",
    "* Tick是Tick標籤的* location *。\n",
    "*刻度線是表示刻度線位置的線。\n",
    "*刻度標籤是在該刻度處顯示的文本。\n",
    "* A [`Ticker`]自動確定Axis的刻度並格式化刻度標籤。\n",
    "[`tick_params（）`]通常用於説明配置代碼。\n"
   ]
  },
  {
   "cell_type": "code",
   "execution_count": null,
   "metadata": {},
   "outputs": [],
   "source": [
    "fig, ax = plt.subplots()\n",
    "ax.plot([1, 2, 3, 4], [10, 20, 25, 30])\n",
    "\n",
    "# Manually set ticks and tick labels *on the x-axis* (note ax.xaxis.set, not ax.set!)\n",
    "ax.xaxis.set(ticks=range(1, 5), ticklabels=[3, 100, -12, \"foo\"]) \n",
    "\n",
    "# Make the y-ticks a bit longer and go both in and out...\n",
    "ax.tick_params(axis='y', direction='inout', length=10)\n",
    "\n",
    "plt.show()"
   ]
  },
  {
   "cell_type": "code",
   "execution_count": null,
   "metadata": {},
   "outputs": [],
   "source": [
    "data = [('apples', 2), ('oranges', 3), ('peaches', 1)]\n",
    "fruit, value = zip(*data)\n",
    "\n",
    "fig, ax = plt.subplots()\n",
    "ax.bar(fruit, value, align='center', color='gray')\n",
    "plt.show()"
   ]
  },
  {
   "cell_type": "markdown",
   "metadata": {},
   "source": [
    "## Subplot Spacing\n",
    "The spacing between the subplots can be adjusted using [`fig.subplots_adjust()`](http://matplotlib.org/api/pyplot_api.html?#matplotlib.pyplot.subplots_adjust). Play around with the example below to see how the different arguments affect the spacing."
   ]
  },
  {
   "cell_type": "code",
   "execution_count": null,
   "metadata": {},
   "outputs": [],
   "source": [
    "fig, axes = plt.subplots(2, 2, figsize=(9, 9))\n",
    "fig.subplots_adjust(wspace=0.5, hspace=0.3,\n",
    "                    left=0.125, right=0.9,\n",
    "                    top=0.9,    bottom=0.1)\n",
    "plt.show()"
   ]
  },
  {
   "cell_type": "markdown",
   "metadata": {},
   "source": [
    "A common \"gotcha\" is that the labels are not automatically adjusted to avoid overlapping those of another subplot. Matplotlib does not currently have any sort of robust layout engine, as it is a design decision to minimize the amount of \"magical plotting\". We intend to let users have complete, 100% control over their plots. LaTeX users would be quite familiar with the amount of frustration that can occur with automatic placement of figures in their documents.\n",
    "\n",
    "That said, there have been some efforts to develop tools that users can use to help address the most common compaints. The \"[Tight Layout](http://matplotlib.org/users/tight_layout_guide.html)\" feature, when invoked, will attempt to resize margins and subplots so that nothing overlaps.\n",
    "\n",
    "If you have multiple subplots, and want to avoid overlapping titles/axis labels/etc, `fig.tight_layout` is a great way to do so:"
   ]
  },
  {
   "cell_type": "code",
   "execution_count": null,
   "metadata": {},
   "outputs": [],
   "source": [
    "def example_plot(ax):\n",
    "    ax.plot([1, 2])\n",
    "    ax.set_xlabel('x-label', fontsize=16)\n",
    "    ax.set_ylabel('y-label', fontsize=8)\n",
    "    ax.set_title('Title', fontsize=24)\n",
    "\n",
    "fig, ((ax1, ax2), (ax3, ax4)) = plt.subplots(nrows=2, ncols=2)\n",
    "example_plot(ax1)\n",
    "example_plot(ax2)\n",
    "example_plot(ax3)\n",
    "example_plot(ax4)\n",
    "\n",
    "# Enable fig.tight_layout to compare...\n",
    "#fig.tight_layout()\n",
    "\n",
    "plt.show()"
   ]
  },
  {
   "cell_type": "markdown",
   "metadata": {},
   "source": [
    "## GridSpec\n",
    "Under the hood, Matplotlib utilizes [`GridSpec`](http://matplotlib.org/api/gridspec_api.html) to lay out the subplots. While `plt.subplots()` is fine for simple cases, sometimes you will need more advanced subplot layouts. In such cases, you should use GridSpec directly. GridSpec is outside the scope of this tutorial, but it is handy to know that it exists. [Here](http://matplotlib.org/users/gridspec.html) is a guide on how to use it."
   ]
  },
  {
   "cell_type": "markdown",
   "metadata": {},
   "source": [
    "## Sharing axes\n",
    "There will be times when you want to have the x axis and/or the y axis of your subplots to be \"shared\". Sharing an axis means that the axis in one or more subplots will be tied together such that any change in one of the axis changes all of the other shared axes. This works very nicely with autoscaling arbitrary datasets that may have overlapping domains. Furthermore, when interacting with the plots (panning and zooming), all of the shared axes will pan and zoom automatically."
   ]
  },
  {
   "cell_type": "code",
   "execution_count": null,
   "metadata": {},
   "outputs": [],
   "source": [
    "fig, (ax1, ax2) = plt.subplots(1, 2, sharex=True, sharey=True)\n",
    "ax1.plot([1, 2, 3, 4], [1, 2, 3, 4])\n",
    "ax2.plot([3, 4, 5, 6], [6, 5, 4, 3])\n",
    "plt.show()"
   ]
  },
  {
   "cell_type": "markdown",
   "metadata": {},
   "source": [
    "## \"Twinning\" axes\n",
    "Sometimes one may want to overlay two plots on the same axes, but the scales may be entirely different. You can simply treat them as separate plots, but then twin them."
   ]
  },
  {
   "cell_type": "code",
   "execution_count": null,
   "metadata": {},
   "outputs": [],
   "source": [
    "fig, ax1 = plt.subplots(1, 1)\n",
    "ax1.plot([1, 2, 3, 4], [1, 2, 3, 4])\n",
    "ax2 = ax1.twinx()\n",
    "ax2.scatter([1, 2, 3, 4], [60, 50, 40, 30])\n",
    "ax1.set(xlabel='X', ylabel='First scale')\n",
    "ax2.set(ylabel='Other scale')\n",
    "plt.show()"
   ]
  },
  {
   "cell_type": "markdown",
   "metadata": {},
   "source": [
    "# Axis Spines\n",
    "Spines are the axis lines for a plot. Each plot can have four spines: \"top\", \"bottom\", \"left\" and \"right\". By default, they are set so that they frame the plot, but they can be individually positioned and configured via the [`set_position()`](http://matplotlib.org/api/spines_api.html#matplotlib.spines.Spine.set_position) method of the spine. Here are some different configurations."
   ]
  },
  {
   "cell_type": "code",
   "execution_count": null,
   "metadata": {},
   "outputs": [],
   "source": [
    "fig, ax = plt.subplots()\n",
    "ax.plot([-2, 2, 3, 4], [-10, 20, 25, 5])\n",
    "ax.spines['top'].set_visible(False)\n",
    "ax.xaxis.set_ticks_position('bottom')  # no ticklines at the top\n",
    "ax.spines['right'].set_visible(False)\n",
    "ax.yaxis.set_ticks_position('left')  # no ticklines on the right\n",
    "\n",
    "# \"outward\"\n",
    "# Move the two remaining spines \"out\" away from the plot by 10 points\n",
    "#ax.spines['bottom'].set_position(('outward', 10))\n",
    "#ax.spines['left'].set_position(('outward', 10))\n",
    "\n",
    "# \"data\"\n",
    "# Have the spines stay intersected at (0,0)\n",
    "#ax.spines['bottom'].set_position(('data', 0))\n",
    "#ax.spines['left'].set_position(('data', 0))\n",
    "\n",
    "# \"axes\"\n",
    "# Have the two remaining spines placed at a fraction of the axes\n",
    "#ax.spines['bottom'].set_position(('axes', 0.75))\n",
    "#ax.spines['left'].set_position(('axes', 0.3))\n",
    "\n",
    "plt.show()"
   ]
  },
  {
   "cell_type": "markdown",
   "metadata": {},
   "source": [
    "# Exercise 4.2\n",
    "\n",
    "This one is a bit trickier.  Once again, try to reproduce the figure below:\n",
    "\n",
    "<img src=\"images/exercise_4-2.png\">\n",
    "\n",
    "\n",
    "A few key hints: The two subplots have no vertical space between them (this means that the `hspace` is `0`). Note that the bottom spine is at 0 in data coordinates and the tick lines are missing from the right and top sides.\n",
    "\n",
    "Because you're going to be doing a lot of the same things to both subplots, to avoid repitive code you might consider writing a function that takes an `Axes` object and makes the spine changes, etc to it. \n",
    "\n"
   ]
  },
  {
   "cell_type": "code",
   "execution_count": null,
   "metadata": {},
   "outputs": [],
   "source": [
    "%load exercises/4.2-spines_ticks_and_subplot_spacing.py"
   ]
  },
  {
   "cell_type": "code",
   "execution_count": null,
   "metadata": {},
   "outputs": [],
   "source": [
    "import matplotlib.pyplot as plt\n",
    "import numpy as np\n",
    "\n",
    "# Try to reproduce the figure shown in images/exercise_4.2.png\n",
    "# This one is a bit trickier!\n",
    "\n",
    "# Here's the data...\n",
    "data = [('dogs', 4, 4), ('frogs', -3, 1), ('cats', 1, 5), ('goldfish', -2, 2)]\n",
    "animals, friendliness, popularity = zip(*data)"
   ]
  }
 ],
 "metadata": {
  "kernelspec": {
   "display_name": "Python 3",
   "language": "python",
   "name": "python3"
  },
  "language_info": {
   "codemirror_mode": {
    "name": "ipython",
    "version": 3
   },
   "file_extension": ".py",
   "mimetype": "text/x-python",
   "name": "python",
   "nbconvert_exporter": "python",
   "pygments_lexer": "ipython3",
   "version": "3.6.5"
  }
 },
 "nbformat": 4,
 "nbformat_minor": 1
}
