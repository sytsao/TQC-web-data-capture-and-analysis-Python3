{
 "cells": [
  {
   "cell_type": "markdown",
   "metadata": {
    "slideshow": {
     "slide_type": "slide"
    }
   },
   "source": [
    "## Using APIs"
   ]
  },
  {
   "cell_type": "markdown",
   "metadata": {
    "slideshow": {
     "slide_type": "fragment"
    }
   },
   "source": [
    "What are APIs?\n",
    "\n",
    "Structured ways people can give you their data."
   ]
  },
  {
   "cell_type": "markdown",
   "metadata": {
    "slideshow": {
     "slide_type": "slide"
    }
   },
   "source": [
    "Why?\n",
    "\n",
    "Usually because they want to help web/mobile developers attract more users to their service."
   ]
  },
  {
   "cell_type": "markdown",
   "metadata": {},
   "source": [
    "Twitter doesn't have an API to help you out.\n",
    "\n",
    "They want developers to build apps to drive more eyeballs to their service."
   ]
  },
  {
   "cell_type": "markdown",
   "metadata": {
    "slideshow": {
     "slide_type": "slide"
    }
   },
   "source": [
    "![](https://raw.github.com/nealcaren/workshop_2014/master/notebooks/images/times_inequality.png)"
   ]
  },
  {
   "cell_type": "markdown",
   "metadata": {
    "slideshow": {
     "slide_type": "slide"
    }
   },
   "source": [
    "No love with the scrape!!!\n",
    "\n",
    "![](https://raw.github.com/nealcaren/workshop_2014/master/notebooks/images/no_luck.png)"
   ]
  },
  {
   "cell_type": "code",
   "execution_count": 1,
   "metadata": {
    "slideshow": {
     "slide_type": "slide"
    }
   },
   "outputs": [],
   "source": [
    "import requests"
   ]
  },
  {
   "cell_type": "markdown",
   "metadata": {
    "slideshow": {
     "slide_type": "slide"
    }
   },
   "source": [
    "Do me a favor and sign up to be a [developer](http://developer.nytimes.com) with the New York Times and get your own API key."
   ]
  },
  {
   "cell_type": "code",
   "execution_count": 1,
   "metadata": {},
   "outputs": [],
   "source": [
    "my_times_api_key = 'YOUR-API-GOES-HERE'"
   ]
  },
  {
   "cell_type": "markdown",
   "metadata": {
    "slideshow": {
     "slide_type": "slide"
    }
   },
   "source": [
    "APIs can be accessed like a normal URL, but they are often very long, complicated, and involve variables you want to change. For example, you can get the information about the first 10 articles published in the New York Times that used the word inequality with:\n",
    "\n",
    "[http://api.nytimes.com/svc/search/v2/articlesearch.json?sort=newest&begin_date=20130101&end_date=20131231&api-key=d20bc9ac37156ecc4cb3d78eb956201d%3A0%3A54059647&q=inequality&page=0](http://api.nytimes.com/svc/search/v2/articlesearch.json?sort=newest&begin_date=20130101&end_date=20131231&api-key=d20bc9ac37156ecc4cb3d78eb956201d%3A0%3A54059647&q=inequality&page=0)\n",
    "\n",
    "Requests allows you to do this in a more civilized way."
   ]
  },
  {
   "cell_type": "code",
   "execution_count": 16,
   "metadata": {
    "slideshow": {
     "slide_type": "slide"
    }
   },
   "outputs": [],
   "source": [
    "payload = {'q'         : 'inequality', \n",
    "           'begin_date': '20130101' ,\n",
    "           'end_date'  : '20131231',\n",
    "           'api-key'   :  my_times_api_key,\n",
    "           'sort'      : 'oldest' ,\n",
    "           'offset'    :  20}\n",
    "\n",
    "base_url = 'http://api.nytimes.com/svc/search/v2/articlesearch.json?'"
   ]
  },
  {
   "cell_type": "code",
   "execution_count": 17,
   "metadata": {},
   "outputs": [
    {
     "data": {
      "text/plain": [
       "u'http://api.nytimes.com/svc/search/v2/articlesearch.json?sort=oldest&begin_date=20130101&end_date=20131231&api-key=d20bc9ac37156ecc4cb3d78eb956201d%3A0%3A54059647&q=inequality&offset=20'"
      ]
     },
     "execution_count": 17,
     "metadata": {},
     "output_type": "execute_result"
    }
   ],
   "source": [
    "r = requests.get(base_url, params = payload)\n",
    "\n",
    "r.url"
   ]
  },
  {
   "cell_type": "code",
   "execution_count": 18,
   "metadata": {
    "slideshow": {
     "slide_type": "slide"
    }
   },
   "outputs": [
    {
     "data": {
      "text/plain": [
       "u'{\"response\":{\"meta\":{\"hits\":1255,\"time\":371,\"offset\":0},\"docs\":[{\"web_url\":\"http:\\\\/\\\\/www.nytimes.com\\\\/2013\\\\/01\\\\/01\\\\/opinion\\\\/struggling-to-get-a-college-degree.html\",\"snippet\":\"Readers react to a front-page article describing the travails of three low-income students attending college.\",\"lead_paragraph\":\"Readers react to a front-page article describing the travails of three low-income students attending college.\",\"abstract\":null,\"print_page\":\"18\",\"blog\":[],\"source\":\"The New York Times\",\"multimedia\":[],\"headline\":{\"main\":\"Struggling to Get a College Degree\",\"kicker\":\"Letters\"},\"keywords\":[{\"value\":\"Student Loans\",\"name\":\"subject\",\"rank\":\"4\"},{\"value\":\"Graduation Rates\",\"name\":\"subject\",\"rank\":\"2\"},{\"value\":\"Income\",\"name\":\"subject\",\"rank\":\"5\"},{\"value\":\"Colleges and Universities\",\"name\":\"subject\",\"rank\":\"1\"},{\"value\":\"Income Inequality\",\"name\":\"subject\",\"rank\":\"6\"},{\"value\":\"Scholarships and Fellowships\",\"name\":\"subject\",\"rank\":\"3\"}],\"pub_date\":\"2013-01-01T00:00:00Z\",\"document_type\":\"article\",\"news_desk\":null,\"section_name\":\"Opinion\",\"subsection_name\":null,\"byline\":[],\"type_of_material\":\"Letter\",\"_id\":\"50e2389500315214fbb81e4c\",\"word_count\":602},{\"web_url\":\"http:\\\\/\\\\/www.nytimes.com\\\\/aponline\\\\/2013\\\\/01\\\\/01\\\\/world\\\\/europe\\\\/ap-eu-vatican-new-years.html\",\"snippet\":\"Pope Benedict XVI said Tuesday he is convinced that peace will prevail in 2013, despite the inequality, terrorism and \\\\\"unregulated financial capitalism\\\\\" that afflict the world today.\",\"lead_paragraph\":\"Pope Benedict XVI said Tuesday he is convinced that peace will prevail in 2013, despite the inequality, terrorism and \\\\\"unregulated financial capitalism\\\\\" that afflict the world today.\",\"abstract\":null,\"print_page\":null,\"blog\":[],\"source\":\"AP\",\"multimedia\":[],\"headline\":{\"main\":\"Pope Convinced of Peace in 2013 Despite World Woes\"},\"keywords\":[],\"pub_date\":\"2013-01-01T04:31:19Z\",\"document_type\":\"article\",\"news_desk\":null,\"section_name\":\"World\",\"subsection_name\":null,\"byline\":{\"organization\":\"THE ASSOCIATED PRESS\",\"original\":\"By THE ASSOCIATED PRESS\",\"person\":[]},\"type_of_material\":\"\",\"_id\":\"50e2af0f00315214fbb81ecb\",\"word_count\":210},{\"web_url\":\"http:\\\\/\\\\/www.nytimes.com\\\\/reuters\\\\/2013\\\\/01\\\\/01\\\\/world\\\\/europe\\\\/01reuters-pope.html\",\"snippet\":\"Pope Benedict said in his New Year\\'s message on Tuesday he hoped 2013 would be a year of peace and that the world was under threat from unbridled capitalism, terrorism and criminality.\",\"lead_paragraph\":\"Pope Benedict said in his New Year\\'s message on Tuesday he hoped 2013 would be a year of peace and that the world was under threat from unbridled capitalism, terrorism and criminality.\",\"abstract\":null,\"print_page\":null,\"blog\":[],\"source\":\"Reuters\",\"multimedia\":[],\"headline\":{\"main\":\"Pope Hopes for 2013 of Peace, Slams Unbridled Capitalism\"},\"keywords\":[],\"pub_date\":\"2013-01-01T07:20:08Z\",\"document_type\":\"article\",\"news_desk\":null,\"section_name\":\"World\",\"subsection_name\":null,\"byline\":{\"organization\":\"REUTERS\",\"original\":\"By REUTERS\",\"person\":[]},\"type_of_material\":\"\",\"_id\":\"50e2d62b00315214fbb81ee7\",\"word_count\":442},{\"web_url\":\"http:\\\\/\\\\/www.nytimes.com\\\\/reuters\\\\/2013\\\\/01\\\\/02\\\\/world\\\\/middleeast\\\\/02reuters-oman-abortion.html\",\"snippet\":\"When unmarried 19-year-old Sama got pregnant, she ran away from home to have an abortion rather than face family wrath.\",\"lead_paragraph\":\"When unmarried 19-year-old Sama got pregnant, she ran away from home to have an abortion rather than face family wrath.\",\"abstract\":null,\"print_page\":null,\"blog\":[],\"source\":\"Reuters\",\"multimedia\":[],\"headline\":{\"main\":\"Taboo on Premarital Sex Can Lead to Tragedy in Changing Oman\"},\"keywords\":[],\"pub_date\":\"2013-01-02T16:15:08Z\",\"document_type\":\"article\",\"news_desk\":null,\"section_name\":\"World\",\"subsection_name\":null,\"byline\":{\"organization\":\"REUTERS\",\"original\":\"By REUTERS\",\"person\":[]},\"type_of_material\":\"\",\"_id\":\"50e4a7c600315214fbb82197\",\"word_count\":1141},{\"web_url\":\"http:\\\\/\\\\/www.nytimes.com\\\\/2013\\\\/01\\\\/03\\\\/us\\\\/politics\\\\/for-obama-fiscal-deal-is-a-victory-that-also-holds-risks.html\",\"snippet\":\"The new fiscal deal holds small victories for President Obama and his Democratic allies in Congress that further their policy aims, but Mr. Obama lost some leverage for future battles.\",\"lead_paragraph\":\"The new fiscal deal holds small victories for President Obama and his Democratic allies in Congress that further their policy aims, but Mr. Obama lost some leverage for future battles.\",\"abstract\":null,\"print_page\":\"16\",\"blog\":[],\"source\":\"The New York Times\",\"multimedia\":[{\"subtype\":\"xlarge\",\"url\":\"images\\\\/2013\\\\/01\\\\/03\\\\/us\\\\/OBAMA\\\\/OBAMA-articleLarge-v2.jpg\",\"height\":388,\"width\":600,\"legacy\":{\"xlargewidth\":\"600\",\"xlarge\":\"images\\\\/2013\\\\/01\\\\/03\\\\/us\\\\/OBAMA\\\\/OBAMA-articleLarge-v2.jpg\",\"xlargeheight\":\"388\"},\"type\":\"image\"},{\"subtype\":\"thumbnail\",\"url\":\"images\\\\/2013\\\\/01\\\\/03\\\\/us\\\\/OBAMA\\\\/OBAMA-thumbStandard.jpg\",\"height\":75,\"width\":75,\"legacy\":{\"thumbnailheight\":\"75\",\"thumbnail\":\"images\\\\/2013\\\\/01\\\\/03\\\\/us\\\\/OBAMA\\\\/OBAMA-thumbStandard.jpg\",\"thumbnailwidth\":\"75\"},\"type\":\"image\"}],\"headline\":{\"seo\":\"For Obama, Fiscal Deal Is a Victory That Also Holds Risks\",\"main\":\"For Obama, a Victory That Also Holds Risks\",\"kicker\":\"News Analysis\"},\"keywords\":[{\"value\":\"Income Tax\",\"is_major\":\"N\",\"rank\":\"5\",\"name\":\"subject\"},{\"value\":\"National Debt (US)\",\"is_major\":\"N\",\"rank\":\"3\",\"name\":\"subject\"},{\"value\":\"Obama, Barack\",\"is_major\":\"Y\",\"rank\":\"1\",\"name\":\"persons\"},{\"value\":\"Federal Budget (US)\",\"is_major\":\"Y\",\"rank\":\"2\",\"name\":\"subject\"},{\"value\":\"Income Inequality\",\"is_major\":\"N\",\"rank\":\"4\",\"name\":\"subject\"}],\"pub_date\":\"2013-01-03T00:00:00Z\",\"document_type\":\"article\",\"news_desk\":\"National\",\"section_name\":\"U.S.\",\"subsection_name\":null,\"byline\":{\"contributor\":\"Jonathan Weisman contributed reporting.\",\"person\":[{\"organization\":\"\",\"role\":\"reported\",\"rank\":1,\"firstname\":\"David\",\"lastname\":\"LEONHARDT\"}],\"original\":\"By DAVID LEONHARDT\"},\"type_of_material\":\"An Analysis; News Analysis\",\"_id\":\"50e4ef3600315214fbb8223c\",\"word_count\":\"1111\"},{\"web_url\":\"http:\\\\/\\\\/bittman.blogs.nytimes.com\\\\/2013\\\\/01\\\\/03\\\\/a-months-worth-of-links-for-new-year\\\\/\",\"snippet\":\"Some farming, health and GMO news to usher you into 2013.\",\"lead_paragraph\":null,\"abstract\":\"Some farming, health and GMO news to usher you into 2013.\",\"print_page\":null,\"blog\":[],\"source\":\"The New York Times\",\"multimedia\":[],\"headline\":{\"main\":\"A Month\\'s Worth of Links for New Year\",\"kicker\":\"Mark Bittman\"},\"keywords\":[{\"rank\":\"1\",\"name\":\"persons\",\"value\":\"Boxer, Barbara\"},{\"rank\":\"2\",\"name\":\"persons\",\"value\":\"Philpott, Tom\"},{\"rank\":\"1\",\"name\":\"glocations\",\"value\":\"Colorado River\"},{\"rank\":\"4\",\"name\":\"glocations\",\"value\":\"National Petroleum Reserve (Alaska)\"},{\"rank\":\"3\",\"name\":\"glocations\",\"value\":\"India\"},{\"rank\":\"2\",\"name\":\"glocations\",\"value\":\"Doha (Qatar)\"},{\"rank\":\"6\",\"name\":\"glocations\",\"value\":\"Wyoming\"},{\"rank\":\"5\",\"name\":\"glocations\",\"value\":\"Pakistan\"},{\"rank\":\"5\",\"name\":\"organizations\",\"value\":\"Kansas City Star\"},{\"rank\":\"6\",\"name\":\"organizations\",\"value\":\"Monsanto Company\"},{\"rank\":\"8\",\"name\":\"organizations\",\"value\":\"PepsiCo Inc\"},{\"rank\":\"7\",\"name\":\"organizations\",\"value\":\"Obesity (Journal)\"},{\"rank\":\"9\",\"name\":\"organizations\",\"value\":\"United Nations\"},{\"rank\":\"2\",\"name\":\"organizations\",\"value\":\"Dominos Pizza Inc\"},{\"rank\":\"3\",\"name\":\"organizations\",\"value\":\"Environmental Protection Agency\"},{\"rank\":\"4\",\"name\":\"organizations\",\"value\":\"Food and Drug Administration\"},{\"rank\":\"1\",\"name\":\"organizations\",\"value\":\"AquaBounty Technologies\"},{\"rank\":\"10\",\"name\":\"organizations\",\"value\":\"Wal-Mart Stores Inc\"},{\"rank\":\"3\",\"name\":\"subject\",\"value\":\"Diet and Nutrition\"},{\"rank\":\"2\",\"name\":\"subject\",\"value\":\"Aurora, Colo, Shooting (2012)\"},{\"rank\":\"8\",\"name\":\"subject\",\"value\":\"Soft Drinks\"},{\"rank\":\"5\",\"name\":\"subject\",\"value\":\"Newtown, Conn, Shooting (2012)\"},{\"rank\":\"4\",\"name\":\"subject\",\"value\":\"Greenhouse Gas Emissions\"},{\"rank\":\"1\",\"name\":\"subject\",\"value\":\"Antibiotics\"},{\"rank\":\"7\",\"name\":\"subject\",\"value\":\"Poverty\"},{\"rank\":\"6\",\"name\":\"subject\",\"value\":\"Obesity\"}],\"pub_date\":\"2013-01-03T16:29:38Z\",\"document_type\":\"blogpost\",\"news_desk\":null,\"section_name\":\"Opinion\",\"subsection_name\":null,\"byline\":{\"person\":[{\"organization\":\"\",\"role\":\"reported\",\"firstname\":\"Mark\",\"rank\":1,\"lastname\":\"BITTMAN\"}],\"original\":\"By MARK BITTMAN\"},\"type_of_material\":\"Blog\",\"_id\":\"50e5f9c600315214fbb8247e\",\"word_count\":\"1182\"},{\"web_url\":\"http:\\\\/\\\\/www.nytimes.com\\\\/roomfordebate\\\\/2013\\\\/01\\\\/03\\\\/venezuela-post-chavez\\\\/\",\"snippet\":\"What sorts of social, economic and foreign relations issues must Venezuela\\'s next president confront in order to guarantee a smooth transition?\",\"lead_paragraph\":\"\",\"abstract\":\"What sorts of social, economic and foreign relations issues must Venezuela\\'s next president confront in order to guarantee a smooth transition?\",\"print_page\":null,\"blog\":[],\"source\":\"The New York Times\",\"multimedia\":[],\"headline\":{\"main\":\"The Future of Venezuela\",\"kicker\":\"Room For Debate\"},\"keywords\":[{\"value\":\"News\",\"name\":\"type_of_material\",\"rank\":\"1\"}],\"pub_date\":\"2013-01-03T19:11:49Z\",\"document_type\":\"blogpost\",\"news_desk\":null,\"section_name\":\"Opinion\",\"subsection_name\":null,\"byline\":null,\"type_of_material\":\"Blog\",\"_id\":\"5136a39dcf28d009de003a55\",\"word_count\":\"3881\"},{\"web_url\":\"http:\\\\/\\\\/www.nytimes.com\\\\/aponline\\\\/2013\\\\/01\\\\/03\\\\/us\\\\/ap-us-obit-lerner.html\",\"snippet\":\"Gerda Lerner, a pioneer in the field of women\\'s history and a founding member of the National Organization for Women, has died in Wisconsin, her son said Thursday. She was 92.\",\"lead_paragraph\":\"Gerda Lerner, a pioneer in the field of women\\'s history and a founding member of the National Organization for Women, has died in Wisconsin, her son said Thursday. She was 92.\",\"abstract\":null,\"print_page\":null,\"blog\":[],\"source\":\"AP\",\"multimedia\":[],\"headline\":{\"main\":\"Women\\'s History Pioneer Gerda Lerner Dies at 92\"},\"keywords\":[],\"pub_date\":\"2013-01-03T20:26:09Z\",\"document_type\":\"article\",\"news_desk\":\"None\",\"section_name\":\"U.S.\",\"subsection_name\":null,\"byline\":{\"organization\":\"THE ASSOCIATED PRESS\",\"original\":\"By THE ASSOCIATED PRESS\",\"person\":[]},\"type_of_material\":\"\",\"_id\":\"50e6312d00315214fbb8251a\",\"word_count\":795},{\"web_url\":\"http:\\\\/\\\\/www.nytimes.com\\\\/2013\\\\/01\\\\/04\\\\/opinion\\\\/kurgman-battles-of-the-budget.html\",\"snippet\":\"Let\\\\u2019s put the cliff deal, which was part of a larger class war, in perspective.\",\"lead_paragraph\":\"Let\\\\u2019s put the cliff deal, which was part of a larger class war, in perspective.\",\"abstract\":null,\"print_page\":\"23\",\"blog\":[],\"source\":\"The New York Times\",\"multimedia\":[{\"subtype\":\"wide\",\"url\":\"images\\\\/2010\\\\/09\\\\/16\\\\/opinion\\\\/Krugman_New\\\\/Krugman_New-thumbWide.jpg\",\"height\":126,\"width\":190,\"legacy\":{\"wide\":\"images\\\\/2010\\\\/09\\\\/16\\\\/opinion\\\\/Krugman_New\\\\/Krugman_New-thumbWide.jpg\",\"wideheight\":\"126\",\"widewidth\":\"190\"},\"type\":\"image\"},{\"subtype\":\"xlarge\",\"url\":\"images\\\\/2010\\\\/09\\\\/16\\\\/opinion\\\\/Krugman_New\\\\/Krugman_New-articleLarge.jpg\",\"height\":900,\"width\":600,\"legacy\":{\"xlargewidth\":\"600\",\"xlarge\":\"images\\\\/2010\\\\/09\\\\/16\\\\/opinion\\\\/Krugman_New\\\\/Krugman_New-articleLarge.jpg\",\"xlargeheight\":\"900\"},\"type\":\"image\"},{\"subtype\":\"thumbnail\",\"url\":\"images\\\\/2010\\\\/09\\\\/16\\\\/opinion\\\\/Krugman_New\\\\/Krugman_New-thumbStandard-v2.jpg\",\"height\":75,\"width\":75,\"legacy\":{\"thumbnailheight\":\"75\",\"thumbnail\":\"images\\\\/2010\\\\/09\\\\/16\\\\/opinion\\\\/Krugman_New\\\\/Krugman_New-thumbStandard-v2.jpg\",\"thumbnailwidth\":\"75\"},\"type\":\"image\"}],\"headline\":{\"seo\":\"Battles of the Budget\",\"main\":\"Battles of the Budget\",\"kicker\":\"Op-Ed Columnist\",\"print_headline\":\"Battles Of The Budget\"},\"keywords\":[{\"value\":\"United States Politics and Government\",\"is_major\":\"N\",\"rank\":\"5\",\"name\":\"subject\"},{\"value\":\"Senate\",\"is_major\":\"N\",\"rank\":\"7\",\"name\":\"organizations\"},{\"value\":\"Obama, Barack\",\"is_major\":\"N\",\"rank\":\"3\",\"name\":\"persons\"},{\"value\":\"House of Representatives\",\"is_major\":\"N\",\"rank\":\"6\",\"name\":\"organizations\"},{\"value\":\"Federal Budget (US)\",\"is_major\":\"Y\",\"rank\":\"1\",\"name\":\"subject\"},{\"value\":\"National Debt (US)\",\"is_major\":\"N\",\"rank\":\"2\",\"name\":\"subject\"},{\"value\":\"Law and Legislation\",\"is_major\":\"N\",\"rank\":\"4\",\"name\":\"subject\"}],\"pub_date\":\"2013-01-04T00:00:00Z\",\"document_type\":\"article\",\"news_desk\":\"Editorial\",\"section_name\":\"Opinion\",\"subsection_name\":null,\"byline\":{\"contributor\":\"\",\"person\":[{\"organization\":\"\",\"role\":\"reported\",\"rank\":1,\"firstname\":\"Paul\",\"lastname\":\"KRUGMAN\"}],\"original\":\"By PAUL KRUGMAN\"},\"type_of_material\":\"Op-Ed\",\"_id\":\"50e63a7f00315214fbb82536\",\"word_count\":\"816\"},{\"web_url\":\"http:\\\\/\\\\/www.nytimes.com\\\\/aponline\\\\/2013\\\\/01\\\\/04\\\\/us\\\\/ap-us-obit-lerner.html\",\"snippet\":\"Gerda Lerner spent her 18th birthday in a Nazi prison, sharing a cell with two gentile women arrested for political work who shared their food with the Jewish teenager because jailers restricted rations for Jews.\",\"lead_paragraph\":\"Gerda Lerner spent her 18th birthday in a Nazi prison, sharing a cell with two gentile women arrested for political work who shared their food with the Jewish teenager because jailers restricted rations for Jews.\",\"abstract\":null,\"print_page\":null,\"blog\":[],\"source\":\"AP\",\"multimedia\":[],\"headline\":{\"main\":\"Women\\'s History Pioneer Gerda Lerner Dies at 92\"},\"keywords\":[],\"pub_date\":\"2013-01-04T03:07:26Z\",\"document_type\":\"article\",\"news_desk\":\"None\",\"section_name\":\"U.S.\",\"subsection_name\":null,\"byline\":{\"organization\":\"THE ASSOCIATED PRESS\",\"original\":\"By THE ASSOCIATED PRESS\",\"person\":[]},\"type_of_material\":\"\",\"_id\":\"50e68ee400315214fbb825a6\",\"word_count\":835}]},\"status\":\"OK\",\"copyright\":\"Copyright (c) 2013 The New York Times Company.  All Rights Reserved.\"}'"
      ]
     },
     "execution_count": 18,
     "metadata": {},
     "output_type": "execute_result"
    }
   ],
   "source": [
    "r.text"
   ]
  },
  {
   "cell_type": "code",
   "execution_count": 19,
   "metadata": {
    "slideshow": {
     "slide_type": "slide"
    }
   },
   "outputs": [
    {
     "data": {
      "text/plain": [
       "{u'copyright': u'Copyright (c) 2013 The New York Times Company.  All Rights Reserved.',\n",
       " u'response': {u'docs': [{u'_id': u'50e2389500315214fbb81e4c',\n",
       "    u'abstract': None,\n",
       "    u'blog': [],\n",
       "    u'byline': [],\n",
       "    u'document_type': u'article',\n",
       "    u'headline': {u'kicker': u'Letters',\n",
       "     u'main': u'Struggling to Get a College Degree'},\n",
       "    u'keywords': [{u'name': u'subject',\n",
       "      u'rank': u'4',\n",
       "      u'value': u'Student Loans'},\n",
       "     {u'name': u'subject', u'rank': u'2', u'value': u'Graduation Rates'},\n",
       "     {u'name': u'subject', u'rank': u'5', u'value': u'Income'},\n",
       "     {u'name': u'subject',\n",
       "      u'rank': u'1',\n",
       "      u'value': u'Colleges and Universities'},\n",
       "     {u'name': u'subject', u'rank': u'6', u'value': u'Income Inequality'},\n",
       "     {u'name': u'subject',\n",
       "      u'rank': u'3',\n",
       "      u'value': u'Scholarships and Fellowships'}],\n",
       "    u'lead_paragraph': u'Readers react to a front-page article describing the travails of three low-income students attending college.',\n",
       "    u'multimedia': [],\n",
       "    u'news_desk': None,\n",
       "    u'print_page': u'18',\n",
       "    u'pub_date': u'2013-01-01T00:00:00Z',\n",
       "    u'section_name': u'Opinion',\n",
       "    u'snippet': u'Readers react to a front-page article describing the travails of three low-income students attending college.',\n",
       "    u'source': u'The New York Times',\n",
       "    u'subsection_name': None,\n",
       "    u'type_of_material': u'Letter',\n",
       "    u'web_url': u'http://www.nytimes.com/2013/01/01/opinion/struggling-to-get-a-college-degree.html',\n",
       "    u'word_count': 602},\n",
       "   {u'_id': u'50e2af0f00315214fbb81ecb',\n",
       "    u'abstract': None,\n",
       "    u'blog': [],\n",
       "    u'byline': {u'organization': u'THE ASSOCIATED PRESS',\n",
       "     u'original': u'By THE ASSOCIATED PRESS',\n",
       "     u'person': []},\n",
       "    u'document_type': u'article',\n",
       "    u'headline': {u'main': u'Pope Convinced of Peace in 2013 Despite World Woes'},\n",
       "    u'keywords': [],\n",
       "    u'lead_paragraph': u'Pope Benedict XVI said Tuesday he is convinced that peace will prevail in 2013, despite the inequality, terrorism and \"unregulated financial capitalism\" that afflict the world today.',\n",
       "    u'multimedia': [],\n",
       "    u'news_desk': None,\n",
       "    u'print_page': None,\n",
       "    u'pub_date': u'2013-01-01T04:31:19Z',\n",
       "    u'section_name': u'World',\n",
       "    u'snippet': u'Pope Benedict XVI said Tuesday he is convinced that peace will prevail in 2013, despite the inequality, terrorism and \"unregulated financial capitalism\" that afflict the world today.',\n",
       "    u'source': u'AP',\n",
       "    u'subsection_name': None,\n",
       "    u'type_of_material': u'',\n",
       "    u'web_url': u'http://www.nytimes.com/aponline/2013/01/01/world/europe/ap-eu-vatican-new-years.html',\n",
       "    u'word_count': 210},\n",
       "   {u'_id': u'50e2d62b00315214fbb81ee7',\n",
       "    u'abstract': None,\n",
       "    u'blog': [],\n",
       "    u'byline': {u'organization': u'REUTERS',\n",
       "     u'original': u'By REUTERS',\n",
       "     u'person': []},\n",
       "    u'document_type': u'article',\n",
       "    u'headline': {u'main': u'Pope Hopes for 2013 of Peace, Slams Unbridled Capitalism'},\n",
       "    u'keywords': [],\n",
       "    u'lead_paragraph': u\"Pope Benedict said in his New Year's message on Tuesday he hoped 2013 would be a year of peace and that the world was under threat from unbridled capitalism, terrorism and criminality.\",\n",
       "    u'multimedia': [],\n",
       "    u'news_desk': None,\n",
       "    u'print_page': None,\n",
       "    u'pub_date': u'2013-01-01T07:20:08Z',\n",
       "    u'section_name': u'World',\n",
       "    u'snippet': u\"Pope Benedict said in his New Year's message on Tuesday he hoped 2013 would be a year of peace and that the world was under threat from unbridled capitalism, terrorism and criminality.\",\n",
       "    u'source': u'Reuters',\n",
       "    u'subsection_name': None,\n",
       "    u'type_of_material': u'',\n",
       "    u'web_url': u'http://www.nytimes.com/reuters/2013/01/01/world/europe/01reuters-pope.html',\n",
       "    u'word_count': 442},\n",
       "   {u'_id': u'50e4a7c600315214fbb82197',\n",
       "    u'abstract': None,\n",
       "    u'blog': [],\n",
       "    u'byline': {u'organization': u'REUTERS',\n",
       "     u'original': u'By REUTERS',\n",
       "     u'person': []},\n",
       "    u'document_type': u'article',\n",
       "    u'headline': {u'main': u'Taboo on Premarital Sex Can Lead to Tragedy in Changing Oman'},\n",
       "    u'keywords': [],\n",
       "    u'lead_paragraph': u'When unmarried 19-year-old Sama got pregnant, she ran away from home to have an abortion rather than face family wrath.',\n",
       "    u'multimedia': [],\n",
       "    u'news_desk': None,\n",
       "    u'print_page': None,\n",
       "    u'pub_date': u'2013-01-02T16:15:08Z',\n",
       "    u'section_name': u'World',\n",
       "    u'snippet': u'When unmarried 19-year-old Sama got pregnant, she ran away from home to have an abortion rather than face family wrath.',\n",
       "    u'source': u'Reuters',\n",
       "    u'subsection_name': None,\n",
       "    u'type_of_material': u'',\n",
       "    u'web_url': u'http://www.nytimes.com/reuters/2013/01/02/world/middleeast/02reuters-oman-abortion.html',\n",
       "    u'word_count': 1141},\n",
       "   {u'_id': u'50e4ef3600315214fbb8223c',\n",
       "    u'abstract': None,\n",
       "    u'blog': [],\n",
       "    u'byline': {u'contributor': u'Jonathan Weisman contributed reporting.',\n",
       "     u'original': u'By DAVID LEONHARDT',\n",
       "     u'person': [{u'firstname': u'David',\n",
       "       u'lastname': u'LEONHARDT',\n",
       "       u'organization': u'',\n",
       "       u'rank': 1,\n",
       "       u'role': u'reported'}]},\n",
       "    u'document_type': u'article',\n",
       "    u'headline': {u'kicker': u'News Analysis',\n",
       "     u'main': u'For Obama, a Victory That Also Holds Risks',\n",
       "     u'seo': u'For Obama, Fiscal Deal Is a Victory That Also Holds Risks'},\n",
       "    u'keywords': [{u'is_major': u'N',\n",
       "      u'name': u'subject',\n",
       "      u'rank': u'5',\n",
       "      u'value': u'Income Tax'},\n",
       "     {u'is_major': u'N',\n",
       "      u'name': u'subject',\n",
       "      u'rank': u'3',\n",
       "      u'value': u'National Debt (US)'},\n",
       "     {u'is_major': u'Y',\n",
       "      u'name': u'persons',\n",
       "      u'rank': u'1',\n",
       "      u'value': u'Obama, Barack'},\n",
       "     {u'is_major': u'Y',\n",
       "      u'name': u'subject',\n",
       "      u'rank': u'2',\n",
       "      u'value': u'Federal Budget (US)'},\n",
       "     {u'is_major': u'N',\n",
       "      u'name': u'subject',\n",
       "      u'rank': u'4',\n",
       "      u'value': u'Income Inequality'}],\n",
       "    u'lead_paragraph': u'The new fiscal deal holds small victories for President Obama and his Democratic allies in Congress that further their policy aims, but Mr. Obama lost some leverage for future battles.',\n",
       "    u'multimedia': [{u'height': 388,\n",
       "      u'legacy': {u'xlarge': u'images/2013/01/03/us/OBAMA/OBAMA-articleLarge-v2.jpg',\n",
       "       u'xlargeheight': u'388',\n",
       "       u'xlargewidth': u'600'},\n",
       "      u'subtype': u'xlarge',\n",
       "      u'type': u'image',\n",
       "      u'url': u'images/2013/01/03/us/OBAMA/OBAMA-articleLarge-v2.jpg',\n",
       "      u'width': 600},\n",
       "     {u'height': 75,\n",
       "      u'legacy': {u'thumbnail': u'images/2013/01/03/us/OBAMA/OBAMA-thumbStandard.jpg',\n",
       "       u'thumbnailheight': u'75',\n",
       "       u'thumbnailwidth': u'75'},\n",
       "      u'subtype': u'thumbnail',\n",
       "      u'type': u'image',\n",
       "      u'url': u'images/2013/01/03/us/OBAMA/OBAMA-thumbStandard.jpg',\n",
       "      u'width': 75}],\n",
       "    u'news_desk': u'National',\n",
       "    u'print_page': u'16',\n",
       "    u'pub_date': u'2013-01-03T00:00:00Z',\n",
       "    u'section_name': u'U.S.',\n",
       "    u'snippet': u'The new fiscal deal holds small victories for President Obama and his Democratic allies in Congress that further their policy aims, but Mr. Obama lost some leverage for future battles.',\n",
       "    u'source': u'The New York Times',\n",
       "    u'subsection_name': None,\n",
       "    u'type_of_material': u'An Analysis; News Analysis',\n",
       "    u'web_url': u'http://www.nytimes.com/2013/01/03/us/politics/for-obama-fiscal-deal-is-a-victory-that-also-holds-risks.html',\n",
       "    u'word_count': u'1111'},\n",
       "   {u'_id': u'50e5f9c600315214fbb8247e',\n",
       "    u'abstract': u'Some farming, health and GMO news to usher you into 2013.',\n",
       "    u'blog': [],\n",
       "    u'byline': {u'original': u'By MARK BITTMAN',\n",
       "     u'person': [{u'firstname': u'Mark',\n",
       "       u'lastname': u'BITTMAN',\n",
       "       u'organization': u'',\n",
       "       u'rank': 1,\n",
       "       u'role': u'reported'}]},\n",
       "    u'document_type': u'blogpost',\n",
       "    u'headline': {u'kicker': u'Mark Bittman',\n",
       "     u'main': u\"A Month's Worth of Links for New Year\"},\n",
       "    u'keywords': [{u'name': u'persons',\n",
       "      u'rank': u'1',\n",
       "      u'value': u'Boxer, Barbara'},\n",
       "     {u'name': u'persons', u'rank': u'2', u'value': u'Philpott, Tom'},\n",
       "     {u'name': u'glocations', u'rank': u'1', u'value': u'Colorado River'},\n",
       "     {u'name': u'glocations',\n",
       "      u'rank': u'4',\n",
       "      u'value': u'National Petroleum Reserve (Alaska)'},\n",
       "     {u'name': u'glocations', u'rank': u'3', u'value': u'India'},\n",
       "     {u'name': u'glocations', u'rank': u'2', u'value': u'Doha (Qatar)'},\n",
       "     {u'name': u'glocations', u'rank': u'6', u'value': u'Wyoming'},\n",
       "     {u'name': u'glocations', u'rank': u'5', u'value': u'Pakistan'},\n",
       "     {u'name': u'organizations', u'rank': u'5', u'value': u'Kansas City Star'},\n",
       "     {u'name': u'organizations', u'rank': u'6', u'value': u'Monsanto Company'},\n",
       "     {u'name': u'organizations', u'rank': u'8', u'value': u'PepsiCo Inc'},\n",
       "     {u'name': u'organizations',\n",
       "      u'rank': u'7',\n",
       "      u'value': u'Obesity (Journal)'},\n",
       "     {u'name': u'organizations', u'rank': u'9', u'value': u'United Nations'},\n",
       "     {u'name': u'organizations',\n",
       "      u'rank': u'2',\n",
       "      u'value': u'Dominos Pizza Inc'},\n",
       "     {u'name': u'organizations',\n",
       "      u'rank': u'3',\n",
       "      u'value': u'Environmental Protection Agency'},\n",
       "     {u'name': u'organizations',\n",
       "      u'rank': u'4',\n",
       "      u'value': u'Food and Drug Administration'},\n",
       "     {u'name': u'organizations',\n",
       "      u'rank': u'1',\n",
       "      u'value': u'AquaBounty Technologies'},\n",
       "     {u'name': u'organizations',\n",
       "      u'rank': u'10',\n",
       "      u'value': u'Wal-Mart Stores Inc'},\n",
       "     {u'name': u'subject', u'rank': u'3', u'value': u'Diet and Nutrition'},\n",
       "     {u'name': u'subject',\n",
       "      u'rank': u'2',\n",
       "      u'value': u'Aurora, Colo, Shooting (2012)'},\n",
       "     {u'name': u'subject', u'rank': u'8', u'value': u'Soft Drinks'},\n",
       "     {u'name': u'subject',\n",
       "      u'rank': u'5',\n",
       "      u'value': u'Newtown, Conn, Shooting (2012)'},\n",
       "     {u'name': u'subject',\n",
       "      u'rank': u'4',\n",
       "      u'value': u'Greenhouse Gas Emissions'},\n",
       "     {u'name': u'subject', u'rank': u'1', u'value': u'Antibiotics'},\n",
       "     {u'name': u'subject', u'rank': u'7', u'value': u'Poverty'},\n",
       "     {u'name': u'subject', u'rank': u'6', u'value': u'Obesity'}],\n",
       "    u'lead_paragraph': None,\n",
       "    u'multimedia': [],\n",
       "    u'news_desk': None,\n",
       "    u'print_page': None,\n",
       "    u'pub_date': u'2013-01-03T16:29:38Z',\n",
       "    u'section_name': u'Opinion',\n",
       "    u'snippet': u'Some farming, health and GMO news to usher you into 2013.',\n",
       "    u'source': u'The New York Times',\n",
       "    u'subsection_name': None,\n",
       "    u'type_of_material': u'Blog',\n",
       "    u'web_url': u'http://bittman.blogs.nytimes.com/2013/01/03/a-months-worth-of-links-for-new-year/',\n",
       "    u'word_count': u'1182'},\n",
       "   {u'_id': u'5136a39dcf28d009de003a55',\n",
       "    u'abstract': u\"What sorts of social, economic and foreign relations issues must Venezuela's next president confront in order to guarantee a smooth transition?\",\n",
       "    u'blog': [],\n",
       "    u'byline': None,\n",
       "    u'document_type': u'blogpost',\n",
       "    u'headline': {u'kicker': u'Room For Debate',\n",
       "     u'main': u'The Future of Venezuela'},\n",
       "    u'keywords': [{u'name': u'type_of_material',\n",
       "      u'rank': u'1',\n",
       "      u'value': u'News'}],\n",
       "    u'lead_paragraph': u'',\n",
       "    u'multimedia': [],\n",
       "    u'news_desk': None,\n",
       "    u'print_page': None,\n",
       "    u'pub_date': u'2013-01-03T19:11:49Z',\n",
       "    u'section_name': u'Opinion',\n",
       "    u'snippet': u\"What sorts of social, economic and foreign relations issues must Venezuela's next president confront in order to guarantee a smooth transition?\",\n",
       "    u'source': u'The New York Times',\n",
       "    u'subsection_name': None,\n",
       "    u'type_of_material': u'Blog',\n",
       "    u'web_url': u'http://www.nytimes.com/roomfordebate/2013/01/03/venezuela-post-chavez/',\n",
       "    u'word_count': u'3881'},\n",
       "   {u'_id': u'50e6312d00315214fbb8251a',\n",
       "    u'abstract': None,\n",
       "    u'blog': [],\n",
       "    u'byline': {u'organization': u'THE ASSOCIATED PRESS',\n",
       "     u'original': u'By THE ASSOCIATED PRESS',\n",
       "     u'person': []},\n",
       "    u'document_type': u'article',\n",
       "    u'headline': {u'main': u\"Women's History Pioneer Gerda Lerner Dies at 92\"},\n",
       "    u'keywords': [],\n",
       "    u'lead_paragraph': u\"Gerda Lerner, a pioneer in the field of women's history and a founding member of the National Organization for Women, has died in Wisconsin, her son said Thursday. She was 92.\",\n",
       "    u'multimedia': [],\n",
       "    u'news_desk': u'None',\n",
       "    u'print_page': None,\n",
       "    u'pub_date': u'2013-01-03T20:26:09Z',\n",
       "    u'section_name': u'U.S.',\n",
       "    u'snippet': u\"Gerda Lerner, a pioneer in the field of women's history and a founding member of the National Organization for Women, has died in Wisconsin, her son said Thursday. She was 92.\",\n",
       "    u'source': u'AP',\n",
       "    u'subsection_name': None,\n",
       "    u'type_of_material': u'',\n",
       "    u'web_url': u'http://www.nytimes.com/aponline/2013/01/03/us/ap-us-obit-lerner.html',\n",
       "    u'word_count': 795},\n",
       "   {u'_id': u'50e63a7f00315214fbb82536',\n",
       "    u'abstract': None,\n",
       "    u'blog': [],\n",
       "    u'byline': {u'contributor': u'',\n",
       "     u'original': u'By PAUL KRUGMAN',\n",
       "     u'person': [{u'firstname': u'Paul',\n",
       "       u'lastname': u'KRUGMAN',\n",
       "       u'organization': u'',\n",
       "       u'rank': 1,\n",
       "       u'role': u'reported'}]},\n",
       "    u'document_type': u'article',\n",
       "    u'headline': {u'kicker': u'Op-Ed Columnist',\n",
       "     u'main': u'Battles of the Budget',\n",
       "     u'print_headline': u'Battles Of The Budget',\n",
       "     u'seo': u'Battles of the Budget'},\n",
       "    u'keywords': [{u'is_major': u'N',\n",
       "      u'name': u'subject',\n",
       "      u'rank': u'5',\n",
       "      u'value': u'United States Politics and Government'},\n",
       "     {u'is_major': u'N',\n",
       "      u'name': u'organizations',\n",
       "      u'rank': u'7',\n",
       "      u'value': u'Senate'},\n",
       "     {u'is_major': u'N',\n",
       "      u'name': u'persons',\n",
       "      u'rank': u'3',\n",
       "      u'value': u'Obama, Barack'},\n",
       "     {u'is_major': u'N',\n",
       "      u'name': u'organizations',\n",
       "      u'rank': u'6',\n",
       "      u'value': u'House of Representatives'},\n",
       "     {u'is_major': u'Y',\n",
       "      u'name': u'subject',\n",
       "      u'rank': u'1',\n",
       "      u'value': u'Federal Budget (US)'},\n",
       "     {u'is_major': u'N',\n",
       "      u'name': u'subject',\n",
       "      u'rank': u'2',\n",
       "      u'value': u'National Debt (US)'},\n",
       "     {u'is_major': u'N',\n",
       "      u'name': u'subject',\n",
       "      u'rank': u'4',\n",
       "      u'value': u'Law and Legislation'}],\n",
       "    u'lead_paragraph': u'Let\\u2019s put the cliff deal, which was part of a larger class war, in perspective.',\n",
       "    u'multimedia': [{u'height': 126,\n",
       "      u'legacy': {u'wide': u'images/2010/09/16/opinion/Krugman_New/Krugman_New-thumbWide.jpg',\n",
       "       u'wideheight': u'126',\n",
       "       u'widewidth': u'190'},\n",
       "      u'subtype': u'wide',\n",
       "      u'type': u'image',\n",
       "      u'url': u'images/2010/09/16/opinion/Krugman_New/Krugman_New-thumbWide.jpg',\n",
       "      u'width': 190},\n",
       "     {u'height': 900,\n",
       "      u'legacy': {u'xlarge': u'images/2010/09/16/opinion/Krugman_New/Krugman_New-articleLarge.jpg',\n",
       "       u'xlargeheight': u'900',\n",
       "       u'xlargewidth': u'600'},\n",
       "      u'subtype': u'xlarge',\n",
       "      u'type': u'image',\n",
       "      u'url': u'images/2010/09/16/opinion/Krugman_New/Krugman_New-articleLarge.jpg',\n",
       "      u'width': 600},\n",
       "     {u'height': 75,\n",
       "      u'legacy': {u'thumbnail': u'images/2010/09/16/opinion/Krugman_New/Krugman_New-thumbStandard-v2.jpg',\n",
       "       u'thumbnailheight': u'75',\n",
       "       u'thumbnailwidth': u'75'},\n",
       "      u'subtype': u'thumbnail',\n",
       "      u'type': u'image',\n",
       "      u'url': u'images/2010/09/16/opinion/Krugman_New/Krugman_New-thumbStandard-v2.jpg',\n",
       "      u'width': 75}],\n",
       "    u'news_desk': u'Editorial',\n",
       "    u'print_page': u'23',\n",
       "    u'pub_date': u'2013-01-04T00:00:00Z',\n",
       "    u'section_name': u'Opinion',\n",
       "    u'snippet': u'Let\\u2019s put the cliff deal, which was part of a larger class war, in perspective.',\n",
       "    u'source': u'The New York Times',\n",
       "    u'subsection_name': None,\n",
       "    u'type_of_material': u'Op-Ed',\n",
       "    u'web_url': u'http://www.nytimes.com/2013/01/04/opinion/kurgman-battles-of-the-budget.html',\n",
       "    u'word_count': u'816'},\n",
       "   {u'_id': u'50e68ee400315214fbb825a6',\n",
       "    u'abstract': None,\n",
       "    u'blog': [],\n",
       "    u'byline': {u'organization': u'THE ASSOCIATED PRESS',\n",
       "     u'original': u'By THE ASSOCIATED PRESS',\n",
       "     u'person': []},\n",
       "    u'document_type': u'article',\n",
       "    u'headline': {u'main': u\"Women's History Pioneer Gerda Lerner Dies at 92\"},\n",
       "    u'keywords': [],\n",
       "    u'lead_paragraph': u'Gerda Lerner spent her 18th birthday in a Nazi prison, sharing a cell with two gentile women arrested for political work who shared their food with the Jewish teenager because jailers restricted rations for Jews.',\n",
       "    u'multimedia': [],\n",
       "    u'news_desk': u'None',\n",
       "    u'print_page': None,\n",
       "    u'pub_date': u'2013-01-04T03:07:26Z',\n",
       "    u'section_name': u'U.S.',\n",
       "    u'snippet': u'Gerda Lerner spent her 18th birthday in a Nazi prison, sharing a cell with two gentile women arrested for political work who shared their food with the Jewish teenager because jailers restricted rations for Jews.',\n",
       "    u'source': u'AP',\n",
       "    u'subsection_name': None,\n",
       "    u'type_of_material': u'',\n",
       "    u'web_url': u'http://www.nytimes.com/aponline/2013/01/04/us/ap-us-obit-lerner.html',\n",
       "    u'word_count': 835}],\n",
       "  u'meta': {u'hits': 1255, u'offset': 0, u'time': 371}},\n",
       " u'status': u'OK'}"
      ]
     },
     "execution_count": 19,
     "metadata": {},
     "output_type": "execute_result"
    }
   ],
   "source": [
    "r.json()"
   ]
  },
  {
   "cell_type": "code",
   "execution_count": 20,
   "metadata": {},
   "outputs": [],
   "source": [
    "json = r.json()\n"
   ]
  },
  {
   "cell_type": "code",
   "execution_count": 21,
   "metadata": {},
   "outputs": [
    {
     "data": {
      "text/plain": [
       "[u'status', u'response', u'copyright']"
      ]
     },
     "execution_count": 21,
     "metadata": {},
     "output_type": "execute_result"
    }
   ],
   "source": [
    "json.keys()"
   ]
  },
  {
   "cell_type": "code",
   "execution_count": 22,
   "metadata": {
    "slideshow": {
     "slide_type": "slide"
    }
   },
   "outputs": [
    {
     "data": {
      "text/plain": [
       "[u'status', u'response', u'copyright']"
      ]
     },
     "execution_count": 22,
     "metadata": {},
     "output_type": "execute_result"
    }
   ],
   "source": [
    "\n",
    "json.keys()"
   ]
  },
  {
   "cell_type": "code",
   "execution_count": 23,
   "metadata": {
    "slideshow": {
     "slide_type": "fragment"
    }
   },
   "outputs": [
    {
     "data": {
      "text/plain": [
       "u'OK'"
      ]
     },
     "execution_count": 23,
     "metadata": {},
     "output_type": "execute_result"
    }
   ],
   "source": [
    "json['status']"
   ]
  },
  {
   "cell_type": "markdown",
   "metadata": {
    "slideshow": {
     "slide_type": "fragment"
    }
   },
   "source": [
    "Output from `json['response']` ommitted because it was really long."
   ]
  },
  {
   "cell_type": "code",
   "execution_count": 28,
   "metadata": {
    "slideshow": {
     "slide_type": "fragment"
    }
   },
   "outputs": [
    {
     "data": {
      "text/plain": [
       "10"
      ]
     },
     "execution_count": 28,
     "metadata": {},
     "output_type": "execute_result"
    }
   ],
   "source": [
    "json['response']['docs']"
   ]
  },
  {
   "cell_type": "code",
   "execution_count": 27,
   "metadata": {
    "slideshow": {
     "slide_type": "fragment"
    }
   },
   "outputs": [
    {
     "data": {
      "text/plain": [
       "1255"
      ]
     },
     "execution_count": 27,
     "metadata": {},
     "output_type": "execute_result"
    }
   ],
   "source": [
    "json['response']['meta']['hits']"
   ]
  },
  {
   "cell_type": "code",
   "execution_count": 29,
   "metadata": {
    "slideshow": {
     "slide_type": "slide"
    }
   },
   "outputs": [
    {
     "name": "stdout",
     "output_type": "stream",
     "text": [
      "2006 231\n",
      "2007 298\n",
      "2008 258\n",
      "2009 235\n",
      "2010 338\n",
      "2011 674\n",
      "2012 1022\n",
      "2013 1255\n"
     ]
    }
   ],
   "source": [
    "from time import sleep\n",
    "\n",
    "base_url = 'http://api.nytimes.com/svc/search/v2/articlesearch.json?'\n",
    "\n",
    "years = [2006, 2007, 2008, 2009, 2010, 2011, 2012, 2013]\n",
    "\n",
    "for year in years:\n",
    "    year_string = str(year)\n",
    "    payload = { 'q'         : 'inequality', \n",
    "                'begin_date':  year_string + '0101',\n",
    "                'end_date'  :  year_string + '1231',\n",
    "                'api-key'   :  my_times_api_key,\n",
    "                'sort'      : 'newest' ,\n",
    "                'page'      :  0}\n",
    "    \n",
    "    r = requests.get(base_url, params = payload)\n",
    "    json = r.json()\n",
    "    count  = json['response']['meta']['hits']\n",
    "    print year, count\n",
    "    sleep(.1)"
   ]
  },
  {
   "cell_type": "markdown",
   "metadata": {
    "slideshow": {
     "slide_type": "slide"
    }
   },
   "source": [
    "Writing a CSV file"
   ]
  },
  {
   "cell_type": "code",
   "execution_count": 30,
   "metadata": {
    "slideshow": {
     "slide_type": "-"
    }
   },
   "outputs": [],
   "source": [
    "import csv\n",
    "\n",
    "outfile = open('inequality_annual.csv', 'w')\n",
    "csv_writer = csv.writer(outfile)\n",
    "\n",
    "header = ['year','article_count']\n",
    "csv_writer.writerow(header)\n",
    "\n",
    "base_url = 'http://api.nytimes.com/svc/search/v2/articlesearch.json?'\n",
    "\n",
    "years = [2006, 2007, 2008, 2009, 2010, 2011, 2012, 2013]\n",
    "\n",
    "for year in years:\n",
    "    year_string = str(year)\n",
    "    payload = { 'q'         : 'inequality', \n",
    "                'begin_date':  year_string + '0101',\n",
    "                'end_date'  :  year_string + '1231',\n",
    "                'api-key'   :  my_times_api_key,\n",
    "                'sort'      : 'newest' ,\n",
    "                'page'      :  0}\n",
    "    \n",
    "    sleep(.1)\n",
    "    \n",
    "outfile.close()"
   ]
  },
  {
   "cell_type": "code",
   "execution_count": 31,
   "metadata": {
    "slideshow": {
     "slide_type": "slide"
    }
   },
   "outputs": [
    {
     "name": "stdout",
     "output_type": "stream",
     "text": [
      "year,article_count\r",
      "\r\n",
      "2006,231\r",
      "\r\n",
      "2007,298\r",
      "\r\n",
      "2008,258\r",
      "\r\n",
      "2009,235\r",
      "\r\n",
      "2010,338\r",
      "\r\n",
      "2011,674\r",
      "\r\n",
      "2012,1023\r",
      "\r\n",
      "2013,1256\r",
      "\r\n"
     ]
    }
   ],
   "source": [
    "!cat inequality.csv"
   ]
  },
  {
   "cell_type": "code",
   "execution_count": 15,
   "metadata": {
    "slideshow": {
     "slide_type": "skip"
    }
   },
   "outputs": [],
   "source": [
    "from time import sleep\n",
    "\n",
    "base_url = 'http://api.nytimes.com/svc/search/v2/articlesearch.json?'\n",
    "\n",
    "payload = { 'q'         : 'inequality', \n",
    "            'api-key'   :  my_times_api_key,\n",
    "            'sort'      : 'newest' ,\n",
    "            'page'      :  0}\n",
    "    \n",
    "years = [2006, 2007, 2008, 2009, 2010, 2011, 2012, 2013]\n",
    "counts = []\n",
    "for year in years:\n",
    " \n",
    "    \n",
    "    year_string = str(year)\n",
    "    payload['begin_date'] = year_string + '0101'\n",
    "    payload['end_date']   = year_string + '1231'\n",
    "    r = requests.get(base_url, params = payload)\n",
    "    json = r.json()\n",
    "    count  = json['response']['meta']['hits']\n",
    "    counts.append(count)\n",
    "    sleep(.1)   "
   ]
  },
  {
   "cell_type": "markdown",
   "metadata": {
    "slideshow": {
     "slide_type": "slide"
    }
   },
   "source": [
    "This can be plotted in Python."
   ]
  },
  {
   "cell_type": "code",
   "execution_count": 16,
   "metadata": {
    "slideshow": {
     "slide_type": "fragment"
    }
   },
   "outputs": [
    {
     "name": "stdout",
     "output_type": "stream",
     "text": [
      "Populating the interactive namespace from numpy and matplotlib\n"
     ]
    },
    {
     "data": {
      "image/png": "[encoded data removed]",
      "text/plain": [
       "<matplotlib.figure.Figure at 0x1052f8750>"
      ]
     },
     "metadata": {},
     "output_type": "display_data"
    }
   ],
   "source": [
    "%pylab inline\n",
    "import matplotlib.pyplot as plt\n",
    "\n",
    "plt.scatter(years,counts)\n",
    "plt.ticklabel_format(useOffset=False)"
   ]
  },
  {
   "cell_type": "markdown",
   "metadata": {
    "slideshow": {
     "slide_type": "slide"
    }
   },
   "source": [
    "Your turn. Modify the script below to output a csv with the monthly total of inequality articles. For an extra challenge, add an additional column with the count of the number of \"unemployment\" articles."
   ]
  },
  {
   "cell_type": "code",
   "execution_count": 39,
   "metadata": {
    "slideshow": {
     "slide_type": "fragment"
    }
   },
   "outputs": [],
   "source": [
    "outfile = open('inequality_annual.csv', 'w')\n",
    "csv_writer = csv.writer(outfile)\n",
    "\n",
    "\n",
    "base_url = 'http://api.nytimes.com/svc/search/v2/articlesearch.json?'\n",
    "\n",
    "def last_day_calculator(month):\n",
    "    '''A little function that tells you the last day of the month.'''\n",
    "    if month in [1,3,5,7,8,10,13]:\n",
    "        last_day = '31'\n",
    "    elif month in [4,6,9,11]:\n",
    "        last_day = '30'\n",
    "    else:\n",
    "        last_day = '28'\n",
    "    return last_day\n",
    "\n",
    "\n",
    "#Loop through each year 2006-2013\n",
    "for year in range(2006,2013):\n",
    "    #turn the interger into string\n",
    "    year_string = str(year)\n",
    "    \n",
    "    #Loop through each month\n",
    "    for month in range(1,3):\n",
    "        \n",
    "        \n",
    "        \n",
    "        #figure out the last day of that month\n",
    "        last_day_string = last_day_calculator(month)\n",
    "            \n",
    "        month_string =  \"%02d\" % month\n",
    "\n",
    "        \n",
    "        payload = { 'q'         : 'inequality',\n",
    "                    'begin_date':  year_string + month_string + '01',\n",
    "                    'end_date'  :  year_string + month_string + last_day_string,\n",
    "                    'api-key'   :  my_times_api_key,\n",
    "                    'sort'      : 'newest' ,\n",
    "                    'page'      :  0}\n",
    "        \n",
    "         \n",
    "        r = requests.get(base_url, params = payload)\n",
    "        json = r.json()\n",
    "        count  = json['response']['meta']['hits']\n",
    "        csv_writer.writerow( [year_string, month_string, count] )\n",
    "\n",
    "        \n",
    "        sleep(.5)\n",
    "        \n",
    "outfile.close()       \n",
    "\n"
   ]
  },
  {
   "cell_type": "code",
   "execution_count": 40,
   "metadata": {},
   "outputs": [
    {
     "name": "stdout",
     "output_type": "stream",
     "text": [
      "2006,01,17\r",
      "\r\n",
      "2006,02,16\r",
      "\r\n",
      "2007,01,23\r",
      "\r\n",
      "2007,02,14\r",
      "\r\n",
      "2008,01,19\r",
      "\r\n",
      "2008,02,11\r",
      "\r\n",
      "2009,01,14\r",
      "\r\n",
      "2009,02,24\r",
      "\r\n",
      "2010,01,20\r",
      "\r\n",
      "2010,02,16\r",
      "\r\n",
      "2011,01,43\r",
      "\r\n",
      "2011,02,21\r",
      "\r\n",
      "2012,01,127\r",
      "\r\n",
      "2012,02,90\r",
      "\r\n"
     ]
    }
   ],
   "source": [
    "!cat inequality_annual.csv"
   ]
  },
  {
   "cell_type": "code",
   "execution_count": null,
   "metadata": {},
   "outputs": [],
   "source": []
  }
 ],
 "metadata": {
  "kernelspec": {
   "display_name": "Python 3",
   "language": "python",
   "name": "python3"
  },
  "language_info": {
   "codemirror_mode": {
    "name": "ipython",
    "version": 3
   },
   "file_extension": ".py",
   "mimetype": "text/x-python",
   "name": "python",
   "nbconvert_exporter": "python",
   "pygments_lexer": "ipython3",
   "version": "3.6.4"
  }
 },
 "nbformat": 4,
 "nbformat_minor": 1
}
