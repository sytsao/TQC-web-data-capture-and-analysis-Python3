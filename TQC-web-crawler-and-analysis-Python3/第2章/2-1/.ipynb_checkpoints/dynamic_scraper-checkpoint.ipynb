{
 "cells": [
  {
   "cell_type": "markdown",
   "metadata": {
    "slideshow": {
     "slide_type": "slide"
    }
   },
   "source": [
    "# 動態網頁擷取\n",
    "\n",
    "## 郭耀仁"
   ]
  },
  {
   "cell_type": "markdown",
   "metadata": {
    "slideshow": {
     "slide_type": "slide"
    }
   },
   "source": [
    "## 建立一個新的虛擬環境\n",
    "\n",
    "```bash\n",
    "conda create -n pyscraper python=3\n",
    "(source) activate pyscraper\n",
    "pip install pandas matplotlib selenium ipykernel\n",
    "```"
   ]
  },
  {
   "cell_type": "markdown",
   "metadata": {
    "slideshow": {
     "slide_type": "subslide"
    }
   },
   "source": [
    "## 對應 Kernel\n",
    "\n",
    "```bash\n",
    "python -m ipykernel install --user --name pyscraper --display-name \"pyscraper\"\n",
    "```"
   ]
  },
  {
   "cell_type": "markdown",
   "metadata": {
    "slideshow": {
     "slide_type": "subslide"
    }
   },
   "source": [
    "## 更新 Chrome 瀏覽器\n",
    "\n",
    "https://www.google.com/chrome/browser/desktop/index.html"
   ]
  },
  {
   "cell_type": "markdown",
   "metadata": {
    "slideshow": {
     "slide_type": "subslide"
    }
   },
   "source": [
    "## 下載驅動 Chrome 瀏覽器的 Driver\n",
    "\n",
    "https://sites.google.com/a/chromium.org/chromedriver/downloads"
   ]
  },
  {
   "cell_type": "markdown",
   "metadata": {
    "slideshow": {
     "slide_type": "subslide"
    }
   },
   "source": [
    "## 測試\n",
    "\n",
    "```python\n",
    "from selenium import webdriver\n",
    "\n",
    "driver_path = \"C:/Users/user/Downloads/chromedriver.exe\" # 改為你的 driver 路徑\n",
    "driver = webdriver.Chrome(executable_path = driver_path)\n",
    "driver.get(\"http://www.python.org\")\n",
    "```"
   ]
  },
  {
   "cell_type": "markdown",
   "metadata": {
    "slideshow": {
     "slide_type": "subslide"
    }
   },
   "source": [
    "## 結束測試\n",
    "\n",
    "```python\n",
    "driver.close()\n",
    "```"
   ]
  },
  {
   "cell_type": "markdown",
   "metadata": {
    "slideshow": {
     "slide_type": "subslide"
    }
   },
   "source": [
    "## 也可以使用 Firefox\n",
    "\n",
    "https://www.mozilla.org/en-US/firefox/new/"
   ]
  },
  {
   "cell_type": "markdown",
   "metadata": {
    "slideshow": {
     "slide_type": "subslide"
    }
   },
   "source": [
    "## 下載驅動 Firefox 瀏覽器的 Driver\n",
    "\n",
    "https://github.com/mozilla/geckodriver/releases"
   ]
  },
  {
   "cell_type": "markdown",
   "metadata": {
    "slideshow": {
     "slide_type": "subslide"
    }
   },
   "source": [
    "## 結束測試\n",
    "\n",
    "```python\n",
    "driver.close()\n",
    "```"
   ]
  },
  {
   "cell_type": "markdown",
   "metadata": {
    "slideshow": {
     "slide_type": "subslide"
    }
   },
   "source": [
    "## 測試\n",
    "\n",
    "```python\n",
    "from selenium import webdriver\n",
    "\n",
    "driver_path = \"C:/Users/user/Downloads/geckodriver.exe\" # 改為你的 driver 路徑\n",
    "driver = webdriver.Firefox(executable_path = driver_path)\n",
    "driver.get(\"http://www.python.org\")\n",
    "```"
   ]
  },
  {
   "cell_type": "markdown",
   "metadata": {
    "slideshow": {
     "slide_type": "subslide"
    }
   },
   "source": [
    "## driver 的基本方法\n",
    "\n",
    "- `.get()`: 移動至某一個 URL\n",
    "- `.forward()`: 前一頁\n",
    "- `.backward()`: 上一頁\n",
    "- `.close()`: 關閉瀏覽器\n",
    "- `.find_element(s)_by_css_selector`: 利用 CSS 選擇器擷取一個或多個元素"
   ]
  },
  {
   "cell_type": "markdown",
   "metadata": {
    "slideshow": {
     "slide_type": "subslide"
    }
   },
   "source": [
    "## element 的基本方法\n",
    "\n",
    "- `.send_keys()`: 輸入文字\n",
    "- `.clear()`: 清空文字輸入框\n",
    "- `.click()`: 點擊"
   ]
  },
  {
   "cell_type": "markdown",
   "metadata": {
    "slideshow": {
     "slide_type": "slide"
    }
   },
   "source": [
    "## IMDB: La La Land\n",
    "\n",
    "- 前往 [IMDB](http://www.imdb.com/) 首頁\n",
    "- 搜尋 'la la land'\n",
    "- 點擊搜尋\n",
    "- 點擊第一個搜尋結果\n",
    "- 將評等與演員名單擷取下來"
   ]
  },
  {
   "cell_type": "code",
   "execution_count": 1,
   "metadata": {
    "collapsed": true,
    "slideshow": {
     "slide_type": "subslide"
    }
   },
   "outputs": [],
   "source": [
    "def get_movie_info():\n",
    "\n",
    "    from selenium import webdriver\n",
    "    from selenium.webdriver.common.keys import Keys\n",
    "    import time\n",
    "\n",
    "    driver_path = \"/Users/kuoyaojen/Downloads/chromedriver\" # 改為你的 driver 路徑\n",
    "    driver = webdriver.Chrome(executable_path = driver_path)\n",
    "    driver.get(\"http://www.imdb.com/\")\n",
    "    search_elem = driver.find_element_by_css_selector(\"#navbar-query\")\n",
    "    search_elem.send_keys('la la land')\n",
    "    time.sleep(3)\n",
    "    search_button_elem = driver.find_element_by_css_selector(\"#navbar-submit-button .navbarSprite\")\n",
    "    search_button_elem.click()\n",
    "    time.sleep(3)\n",
    "    first_result_elem = driver.find_element_by_css_selector(\"#findSubHeader+ .findSection .odd:nth-child(1) .result_text a\")\n",
    "    first_result_elem.click()\n",
    "    time.sleep(3)\n",
    "    rating_elem = driver.find_element_by_css_selector(\"strong span\")\n",
    "    rating = float(rating_elem.text)\n",
    "    cast_elem = driver.find_elements_by_css_selector(\".itemprop .itemprop\")\n",
    "    cast_list = [cast.text for cast in cast_elem]\n",
    "    driver.close()\n",
    "    return rating, cast_list"
   ]
  },
  {
   "cell_type": "code",
   "execution_count": 2,
   "metadata": {
    "slideshow": {
     "slide_type": "subslide"
    }
   },
   "outputs": [
    {
     "data": {
      "text/plain": [
       "(8.1,\n",
       " ['Ryan Gosling',\n",
       "  'Emma Stone',\n",
       "  'Amiée Conn',\n",
       "  'Terry Walters',\n",
       "  'Thom Shelton',\n",
       "  'Cinda Adams',\n",
       "  'Callie Hernandez',\n",
       "  'Jessica Rothe',\n",
       "  'Sonoya Mizuno',\n",
       "  'Rosemarie DeWitt',\n",
       "  'J.K. Simmons',\n",
       "  'Claudine Claudio',\n",
       "  'Jason Fuchs',\n",
       "  'D.A. Wallach',\n",
       "  'Trevor Lissauer'])"
      ]
     },
     "execution_count": 2,
     "metadata": {},
     "output_type": "execute_result"
    }
   ],
   "source": [
    "get_movie_info()"
   ]
  },
  {
   "cell_type": "markdown",
   "metadata": {
    "slideshow": {
     "slide_type": "slide"
    }
   },
   "source": [
    "## Yahoo! 奇摩股市：上市單日成交價排行\n",
    "\n",
    "- 前往 Yahoo! 奇摩股市\n",
    "- 點選**更多排行**\n",
    "- 點選**上市行情類排行榜：單日成交價排行**\n",
    "- 點選**列出前一百名排行**\n",
    "- 將股票代號/名稱擷取下來"
   ]
  },
  {
   "cell_type": "code",
   "execution_count": 3,
   "metadata": {
    "collapsed": true,
    "slideshow": {
     "slide_type": "subslide"
    }
   },
   "outputs": [],
   "source": [
    "def get_top_100():\n",
    "    from selenium import webdriver\n",
    "    \n",
    "    driver_path = \"/Users/kuoyaojen/Downloads/chromedriver\" # 改為你的 driver 路徑\n",
    "    driver = webdriver.Chrome(executable_path = driver_path)\n",
    "    driver.get(\"https://tw.finance.yahoo.com/\")\n",
    "    more_rank_elem = driver.find_element_by_css_selector('.yui-text-left .yui-text-left table tr:nth-child(1) .stext div a')\n",
    "    more_rank_elem.click()\n",
    "    price_rank_elem = driver.find_element_by_css_selector('.yui-text-left+ .yui-text-left tr:nth-child(5) a')\n",
    "    price_rank_elem.click()\n",
    "    top_100_elem = driver.find_element_by_css_selector('p a+ a')\n",
    "    top_100_elem.click()\n",
    "    ticker_name_elem = driver.find_elements_by_css_selector('.name')\n",
    "    ticker_name = [tn.text for tn in ticker_name_elem]\n",
    "    driver.close()\n",
    "    return ticker_name"
   ]
  },
  {
   "cell_type": "code",
   "execution_count": 4,
   "metadata": {
    "slideshow": {
     "slide_type": "subslide"
    }
   },
   "outputs": [
    {
     "data": {
      "text/plain": [
       "['3008 大立光',\n",
       " '6415 矽力-KY',\n",
       " '1590 亞德客-KY',\n",
       " '2327 國巨',\n",
       " '6409 旭隼',\n",
       " '2049 上銀',\n",
       " '6414 樺漢',\n",
       " '2231 為升',\n",
       " '2059 川湖',\n",
       " '6452 康友-KY',\n",
       " '2723 美食-KY',\n",
       " '1476 儒鴻',\n",
       " '3406 玉晶光',\n",
       " '2474 可成',\n",
       " '5269 祥碩',\n",
       " '2454 聯發科',\n",
       " '3443 創意',\n",
       " '2912 統一超',\n",
       " '4943 康控-KY',\n",
       " '2207 和泰車',\n",
       " '2357 華碩',\n",
       " '8454 富邦媒',\n",
       " '8464 億豐',\n",
       " '2227 裕日車',\n",
       " '1707 葡萄王',\n",
       " '3665 貿聯-KY',\n",
       " '2330 台積電',\n",
       " '3413 京鼎',\n",
       " '8341 日友',\n",
       " '3533 嘉澤',\n",
       " '2395 研華',\n",
       " '4137 麗豐-KY',\n",
       " '8422 可寧衛',\n",
       " '6533 晶心科',\n",
       " '2939 凱羿-KY',\n",
       " '4551 智伸科',\n",
       " '3130 一零四',\n",
       " '2360 致茂',\n",
       " '6456 GIS-KY',\n",
       " '3708 上緯投控',\n",
       " '1256 鮮活果汁-KY',\n",
       " '6451 訊芯-KY',\n",
       " '4912 聯德控股-KY',\n",
       " '1723 中碳',\n",
       " '2239 英利-KY',\n",
       " '6504 南六',\n",
       " '2496 卓越',\n",
       " '2707 晶華',\n",
       " '2439 美律',\n",
       " '8070 長華',\n",
       " '9921 巨大',\n",
       " '1537 廣隆',\n",
       " '3026 禾伸堂',\n",
       " '1477 聚陽',\n",
       " '8480 泰昇-KY',\n",
       " '4739 康普',\n",
       " '4148 全宇生技-KY',\n",
       " '3661 世芯-KY',\n",
       " '9910 豐泰',\n",
       " '2492 華新科',\n",
       " '9914 美利達',\n",
       " '2379 瑞昱',\n",
       " '9941 裕融',\n",
       " '4763 材料-KY',\n",
       " '1558 伸興',\n",
       " '1536 和大',\n",
       " '3034 聯詠',\n",
       " '8114 振樺電',\n",
       " '2727 王品',\n",
       " '6581 鋼聯',\n",
       " '4438 廣越',\n",
       " '3532 台勝科',\n",
       " '3450 聯鈞',\n",
       " '6505 台塑化',\n",
       " '2308 台達電',\n",
       " '6271 同欣電',\n",
       " '1760 寶齡',\n",
       " '2731 雄獅',\n",
       " '2412 中華電',\n",
       " '2455 全新',\n",
       " '1326 台化',\n",
       " '3045 台灣大',\n",
       " '1301 台塑',\n",
       " '1338 廣華-KY',\n",
       " '5871 中租-KY',\n",
       " '2929 淘帝-KY',\n",
       " '3019 亞光',\n",
       " '2456 奇力新',\n",
       " '6541 泰福-KY',\n",
       " '2377 微星',\n",
       " '2228 劍麟',\n",
       " '6277 宏正',\n",
       " '6269 台郡',\n",
       " '3044 健鼎',\n",
       " '8499 鼎炫-KY',\n",
       " '4552 力達-KY',\n",
       " '6239 力成',\n",
       " '5234 達興材料',\n",
       " '1232 大統益',\n",
       " '6591 動力-KY']"
      ]
     },
     "execution_count": 4,
     "metadata": {},
     "output_type": "execute_result"
    }
   ],
   "source": [
    "get_top_100()"
   ]
  },
  {
   "cell_type": "markdown",
   "metadata": {
    "slideshow": {
     "slide_type": "slide"
    }
   },
   "source": [
    "## 作業 5\n",
    "\n",
    "- 將大佛普拉斯的 IMDB 資料（評等、主要演員）擷取並以適當資料形態輸出\n",
    "- 將 Yahoo! 奇摩股市當日上市與上櫃公司成交價 100 名的資料（股票代號、公司名稱、成交價、上市或上櫃）擷取並以適當資料形態輸出"
   ]
  },
  {
   "cell_type": "markdown",
   "metadata": {
    "slideshow": {
     "slide_type": "slide"
    }
   },
   "source": [
    "## 延伸閱讀\n",
    "\n",
    "[WebDriver API](http://selenium-python.readthedocs.io/api.html)"
   ]
  }
 ],
 "metadata": {
  "celltoolbar": "Slideshow",
  "kernelspec": {
   "display_name": "Python 3",
   "language": "python",
   "name": "python3"
  },
  "language_info": {
   "codemirror_mode": {
    "name": "ipython",
    "version": 3
   },
   "file_extension": ".py",
   "mimetype": "text/x-python",
   "name": "python",
   "nbconvert_exporter": "python",
   "pygments_lexer": "ipython3",
   "version": "3.6.4"
  }
 },
 "nbformat": 4,
 "nbformat_minor": 2
}
