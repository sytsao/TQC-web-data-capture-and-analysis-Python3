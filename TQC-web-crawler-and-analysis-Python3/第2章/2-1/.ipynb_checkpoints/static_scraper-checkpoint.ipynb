{
 "cells": [
  {
   "cell_type": "markdown",
   "metadata": {
    "slideshow": {
     "slide_type": "slide"
    }
   },
   "source": [
    "# 靜態網頁擷取\n",
    "\n",
    "## 郭耀仁"
   ]
  },
  {
   "cell_type": "markdown",
   "metadata": {
    "slideshow": {
     "slide_type": "slide"
    }
   },
   "source": [
    "## 先安裝 chrome 外掛\n",
    "\n",
    "- [SelectorGadget](https://chrome.google.com/webstore/detail/selectorgadget/mhjhnkcfbdhnjickkkdbjoemdmbfginb?hl=zh-TW): 幫助 CSS 選擇"
   ]
  },
  {
   "cell_type": "markdown",
   "metadata": {
    "slideshow": {
     "slide_type": "slide"
    }
   },
   "source": [
    "## CSS 選擇\n",
    "\n",
    "- 利用文件物件模型（Document Object Model, DOM）選擇網頁元素的技巧"
   ]
  },
  {
   "cell_type": "markdown",
   "metadata": {
    "slideshow": {
     "slide_type": "subslide"
    }
   },
   "source": [
    "## CSS 選擇（2）\n",
    "\n",
    "- 以 [IMDB: La La Land](http://www.imdb.com/title/tt3783958/) 為例\n",
    "- 選出評等（Rating）"
   ]
  },
  {
   "cell_type": "markdown",
   "metadata": {
    "slideshow": {
     "slide_type": "subslide"
    }
   },
   "source": [
    "## CSS 選擇（3）\n",
    "\n",
    "- 點選 SelectorGadget 的外掛圖示\n",
    "- 先點選評等（Rating）\n",
    "\n",
    "![](img/ch0701.png)"
   ]
  },
  {
   "cell_type": "markdown",
   "metadata": {
    "slideshow": {
     "slide_type": "subslide"
    }
   },
   "source": [
    "## CSS 選擇（4）\n",
    "\n",
    "- 會有多個元素被選出（標註黃色），因為這頁有很多 `<span></span>`\n",
    "\n",
    "![](img/ch0702.png)"
   ]
  },
  {
   "cell_type": "markdown",
   "metadata": {
    "slideshow": {
     "slide_type": "subslide"
    }
   },
   "source": [
    "## CSS 選擇（5）\n",
    "\n",
    "- 接著點選不要的元素（標註紅色）\n",
    "\n",
    "![](img/ch0703.png)"
   ]
  },
  {
   "cell_type": "markdown",
   "metadata": {
    "slideshow": {
     "slide_type": "subslide"
    }
   },
   "source": [
    "## CSS 選擇（6）\n",
    "\n",
    "- 這時我們就得到正確的 CSS 選擇：`strong span`\n",
    "\n",
    "![](img/ch0704.png)"
   ]
  },
  {
   "cell_type": "markdown",
   "metadata": {
    "slideshow": {
     "slide_type": "subslide"
    }
   },
   "source": [
    "## CSS 選擇（7）\n",
    "\n",
    "- 再練習一次，這次我們要將這頁的演員名單（Cast）擷取出來：\n",
    "\n",
    "![](img/ch0705.png)"
   ]
  },
  {
   "cell_type": "markdown",
   "metadata": {
    "slideshow": {
     "slide_type": "subslide"
    }
   },
   "source": [
    "## CSS 選擇（8）\n",
    "\n",
    "- 先點選男主角 Ryan Gosling\n",
    "- 乍看之下好像 `.itemprop` 這個類別就對了\n",
    "\n",
    "![](img/ch0706.png)"
   ]
  },
  {
   "cell_type": "markdown",
   "metadata": {
    "slideshow": {
     "slide_type": "subslide"
    }
   },
   "source": [
    "## CSS 選擇（9）\n",
    "\n",
    "- 但是其實其他的元素也有使用 `.itemprop` 這個類別\n",
    "\n",
    "![](img/ch0707.png)\n",
    "\n",
    "![](img/ch0708.png)"
   ]
  },
  {
   "cell_type": "markdown",
   "metadata": {
    "slideshow": {
     "slide_type": "subslide"
    }
   },
   "source": [
    "## CSS 選擇（10）\n",
    "\n",
    "- 於是點選不要的元素（標註紅色）\n",
    "\n",
    "![](img/ch0709.png)"
   ]
  },
  {
   "cell_type": "markdown",
   "metadata": {
    "slideshow": {
     "slide_type": "subslide"
    }
   },
   "source": [
    "## CSS 選擇（11）\n",
    "\n",
    "- 這時我們就得到正確的 CSS 選擇：`.itemprop .itemprop`\n",
    "\n",
    "![](img/ch0710.png)"
   ]
  },
  {
   "cell_type": "markdown",
   "metadata": {
    "slideshow": {
     "slide_type": "slide"
    }
   },
   "source": [
    "## Pyquery\n",
    "\n",
    "- 用來解析 HTML 與 XML 檔案的 Python 模組\n",
    "- 先在終端機安裝模組\n",
    "\n",
    "```\n",
    "# Local\n",
    "pip install pyquery # terminal\n",
    "# Google Colab\n",
    "!pip install pyquery # cell\n",
    "```"
   ]
  },
  {
   "cell_type": "code",
   "execution_count": 1,
   "metadata": {
    "slideshow": {
     "slide_type": "subslide"
    }
   },
   "outputs": [
    {
     "data": {
      "text/plain": [
       "['\\n    ', <Element head at 0x109ed3778>, '\\n    ', <Element body at 0x109ed3818>, '\\n']"
      ]
     },
     "execution_count": 1,
     "metadata": {},
     "output_type": "execute_result"
    }
   ],
   "source": [
    "from pyquery import PyQuery as pq\n",
    "\n",
    "lalaland_url = \"http://www.imdb.com/title/tt3783958/\"\n",
    "html_doc = pq(lalaland_url)\n",
    "html_doc.contents()"
   ]
  },
  {
   "cell_type": "code",
   "execution_count": 2,
   "metadata": {
    "slideshow": {
     "slide_type": "subslide"
    }
   },
   "outputs": [
    {
     "name": "stdout",
     "output_type": "stream",
     "text": [
      "<span itemprop=\"ratingValue\">8.1</span>\n",
      "8.1\n"
     ]
    }
   ],
   "source": [
    "rating_css = \"strong span\"\n",
    "print(html_doc(rating_css))\n",
    "print(html_doc(rating_css).text())"
   ]
  },
  {
   "cell_type": "code",
   "execution_count": 3,
   "metadata": {
    "slideshow": {
     "slide_type": "subslide"
    }
   },
   "outputs": [
    {
     "data": {
      "text/plain": [
       "str"
      ]
     },
     "execution_count": 3,
     "metadata": {},
     "output_type": "execute_result"
    }
   ],
   "source": [
    "lalaland_rating = html_doc(rating_css).text()\n",
    "type(lalaland_rating)"
   ]
  },
  {
   "cell_type": "markdown",
   "metadata": {
    "slideshow": {
     "slide_type": "subslide"
    }
   },
   "source": [
    "## 隨堂練習：從網頁中擷取出電影類型\n",
    "\n",
    "http://www.imdb.com/title/tt3783958/"
   ]
  },
  {
   "cell_type": "code",
   "execution_count": 4,
   "metadata": {
    "collapsed": true,
    "slideshow": {
     "slide_type": "skip"
    }
   },
   "outputs": [],
   "source": [
    "def get_genre():\n",
    "    \"\"\"\n",
    "    擷取 La La Land 的劇情類型\n",
    "    \"\"\"\n",
    "    genre_css = \".subtext .itemprop\"\n",
    "    genre = html_doc(genre_css).text()\n",
    "    genre_lst = genre.split()\n",
    "    return genre_lst"
   ]
  },
  {
   "cell_type": "code",
   "execution_count": 5,
   "metadata": {},
   "outputs": [
    {
     "data": {
      "text/plain": [
       "['Comedy', 'Drama', 'Music']"
      ]
     },
     "execution_count": 5,
     "metadata": {},
     "output_type": "execute_result"
    }
   ],
   "source": [
    "get_genre()"
   ]
  },
  {
   "cell_type": "markdown",
   "metadata": {
    "slideshow": {
     "slide_type": "subslide"
    }
   },
   "source": [
    "## 隨堂練習：從網頁中擷取出演員名單\n",
    "\n",
    "http://www.imdb.com/title/tt3783958/"
   ]
  },
  {
   "cell_type": "code",
   "execution_count": 6,
   "metadata": {
    "collapsed": true,
    "slideshow": {
     "slide_type": "skip"
    }
   },
   "outputs": [],
   "source": [
    "def get_cast():\n",
    "    \"\"\"\n",
    "    擷取 La La Land 的演員名單\n",
    "    \"\"\"\n",
    "    cast_lst = []\n",
    "    for i, j in zip(range(2, 17, 2), range(3, 16, 2)):\n",
    "        odd_cast_css = \".odd:nth-child({}) .itemprop .itemprop\".format(i)\n",
    "        even_cast_css = \".even:nth-child({}) .itemprop .itemprop\".format(j)\n",
    "        odd_cast = html_doc(odd_cast_css).text()\n",
    "        even_cast = html_doc(even_cast_css).text()\n",
    "        cast_lst.append(odd_cast)\n",
    "        cast_lst.append(even_cast)\n",
    "    return cast_lst"
   ]
  },
  {
   "cell_type": "code",
   "execution_count": 7,
   "metadata": {
    "slideshow": {
     "slide_type": "-"
    }
   },
   "outputs": [
    {
     "data": {
      "text/plain": [
       "['Ryan Gosling',\n",
       " 'Emma Stone',\n",
       " 'Amiée Conn',\n",
       " 'Terry Walters',\n",
       " 'Thom Shelton',\n",
       " 'Cinda Adams',\n",
       " 'Callie Hernandez',\n",
       " 'Jessica Rothe',\n",
       " 'Sonoya Mizuno',\n",
       " 'Rosemarie DeWitt',\n",
       " 'J.K. Simmons',\n",
       " 'Claudine Claudio',\n",
       " 'Jason Fuchs',\n",
       " 'D.A. Wallach']"
      ]
     },
     "execution_count": 7,
     "metadata": {},
     "output_type": "execute_result"
    }
   ],
   "source": [
    "get_cast()"
   ]
  }
 ],
 "metadata": {
  "celltoolbar": "Slideshow",
  "kernelspec": {
   "display_name": "Python 3",
   "language": "python",
   "name": "python3"
  },
  "language_info": {
   "codemirror_mode": {
    "name": "ipython",
    "version": 3
   },
   "file_extension": ".py",
   "mimetype": "text/x-python",
   "name": "python",
   "nbconvert_exporter": "python",
   "pygments_lexer": "ipython3",
   "version": "3.6.4"
  }
 },
 "nbformat": 4,
 "nbformat_minor": 2
}
