{
 "cells": [
  {
   "cell_type": "markdown",
   "metadata": {},
   "source": [
    "# Web scraping with `Selenium` web driver\n",
    "\n",
    "Since Selenium WebDriver is created for browser automation, it can be easily used for scraping data from the web. Selenium is to select and navigate the components of a website that are non-static and need to be clicked or chosen from drop-down menus. \n",
    "\n",
    "If there is any content on the page rendered by javascript then Selenium webdriver wait for the entire page to load before crwaling whereas other libs like BeautifulSoup,Scrapy and Requests works only on static pages.\n",
    "\n",
    "Any browsyer actions can be done with the help of Selenium webdriver, if there is any content on the page displayed by on button click or Scrolling or Page Navigation.\n",
    "\n",
    "#### Pros of using WebDriver\n",
    "\n",
    "- WebDriver can simulate a real user working with a browser\n",
    "- WebDriver can scrape a web site using a specific browser\n",
    "- WebDriver can scrape complicated web pages with dynamic content\n",
    "- WebDriver is able to take screenshots of the webpage\n",
    "\n",
    "#### Cons of using WebDriver\n",
    "\n",
    "- The program becomes quite large\n",
    "- The scraping process is slower\n",
    "- The browser generates a bigger network traffic\n",
    "- The scraping can be detected by such simple means as Google Analytics"
   ]
  },
  {
   "cell_type": "markdown",
   "metadata": {},
   "source": [
    "## Web Scraping Bing with `Selenium`  Firefox driver\n",
    "\n",
    "Let’s now load the main bing search page and makes a query to look for “feng li”: You need to install `selenium` module for Python. You also need `geckodriver` and place it in a directory where `$PATH` can find. You could download it from https://github.com/mozilla/geckodriver/releases ."
   ]
  },
  {
   "cell_type": "code",
   "execution_count": 11,
   "metadata": {},
   "outputs": [],
   "source": [
    "from selenium import webdriver\n",
    "driver = webdriver.Firefox()"
   ]
  },
  {
   "cell_type": "code",
   "execution_count": 12,
   "metadata": {},
   "outputs": [],
   "source": [
    "driver.get(\"https://www.bing.com/\")"
   ]
  },
  {
   "cell_type": "code",
   "execution_count": 13,
   "metadata": {},
   "outputs": [],
   "source": [
    "driver.find_element_by_id(\"sb_form_q\").send_keys(\"feng li\")"
   ]
  },
  {
   "cell_type": "code",
   "execution_count": 14,
   "metadata": {},
   "outputs": [],
   "source": [
    "driver.find_element_by_id(\"sb_form_go\").click()"
   ]
  },
  {
   "cell_type": "code",
   "execution_count": 23,
   "metadata": {},
   "outputs": [],
   "source": [
    "#driver.close()\n",
    "#driver.quit()"
   ]
  },
  {
   "cell_type": "markdown",
   "metadata": {},
   "source": [
    "## Web Scraping Baidu with headless web driver\n",
    "\n",
    "To use a headless firefox requires a bit of configuration."
   ]
  },
  {
   "cell_type": "code",
   "execution_count": 32,
   "metadata": {},
   "outputs": [
    {
     "name": "stdout",
     "output_type": "stream",
     "text": [
      "Firefox Headless Browser Invoked\n"
     ]
    }
   ],
   "source": [
    "from selenium import webdriver\n",
    "from selenium.webdriver.firefox.options import Options\n",
    "\n",
    "options = Options()\n",
    "options.add_argument(\"--headless\")\n",
    "driver = webdriver.Firefox(firefox_options=options)\n",
    "print(\"Firefox Headless Browser Invoked\")"
   ]
  },
  {
   "cell_type": "code",
   "execution_count": 33,
   "metadata": {},
   "outputs": [],
   "source": [
    "driver.get(\"https://www.baidu.com/\")\n",
    "driver.find_element_by_id(\"kw\").send_keys(\"李丰 中央财经大学\")"
   ]
  },
  {
   "cell_type": "code",
   "execution_count": 34,
   "metadata": {},
   "outputs": [],
   "source": [
    "driver.find_element_by_id(\"su\").click()\n",
    "results = driver.find_elements_by_xpath('//div[@srcid=\"1599\"]/h3/a')"
   ]
  },
  {
   "cell_type": "code",
   "execution_count": 35,
   "metadata": {
    "scrolled": true
   },
   "outputs": [
    {
     "name": "stdout",
     "output_type": "stream",
     "text": [
      "中央财经大学统计与数学学院导师李丰简介_考研派\n",
      "瑞典斯德哥尔摩大学博士--中央财经大学李丰\n",
      "主页- 中央财经大学教学技术服务中心\n",
      "...届全国高校经管类实验教学案例大赛中取得佳绩 - 中央财经大学...\n",
      "COS访谈第22期:李丰老师-来自微信公众号统计之都-wx.abbao.cn\n",
      "...级博士生李丰羽在《Energy Policy》发表论文_中央财经大学金融...\n",
      "中央财经大学2015年度国家自然科学基金资助立项项..._人大经济论坛\n",
      "李丰 – Dr. Feng Li\n",
      "强势围观!这么炫酷的大学实验室,你见过吗? 丨 探秘中财实验室\n"
     ]
    }
   ],
   "source": [
    "for result in results:\n",
    "    print(result.text)"
   ]
  },
  {
   "cell_type": "code",
   "execution_count": 36,
   "metadata": {},
   "outputs": [],
   "source": [
    "driver.close()"
   ]
  },
  {
   "cell_type": "markdown",
   "metadata": {},
   "source": [
    "# Lab\n",
    "\n",
    "Use `selenium` to implement the case we studied with `BeautifulSoup` in **L2**."
   ]
  }
 ],
 "metadata": {
  "kernelspec": {
   "display_name": "Python 3",
   "language": "python",
   "name": "python3"
  },
  "language_info": {
   "codemirror_mode": {
    "name": "ipython",
    "version": 3
   },
   "file_extension": ".py",
   "mimetype": "text/x-python",
   "name": "python",
   "nbconvert_exporter": "python",
   "pygments_lexer": "ipython3",
   "version": "3.6.4"
  }
 },
 "nbformat": 4,
 "nbformat_minor": 2
}
