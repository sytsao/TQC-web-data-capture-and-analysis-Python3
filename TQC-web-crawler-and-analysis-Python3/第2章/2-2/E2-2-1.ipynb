{
 "cells": [
  {
   "cell_type": "markdown",
   "metadata": {},
   "source": [
    "# Simplest scraping\n",
    "**本範例將開啟簡單的網頁(https://taipeicity.github.io/traffic_realtime/)，接著列印其中所有的內容。**"
   ]
  },
  {
   "cell_type": "code",
   "execution_count": 22,
   "metadata": {},
   "outputs": [
    {
     "name": "stdout",
     "output_type": "stream",
     "text": [
      "b'<!doctype html>\\n<html>\\n  <head>\\n    <meta charset=\"utf-8\">\\n    <meta http-equiv=\"X-UA-Compatible\" content=\"chrome=1\">\\n    <title>\\xe8\\x87\\xba\\xe5\\x8c\\x97\\xe5\\xb8\\x82\\xe6\\x94\\xbf\\xe5\\xba\\x9c \\xe4\\xba\\xa4\\xe9\\x80\\x9a\\xe5\\x8d\\xb3\\xe6\\x99\\x82\\xe8\\xb3\\x87\\xe6\\x96\\x99 \\xe9\\x96\\x8b\\xe6\\x94\\xbe\\xe8\\xb3\\x87\\xe6\\x96\\x99\\xe5\\xb0\\x88\\xe5\\x8d\\x80 by taipeicity</title>\\n\\n    <link rel=\"stylesheet\" href=\"stylesheets/styles.css\">\\n    <link rel=\"stylesheet\" href=\"stylesheets/github-light.css\">\\n    <script src=\"javascripts/scale.fix.js\"></script>\\n\\t<script type=\"text/javascript\"  src=\"javascripts/normal.js\"></script>\\n    <meta name=\"viewport\" content=\"width=device-'\n"
     ]
    }
   ],
   "source": [
    "import urllib.request\n",
    "with urllib.request.urlopen('https://taipeicity.github.io/traffic_realtime/') as html:\n",
    "     print(html.read(500))"
   ]
  },
  {
   "cell_type": "markdown",
   "metadata": {},
   "source": [
    "**若遇到網站採用utf-8 encoding編碼，則需要加上decode('utf-8')**"
   ]
  },
  {
   "cell_type": "code",
   "execution_count": 24,
   "metadata": {},
   "outputs": [
    {
     "name": "stdout",
     "output_type": "stream",
     "text": [
      "<!doctype html>\n",
      "<html>\n",
      "  <head>\n",
      "    <meta charset=\"utf-8\">\n",
      "    <meta http-equiv=\"X-UA-Compatible\" content=\"chrome=1\">\n",
      "    <title>臺北市政府 交通即時資料 開放資料專區 by taipeicity</title>\n",
      "\n",
      "    <link rel=\"stylesheet\" href=\"stylesheets/styles.css\">\n",
      "    <link rel=\"stylesheet\" href=\"sty\n"
     ]
    }
   ],
   "source": [
    "with urllib.request.urlopen('https://taipeicity.github.io/traffic_realtime/') as html:\n",
    "     print(html.read(300).decode('utf-8'))"
   ]
  },
  {
   "cell_type": "markdown",
   "metadata": {},
   "source": [
    "若要處理可能的例外情況，例如找不到網頁或網站目前暫時關閉，需要利用urllib.error模組所回傳的資訊來處理。"
   ]
  },
  {
   "cell_type": "code",
   "execution_count": 25,
   "metadata": {},
   "outputs": [
    {
     "name": "stdout",
     "output_type": "stream",
     "text": [
      "<h1 class=\"header\">臺北市政府 交通即時資料 開放資料專區</h1>\n"
     ]
    }
   ],
   "source": [
    "from urllib.request import urlopen\n",
    "from urllib.error import HTTPError\n",
    "from bs4 import BeautifulSoup\n",
    "import sys\n",
    "\n",
    "\n",
    "def getTitle(url):\n",
    "    try:\n",
    "        html = urlopen(url)\n",
    "    except HTTPError as e:\n",
    "        print(e)\n",
    "        return None\n",
    "    try:\n",
    "        bsObj = BeautifulSoup(html, \"html.parser\")\n",
    "        title = bsObj.body.h1\n",
    "    except AttributeError as e:\n",
    "        return None\n",
    "    return title\n",
    "\n",
    "title = getTitle(\"https://taipeicity.github.io/traffic_realtime/\")\n",
    "if title == None:\n",
    "    print(\"Title could not be found\")\n",
    "else:\n",
    "    print(title)"
   ]
  },
  {
   "cell_type": "markdown",
   "metadata": {},
   "source": [
    "**接著利用re正則表示式對網頁標籤內容進行辨識**"
   ]
  },
  {
   "cell_type": "code",
   "execution_count": 26,
   "metadata": {},
   "outputs": [
    {
     "name": "stdout",
     "output_type": "stream",
     "text": [
      "\n",
      "Page title is:  臺北市政府 交通即時資料 開放資料專區 by taipeicity\n"
     ]
    }
   ],
   "source": [
    "import re\n",
    "res = re.findall(r\"<title>(.+?)</title>\", html)\n",
    "print(\"\\nPage title is: \", res[0])"
   ]
  },
  {
   "cell_type": "markdown",
   "metadata": {},
   "source": [
    "**另一個從網頁抓取內容選取段落的例子**"
   ]
  },
  {
   "cell_type": "code",
   "execution_count": 27,
   "metadata": {},
   "outputs": [
    {
     "name": "stdout",
     "output_type": "stream",
     "text": [
      "\n",
      "Page paragraph is:  若您有任何問題，歡迎來信 <a href=\"mailto:services@mail.taipei.gov.tw\">services@mail.taipei.gov.tw</a> 或來電(02)2720-8889#2858（李先生），感謝您！\n"
     ]
    }
   ],
   "source": [
    "res = re.findall(r\"<p>(.*?)</p>\", html, flags=re.DOTALL)    # re.DOTALL if multi line\n",
    "print(\"\\nPage paragraph is: \", res[0])"
   ]
  },
  {
   "cell_type": "markdown",
   "metadata": {},
   "source": [
    "**也可以利用regex找出LINK**"
   ]
  },
  {
   "cell_type": "code",
   "execution_count": 28,
   "metadata": {},
   "outputs": [
    {
     "name": "stdout",
     "output_type": "stream",
     "text": [
      "\n",
      "All links:  ['stylesheets/styles.css', 'stylesheets/github-light.css', 'https://github.com/taipeicity/traffic_realtime/zipball/master', 'https://github.com/taipeicity/traffic_realtime/tarball/master', 'https://github.com/taipeicity/traffic_realtime', 'https://github.com/taipeicity', '#%E8%B3%87%E6%96%99%E9%9B%86%E5%88%97%E8%A1%A8-%E8%B3%87%E6%96%99%E7%82%BA-json-%E6%A0%BC%E5%BC%8F', 'mailto:services@mail.taipei.gov.tw', '#%E5%85%AC%E8%BB%8A%E5%8D%B3%E6%99%82%E8%B3%87%E6%96%99-%E8%AA%AA%E6%98%8E%E6%96%87%E4%BB%B6', 'https://drive.google.com/file/d/0BzL9ldn5Fg6dcVZ3eUgybkdiTXc/view?usp=sharing', 'https://tcgbusfs.blob.core.windows.net/blobbus/GetPathDetail.gz', 'http://data.taipei/opendata/datalist/datasetMeta?oid=174d780f-6e87-45d8-b779-c608c6f01432', 'https://tcgbusfs.blob.core.windows.net/ntpcbus/GetPathDetail.gz', 'http://data.taipei/opendata/datalist/datasetMeta?oid=2a8f5f42-942c-4974-8366-b44e90ad9701', 'https://tcgbusfs.blob.core.windows.net/blobbus/GetCarInfo.gz', 'http://data.taipei/opendata/datalist/datasetMeta?oid=e1281862-c974-49ca-837e-77f4074e32eb', 'https://tcgbusfs.blob.core.windows.net/ntpcbus/GetCarInfo.gz', 'http://data.taipei/opendata/datalist/datasetMeta?oid=dac7bcd9-c1d2-43ea-8d2d-546ae5de2853', 'https://tcgbusfs.blob.core.windows.net/blobbus/GetOrgPathAttribute.gz', 'http://data.taipei/opendata/datalist/datasetMeta?oid=2181b885-02da-4124-a673-3ca6546c1f1d', 'https://tcgbusfs.blob.core.windows.net/ntpcbus/GetOrgPathAttribute.gz', 'http://data.taipei/opendata/datalist/datasetMeta?oid=73123fbd-f9fa-4f5b-83de-af36b10c063d', 'https://tcgbusfs.blob.core.windows.net/blobbus/GetProvider.gz', 'http://data.taipei/opendata/datalist/datasetMeta?oid=33a7cd78-cf37-45bd-92b0-1f0d97339ff0', 'https://tcgbusfs.blob.core.windows.net/ntpcbus/GetProvider.gz', 'http://data.taipei/opendata/datalist/datasetMeta?oid=1d6ddc52-4927-4cd5-96f3-a177abc9f654', 'https://tcgbusfs.blob.core.windows.net/blobbus/GetRoute.gz', 'http://data.taipei/opendata/datalist/datasetMeta?oid=6a03b03d-90d1-4d9e-a952-c940fd869772', 'https://tcgbusfs.blob.core.windows.net/ntpcbus/GetRoute.gz', 'http://data.taipei/opendata/datalist/datasetMeta?oid=1f5998d2-d9e4-4d9f-8cbb-fe2d29b99c3c', 'https://tcgbusfs.blob.core.windows.net/blobbus/GetTimeTable.gz', 'http://data.taipei/opendata/datalist/datasetMeta?oid=7f284567-cbaa-4153-a289-9ce10820b06c', 'https://tcgbusfs.blob.core.windows.net/ntpcbus/GetTimeTable.gz', 'http://data.taipei/opendata/datalist/datasetMeta?oid=26cc48f3-9896-4218-bdcf-17b9be82cdd1', 'https://tcgbusfs.blob.core.windows.net/blobbus/GetSemiTimeTable.gz', 'http://data.taipei/opendata/datalist/datasetMeta?oid=3e9f580d-ef7d-4389-939f-e93f7b9af535', 'https://tcgbusfs.blob.core.windows.net/ntpcbus/GetSemiTimeTable.gz', 'http://data.taipei/opendata/datalist/datasetMeta?oid=c16d185e-ba3c-4eaa-be92-51fca0e3a364', 'https://tcgbusfs.blob.core.windows.net/blobbus/GetBusData.gz', 'http://data.taipei/opendata/datalist/datasetMeta?oid=c84f781f-02e7-45a4-84c2-0fc690749f66', 'https://tcgbusfs.blob.core.windows.net/ntpcbus/GetBusData.gz', 'http://data.taipei/opendata/datalist/datasetMeta?oid=b410f673-f17b-432b-9fea-26b93dd0aeeb', 'https://tcgbusfs.blob.core.windows.net/blobbus/GetBusEvent.gz', 'http://data.taipei/opendata/datalist/datasetMeta?oid=09672da0-772a-4bf2-9340-587941f958c5', 'https://tcgbusfs.blob.core.windows.net/ntpcbus/GetBusEvent.gz', 'http://data.taipei/opendata/datalist/datasetMeta?oid=8c0351fd-37e2-4712-8771-c89f3b090e36', 'https://tcgbusfs.blob.core.windows.net/blobbus/GetIStop.gz', 'http://data.taipei/opendata/datalist/datasetMeta?oid=6535d6cc-aabc-405c-9167-58a1d32823b9', 'https://tcgbusfs.blob.core.windows.net/ntpcbus/GetIStop.gz', 'http://data.taipei/opendata/datalist/datasetMeta?oid=1155ff0c-453f-4849-b80e-7b66d19835b7', 'https://tcgbusfs.blob.core.windows.net/blobbus/GetIStopPath.gz', 'http://data.taipei/opendata/datalist/datasetMeta?oid=e2ad1cbb-f7aa-4d3c-82d0-d770a7581d7f', 'https://tcgbusfs.blob.core.windows.net/ntpcbus/GetIStopPath.gz', 'http://data.taipei/opendata/datalist/datasetMeta?oid=fa9acdf6-6ba5-4127-a221-671eea99a3ec', 'https://tcgbusfs.blob.core.windows.net/blobbus/GetStop.gz', 'http://data.taipei/opendata/datalist/datasetMeta?oid=62bc76da-6e6b-46ee-8976-c1945092d504', 'https://tcgbusfs.blob.core.windows.net/ntpcbus/GetStop.gz', 'http://data.taipei/opendata/datalist/datasetMeta?oid=010244b7-c4ed-4b03-9436-c6cbe634d483', 'https://tcgbusfs.blob.core.windows.net/blobbus/GetCarUnusual.gz', 'http://data.taipei/opendata/datalist/datasetMeta?oid=ad5c0c55-bfee-4211-be1a-00f938e1bcec', 'https://tcgbusfs.blob.core.windows.net/ntpcbus/GetCarUnusual.gz', 'http://data.taipei/opendata/datalist/datasetMeta?oid=7873a48e-eb30-420b-bb32-ed1fa6868272', 'https://tcgbusfs.blob.core.windows.net/blobbus/GetStopLocation.gz', 'http://data.taipei/opendata/datalist/datasetMeta?oid=ce7d3d2b-096f-4f2d-b7cf-cdd6a529f35c', 'https://tcgbusfs.blob.core.windows.net/ntpcbus/GetStopLocation.gz', 'http://data.taipei/opendata/datalist/datasetMeta?oid=ae7cef90-6dfe-4fad-ad01-43113e924150', 'https://tcgbusfs.blob.core.windows.net/blobbus/GetEstimateTime.gz', 'http://data.taipei/opendata/datalist/datasetMeta?oid=f11a5af0-7b37-48ef-98cc-f6f102ed43c6', 'https://tcgbusfs.blob.core.windows.net/ntpcbus/GetEstimateTime.gz', 'http://data.taipei/opendata/datalist/datasetMeta?oid=1e26ecf6-d5b4-494b-b94f-bee64938dd64', '#%E6%8D%B7%E9%81%8B%E5%88%97%E8%BB%8A%E5%88%B0%E7%AB%99%E8%B3%87%E6%96%99-%E8%AA%AA%E6%98%8E%E6%96%87%E4%BB%B6', 'http://data.taipei/opendata/datalist/datasetMeta?oid=6556e1e8-c908-42d5-b984-b3f7337b139b', 'http://data.taipei/opendata/datalist/apiAccess?scope=resourceAquire&rid=55ec6d6e-dc5c-4268-a725-d04cc262172b', 'http://data.taipei/opendata/datalist/datasetMeta?oid=6556e1e8-c908-42d5-b984-b3f7337b139b', '#%E6%8D%B7%E9%81%8B%E5%88%97%E8%BB%8A%E7%9B%B8%E9%97%9C%E8%B3%87%E6%96%99%E9%9D%9E%E5%8D%B3%E6%99%82', 'http://data.taipei/opendata/datalist/datasetMeta?oid=f278aa11-f97f-4a6e-a3de-51cb8313524a', 'http://data.taipei/opendata/datalist/datasetMeta?oid=782c2b71-8f5a-4575-9bf2-e86999be2863', 'http://data.taipei/opendata/datalist/datasetMeta?oid=513e97fe-6a98-4a0d-b7dc-11122c8638d4', 'http://data.taipei/opendata/datalist/datasetMeta?oid=afccd2ac-75b1-4362-9099-45983e332776', 'http://data.taipei/opendata/datalist/datasetMeta?oid=cfa4778c-62c1-497b-b704-756231de348b', '#%E4%BA%A4%E6%8E%A7%E5%8D%B3%E6%99%82%E8%B3%87%E6%96%99-%E8%AA%AA%E6%98%8E%E6%96%87%E4%BB%B6', 'http://www.dot.gov.taipei/public/mmo/dot/%E8%87%BA%E5%8C%97%E5%B8%82%E4%BA%A4%E9%80%9A%E6%8E%A7%E5%88%B6%E4%B8%AD%E5%BF%83%E8%B3%87%E6%96%99%E5%BA%AB%E4%BB%8B%E6%8E%A5%E8%AA%AA%E6%98%8E%E6%96%87%E4%BB%B6.pdf', 'https://tcgbusfs.blob.core.windows.net/blobtisv/GetVD.xml.gz', 'http://data.taipei/opendata/datalist/datasetMeta?oid=b5aaf33a-a6dc-4836-bce6-09986241fe11', 'https://tcgbusfs.blob.core.windows.net/blobtisv/GetVDDATA.xml.gz', 'http://data.taipei/opendata/datalist/datasetMeta?oid=e57afe7f-3c9e-4f31-9208-eed859a92600', 'https://tcgbusfs.blob.core.windows.net/blobtisv/GetCMS.xml.gz', 'http://data.taipei/opendata/datalist/datasetMeta?oid=2b7f8025-4261-41f2-91e1-f9cdde680ceb', '#%E5%81%9C%E8%BB%8A%E5%A0%B4%E5%8D%B3%E6%99%82%E8%B3%87%E6%96%99-%E8%AA%AA%E6%98%8E%E6%96%87%E4%BB%B6', 'https://drive.google.com/file/d/0BzL9ldn5Fg6dTWF3ZnRZOHFTV1E/view', 'https://tcgbusfs.blob.core.windows.net/blobtcmsv/TCMSV_alldesc.gz', 'http://data.taipei/opendata/datalist/datasetMeta?oid=d5c0656b-5250-4179-a491-c94daa56ef2c', 'https://tcgbusfs.blob.core.windows.net/blobtcmsv/TCMSV_allavailable.gz', 'http://data.taipei/opendata/datalist/datasetMeta?oid=d5c0656b-5250-4179-a491-c94daa56ef2c', '#youbike-%E5%8D%B3%E6%99%82%E8%B3%87%E6%96%99-%E8%AA%AA%E6%98%8E%E6%96%87%E4%BB%B6', 'http://www.dot.gov.taipei/public/mmo/dot/YouBike_JSON%E6%AA%94%E6%A1%88%E8%AA%AA%E6%98%8E(%E4%BF%AE%E6%AD%A3%E7%89%88)_%E5%B1%80%E7%B6%B2.pdf', 'https://tcgbusfs.blob.core.windows.net/blobyoubike/YouBikeTP.gz', 'http://data.taipei/opendata/datalist/datasetMeta?oid=8ef1626a-892a-4218-8344-f7ac46e1aa48', 'https://pages.github.com']\n"
     ]
    }
   ],
   "source": [
    "res = re.findall(r'href=\"(.*?)\"', html)\n",
    "print(\"\\nAll links: \", res)"
   ]
  },
  {
   "cell_type": "code",
   "execution_count": null,
   "metadata": {},
   "outputs": [],
   "source": []
  }
 ],
 "metadata": {
  "kernelspec": {
   "display_name": "Python 3",
   "language": "python",
   "name": "python3"
  },
  "language_info": {
   "codemirror_mode": {
    "name": "ipython",
    "version": 3
   },
   "file_extension": ".py",
   "mimetype": "text/x-python",
   "name": "python",
   "nbconvert_exporter": "python",
   "pygments_lexer": "ipython3",
   "version": "3.6.5"
  }
 },
 "nbformat": 4,
 "nbformat_minor": 1
}
