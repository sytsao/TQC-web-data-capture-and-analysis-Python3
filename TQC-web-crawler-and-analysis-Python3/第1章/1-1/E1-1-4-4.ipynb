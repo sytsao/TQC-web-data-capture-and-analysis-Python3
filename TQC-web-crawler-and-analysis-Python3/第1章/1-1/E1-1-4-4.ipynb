{
 "cells": [
  {
   "cell_type": "code",
   "execution_count": 1,
   "metadata": {},
   "outputs": [
    {
     "name": "stdout",
     "output_type": "stream",
     "text": [
      "679\t69\t191\t510\t73\t815\t182\t583\t96\n",
      "153\t450\t109\t107\t443\t371\t140\t136\t242\n",
      "206\t236\t378\t993\t802\t131\t428\t94\t169\n",
      "572\t201\t687\t30\t53\t519\t58\t247\t891\n",
      "727\t934\t441\t518\t94\t942\t587\t389\t799\n",
      "\n"
     ]
    }
   ],
   "source": [
    "f = open(\"data3.txt\")\n",
    "a= f.read()\n",
    "print(a)"
   ]
  },
  {
   "cell_type": "code",
   "execution_count": 2,
   "metadata": {},
   "outputs": [
    {
     "name": "stdout",
     "output_type": "stream",
     "text": [
      "['679', '69', '191', '510', '73', '815', '182', '583', '96', '153', '450', '109', '107', '443', '371', '140', '136', '242', '206', '236', '378', '993', '802', '131', '428', '94', '169', '572', '201', '687', '30', '53', '519', '58', '247', '891', '727', '934', '441', '518', '94', '942', '587', '389', '799']\n"
     ]
    }
   ],
   "source": [
    "L3= a.split()\n",
    "print(L3)\n",
    "f.close( )"
   ]
  },
  {
   "cell_type": "code",
   "execution_count": 3,
   "metadata": {},
   "outputs": [
    {
     "name": "stdout",
     "output_type": "stream",
     "text": [
      "['679', '69', '191', '510', '73', '815', '182', '583', '96', '153', '450', '109', '107', '443', '371', '140', '136', '242', '206', '236', '378', '993', '802', '131', '428', '94', '169', '572', '201', '687', '30', '53', '519', '58', '247', '891', '727', '934', '441', '518', '94', '942', '587', '389', '799']\n"
     ]
    }
   ],
   "source": [
    "L3= a.split()\n",
    "print(L3)\n",
    "f.close( )"
   ]
  },
  {
   "cell_type": "code",
   "execution_count": 5,
   "metadata": {},
   "outputs": [
    {
     "name": "stdout",
     "output_type": "stream",
     "text": [
      "['679\\t69\\t191\\t510\\t73\\t815\\t182\\t583\\t96\\n', '153\\t450\\t109\\t107\\t443\\t371\\t140\\t136\\t242\\n', '206\\t236\\t378\\t993\\t802\\t131\\t428\\t94\\t169\\n', '572\\t201\\t687\\t30\\t53\\t519\\t58\\t247\\t891\\n', '727\\t934\\t441\\t518\\t94\\t942\\t587\\t389\\t799\\n']\n"
     ]
    }
   ],
   "source": [
    "L4 = list( open(\"data3.txt\"))\n",
    "print(L4)"
   ]
  },
  {
   "cell_type": "code",
   "execution_count": 6,
   "metadata": {},
   "outputs": [
    {
     "name": "stdout",
     "output_type": "stream",
     "text": [
      "['679', '69', '191', '510', '73', '815', '182', '583', '96', '153', '450', '109', '107', '443', '371', '140', '136', '242', '206', '236', '378', '993', '802', '131', '428', '94', '169', '572', '201', '687', '30', '53', '519', '58', '247', '891', '727', '934', '441', '518', '94', '942', '587', '389', '799']\n"
     ]
    }
   ],
   "source": [
    "L5= []\n",
    "for i in L4:\n",
    "    L5.extend( i.split( ) )\n",
    "print(L5)"
   ]
  },
  {
   "cell_type": "code",
   "execution_count": 7,
   "metadata": {},
   "outputs": [
    {
     "name": "stdout",
     "output_type": "stream",
     "text": [
      "[679, 69, 191, 510, 73, 815, 182, 583, 96, 153, 450, 109, 107, 443, 371, 140, 136, 242, 206, 236, 378, 993, 802, 131, 428, 94, 169, 572, 201, 687, 30, 53, 519, 58, 247, 891, 727, 934, 441, 518, 94, 942, 587, 389, 799]\n"
     ]
    }
   ],
   "source": [
    "for i in range( 0 ,len(L5)):\n",
    "    L5[i] =int(L5[ i])\n",
    "print(L5)"
   ]
  },
  {
   "cell_type": "code",
   "execution_count": null,
   "metadata": {
    "collapsed": true
   },
   "outputs": [],
   "source": []
  }
 ],
 "metadata": {
  "kernelspec": {
   "display_name": "Python 3",
   "language": "python",
   "name": "python3"
  },
  "language_info": {
   "codemirror_mode": {
    "name": "ipython",
    "version": 3
   },
   "file_extension": ".py",
   "mimetype": "text/x-python",
   "name": "python",
   "nbconvert_exporter": "python",
   "pygments_lexer": "ipython3",
   "version": "3.6.1"
  }
 },
 "nbformat": 4,
 "nbformat_minor": 2
}
