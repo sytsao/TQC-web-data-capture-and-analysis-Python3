{
 "cells": [
  {
   "cell_type": "code",
   "execution_count": 1,
   "metadata": {},
   "outputs": [
    {
     "name": "stdout",
     "output_type": "stream",
     "text": [
      "34\n",
      "78\n",
      "47\n",
      "787\n",
      "84\n",
      "25\n",
      "69\n",
      "25\n",
      "58\n",
      "67\n",
      "52\n",
      "77\n",
      "12\n",
      "67\n",
      "325\n",
      "33\n"
     ]
    }
   ],
   "source": [
    "f= open(\"data2.txt\", \"r+\")\n",
    "a= f.read()\n",
    "print(a)"
   ]
  },
  {
   "cell_type": "code",
   "execution_count": 2,
   "metadata": {},
   "outputs": [
    {
     "name": "stdout",
     "output_type": "stream",
     "text": [
      "['34', '78', '47', '787', '84', '25', '69', '25', '58', '67', '52', '77', '12', '67', '325', '33']\n"
     ]
    }
   ],
   "source": [
    "L2 = a.splitlines()\n",
    "print(L2)"
   ]
  },
  {
   "cell_type": "code",
   "execution_count": 3,
   "metadata": {},
   "outputs": [
    {
     "name": "stdout",
     "output_type": "stream",
     "text": [
      "['34\\n', '78\\n', '47\\n', '787\\n', '84\\n', '25\\n', '69\\n', '25\\n', '58\\n', '67\\n', '52\\n', '77\\n', '12\\n', '67\\n', '325\\n', '33']\n"
     ]
    }
   ],
   "source": [
    "f= open(\"data2.txt\", \"r+\")\n",
    "L3 = f.readlines()\n",
    "print(L3)\n",
    "f.close( )"
   ]
  },
  {
   "cell_type": "code",
   "execution_count": null,
   "metadata": {
    "collapsed": true
   },
   "outputs": [],
   "source": []
  }
 ],
 "metadata": {
  "kernelspec": {
   "display_name": "Python 3",
   "language": "python",
   "name": "python3"
  },
  "language_info": {
   "codemirror_mode": {
    "name": "ipython",
    "version": 3
   },
   "file_extension": ".py",
   "mimetype": "text/x-python",
   "name": "python",
   "nbconvert_exporter": "python",
   "pygments_lexer": "ipython3",
   "version": "3.6.1"
  }
 },
 "nbformat": 4,
 "nbformat_minor": 2
}
