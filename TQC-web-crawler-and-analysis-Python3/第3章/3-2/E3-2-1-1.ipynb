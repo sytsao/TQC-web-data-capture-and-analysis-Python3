{
 "cells": [
  {
   "cell_type": "markdown",
   "metadata": {},
   "source": [
    "\n",
    "# 建立一維NumPy Arrays\n",
    "\n",
    "可以經由傳送串列(list)或元組(tuple)給`np.array`即可建立一維陣列."
   ]
  },
  {
   "cell_type": "code",
   "execution_count": 1,
   "metadata": {},
   "outputs": [
    {
     "name": "stdout",
     "output_type": "stream",
     "text": [
      "[1 2 3 4]\n",
      "[1 2 3 4]\n"
     ]
    }
   ],
   "source": [
    "import numpy as np\n",
    "a = np.array([1, 2, 3, 4])\n",
    "b = np.array((1, 2, 3, 4))\n",
    "print(a)\n",
    "print(b)"
   ]
  },
  {
   "cell_type": "markdown",
   "metadata": {},
   "source": [
    "也可以透過`np.arange`建立一維NumPy array，其使用方式類似Python標準庫中的`range`，如下面實例可在3-30(包含3但不含30)間隔3建立一維陣列。"
   ]
  },
  {
   "cell_type": "code",
   "execution_count": 2,
   "metadata": {},
   "outputs": [
    {
     "name": "stdout",
     "output_type": "stream",
     "text": [
      "[ 3  6  9 12 15 18 21 24 27]\n"
     ]
    }
   ],
   "source": [
    "c = np.arange(3, 30, 3)\n",
    "print(c)"
   ]
  },
  {
   "cell_type": "markdown",
   "metadata": {},
   "source": [
    "`np.linspace` 則可建立一個間隔相同的陣列，如下面實例可在0-10間建立有5個元素的陣列，間隔相同(均為2.5)"
   ]
  },
  {
   "cell_type": "code",
   "execution_count": 3,
   "metadata": {},
   "outputs": [
    {
     "name": "stdout",
     "output_type": "stream",
     "text": [
      "[ 0.   2.5  5.   7.5 10. ]\n"
     ]
    }
   ],
   "source": [
    "pi_steps = np.linspace(0, 10, 5)\n",
    "print(pi_steps)"
   ]
  },
  {
   "cell_type": "markdown",
   "metadata": {},
   "source": [
    "## 一維陣列以索引(Index)存取元素"
   ]
  },
  {
   "cell_type": "code",
   "execution_count": 4,
   "metadata": {},
   "outputs": [
    {
     "name": "stdout",
     "output_type": "stream",
     "text": [
      "[ 3  6  9 12 15 18 21 24 27]\n",
      "3\n",
      "6\n",
      "[ 9 12 15 18]\n",
      "[ 6 12 18 24]\n"
     ]
    }
   ],
   "source": [
    "print(c)\n",
    "print(c[0])  # 取得在index位置0的元素\n",
    "print(c[1])  # 取得在index位置1的元素\n",
    "print(c[2:6])  # 取得在index位置2-5(包含2但不含6)的子陣列(subarray)\n",
    "print(c[1:-1:2])  # 取得陣列c中index位置1,3,5,..(各間隔1個元素來選取)的子陣列"
   ]
  },
  {
   "cell_type": "markdown",
   "metadata": {},
   "source": [
    "# 多維陣列(multi-dimensional arrays)\n",
    "可以經由直接傳送多維串列(list)給np.array即可建立多維陣列，接著可以透過`np.shape`取得其外形(shape)。如下面實例中two_dim為2X3陣列(2列3行)；three_dim則為2X3X4陣列："
   ]
  },
  {
   "cell_type": "code",
   "execution_count": 6,
   "metadata": {},
   "outputs": [
    {
     "name": "stdout",
     "output_type": "stream",
     "text": [
      "(3, 4)\n",
      "(2, 3, 4)\n"
     ]
    }
   ],
   "source": [
    "two_dim = np.array([[ 1,  2,  3,  4],\n",
    "                    [ 5,  6,  7,  8],\n",
    "                    [ 9, 10, 11, 12]])\n",
    "three_dim = np.array([[[ 1,  2,  3,  4],\n",
    "                       [ 5,  6,  7,  8],\n",
    "                       [ 9, 10, 11, 12]],\n",
    "                      [[13, 14, 15, 16],\n",
    "                       [17, 18, 19, 20],\n",
    "                       [21, 22, 23, 24]]])\n",
    "print(two_dim.shape)\n",
    "print(three_dim.shape)"
   ]
  },
  {
   "cell_type": "markdown",
   "metadata": {},
   "source": [
    "也可以建立一維陣列，接著利用numpy的`reshape`可以轉為所需要的各種外形。如下面實例中，a原為1X25陣列，可以reshape為5X5陣列；也可以直接建立陣列後呼叫`reshape`方法轉為3X4陣列。"
   ]
  },
  {
   "cell_type": "code",
   "execution_count": 7,
   "metadata": {},
   "outputs": [
    {
     "name": "stdout",
     "output_type": "stream",
     "text": [
      "[[ 1  2  3  4  5]\n",
      " [ 6  7  8  9 10]\n",
      " [11 12 13 14 15]\n",
      " [16 17 18 19 20]\n",
      " [21 22 23 24 25]]\n",
      "15\n",
      "(5, 5)\n"
     ]
    },
    {
     "data": {
      "text/plain": [
       "array([[ 0,  1,  2,  3],\n",
       "       [ 4,  5,  6,  7],\n",
       "       [ 8,  9, 10, 11]])"
      ]
     },
     "execution_count": 7,
     "metadata": {},
     "output_type": "execute_result"
    }
   ],
   "source": [
    "a = np.arange(1, 26).reshape(5, 5)\n",
    "print(a.shape)\n",
    "print(a)\n",
    "print(a[2, 4])\n",
    "print(a.shape)\n",
    "np.arange(12).reshape(3, 4)"
   ]
  },
  {
   "cell_type": "markdown",
   "metadata": {},
   "source": [
    "## 多維陣列以Index存取元素\n"
   ]
  },
  {
   "cell_type": "code",
   "execution_count": 9,
   "metadata": {},
   "outputs": [
    {
     "name": "stdout",
     "output_type": "stream",
     "text": [
      "[[ 1  2  3  4  5]\n",
      " [ 6  7  8  9 10]\n",
      " [11 12 13 14 15]\n",
      " [16 17 18 19 20]\n",
      " [21 22 23 24 25]]\n",
      "[2 3 4]\n",
      "[ 6 11 16]\n",
      "[[ 1  3  5]\n",
      " [11 13 15]\n",
      " [21 23 25]]\n",
      "[ 2  7 12 17 22]\n"
     ]
    }
   ],
   "source": [
    "a = np.arange(1, 26).reshape(5, 5)\n",
    "print(a)\n",
    "print(a[0, 1:4])  # 獲取由row 0(第0個橫列)中第1個-第3個元素(不含第4個)產生的一維子陣列\n",
    "print(a[1:4, 0])  # 獲取由column 0(第0個直行)中第1個-第3個元素(不含第4個)產生的一維子陣列\n",
    "print(a[::2,::2])  # 獲取一個二維陣列，由橫列與直行中隔個元素產生(0、2、4列與0、2、4行，也就是(0,0),(0,2),(0,4),(2,0),(2,2),(4),(4,0),(4,2),(4,4等9個元素)\n",
    "print(a[:, 1])  # 獲取由整個column 1(第1個直行)中元素產生的一維子陣列"
   ]
  },
  {
   "cell_type": "code",
   "execution_count": 14,
   "metadata": {},
   "outputs": [
    {
     "name": "stdout",
     "output_type": "stream",
     "text": [
      "陣列a\n",
      " [[[ 0  1  2  3  4]\n",
      "  [ 5  6  7  8  9]\n",
      "  [10 11 12 13 14]]\n",
      "\n",
      " [[15 16 17 18 19]\n",
      "  [20 21 22 23 24]\n",
      "  [25 26 27 28 29]]\n",
      "\n",
      " [[30 31 32 33 34]\n",
      "  [35 36 37 38 39]\n",
      "  [40 41 42 43 44]]\n",
      "\n",
      " [[45 46 47 48 49]\n",
      "  [50 51 52 53 54]\n",
      "  [55 56 57 58 59]]]\n",
      "a[0, 1, 2]= 7\n",
      "a[:,2]=\n",
      " [[10 11 12 13 14]\n",
      " [25 26 27 28 29]\n",
      " [40 41 42 43 44]\n",
      " [55 56 57 58 59]]\n",
      "a[:,:,2]=\n",
      " [[ 2  7 12]\n",
      " [17 22 27]\n",
      " [32 37 42]\n",
      " [47 52 57]]\n",
      "a[::2,::2,::2]=\n",
      " [[[ 0  2  4]\n",
      "  [10 12 14]]\n",
      "\n",
      " [[30 32 34]\n",
      "  [40 42 44]]]\n"
     ]
    }
   ],
   "source": [
    "a = np.arange(0, 60).reshape((4, 3, 5))\n",
    "print(\"陣列a\\n\",a)\n",
    "\n",
    "print(\"a[0, 1, 2]=\",a[0, 1, 2])  # 存取a[0][1][2]\n",
    "print(\"a[:,2]=\\n\",a[:,2])  # 產生由內部二維陣列中row 2(第三個橫列)組成的串列\n",
    "print(\"a[:,:,2]=\\n\",a[:,:,2])  # 產生由內部二維陣列中column 2(第三個直行)組成的串列\n",
    "print(\"a[::2,::2,::2]=\\n\",a[::2,::2,::2])  # 產生一個三維陣列，由橫列與直行中隔個元素產生"
   ]
  }
 ],
 "metadata": {
  "kernelspec": {
   "display_name": "Python 3",
   "language": "python",
   "name": "python3"
  },
  "language_info": {
   "codemirror_mode": {
    "name": "ipython",
    "version": 3
   },
   "file_extension": ".py",
   "mimetype": "text/x-python",
   "name": "python",
   "nbconvert_exporter": "python",
   "pygments_lexer": "ipython3",
   "version": "3.6.5"
  }
 },
 "nbformat": 4,
 "nbformat_minor": 2
}
