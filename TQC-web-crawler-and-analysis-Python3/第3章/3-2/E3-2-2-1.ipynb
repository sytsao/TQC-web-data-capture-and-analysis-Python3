{
 "cells": [
  {
   "cell_type": "markdown",
   "metadata": {},
   "source": [
    "# Numpy的聚合操作(Aggregation operations)"
   ]
  },
  {
   "cell_type": "markdown",
   "metadata": {},
   "source": [
    "通常在面對大量資料時，要先計算相關資料的摘要統計資訊，NumPy具有內置的聚合操作功能，可用於處理陣列，本範例將展示這些功能。"
   ]
  },
  {
   "cell_type": "markdown",
   "metadata": {},
   "source": [
    "## 加總陣列中的資料值\n",
    "\n",
    "進行加總，可以利用Python內建的 ``sum`` 功能:"
   ]
  },
  {
   "cell_type": "code",
   "execution_count": 1,
   "metadata": {},
   "outputs": [
    {
     "name": "stdout",
     "output_type": "stream",
     "text": [
      "[0.27519442 0.21383682 0.37824873 0.21087795 0.8437888  0.12147178\n",
      " 0.7981921  0.26025743 0.91075127 0.03418838]\n",
      "4.046807691021659\n"
     ]
    }
   ],
   "source": [
    "import numpy as np\n",
    "L = np.random.random(10)\n",
    "print(L)\n",
    "print(sum(L))"
   ]
  },
  {
   "cell_type": "markdown",
   "metadata": {},
   "source": [
    "在NumPy中`np.sum`語法與Python內建功能類似，也可以得到相同結果:"
   ]
  },
  {
   "cell_type": "code",
   "execution_count": 2,
   "metadata": {},
   "outputs": [
    {
     "data": {
      "text/plain": [
       "4.046807691021659"
      ]
     },
     "execution_count": 2,
     "metadata": {},
     "output_type": "execute_result"
    }
   ],
   "source": [
    "np.sum(L)"
   ]
  },
  {
   "cell_type": "markdown",
   "metadata": {},
   "source": [
    "但是因為利用編譯後程式碼執行，NumPy版本遠比Python版本快:"
   ]
  },
  {
   "cell_type": "code",
   "execution_count": 3,
   "metadata": {},
   "outputs": [
    {
     "name": "stdout",
     "output_type": "stream",
     "text": [
      "Python內建版本：\n",
      "133 ms ± 1.11 ms per loop (mean ± std. dev. of 7 runs, 10 loops each)\n",
      "Numpy版本：\n",
      "939 µs ± 5.05 µs per loop (mean ± std. dev. of 7 runs, 1000 loops each)\n"
     ]
    }
   ],
   "source": [
    "big_array = np.random.rand(1000000)\n",
    "print(\"Python內建版本：\")\n",
    "%timeit sum(big_array)\n",
    "print(\"Numpy版本：\")\n",
    "%timeit np.sum(big_array)"
   ]
  },
  {
   "cell_type": "markdown",
   "metadata": {},
   "source": [
    "## 最小值與最大值\n",
    "\n",
    "同樣的， Python也有內建的``min`` 與 ``max`` 功能，可用來找尋所給陣列中的最小值與最大值:"
   ]
  },
  {
   "cell_type": "code",
   "execution_count": 4,
   "metadata": {},
   "outputs": [
    {
     "data": {
      "text/plain": [
       "(5.678456824753653e-07, 0.9999999024603322)"
      ]
     },
     "execution_count": 4,
     "metadata": {},
     "output_type": "execute_result"
    }
   ],
   "source": [
    "min(big_array), max(big_array)"
   ]
  },
  {
   "cell_type": "markdown",
   "metadata": {},
   "source": [
    "在NumPy中也有`np.min`與`np.max`，也可以得到相同結果，但是速度截然不同"
   ]
  },
  {
   "cell_type": "code",
   "execution_count": 5,
   "metadata": {},
   "outputs": [
    {
     "data": {
      "text/plain": [
       "(5.678456824753653e-07, 0.9999999024603322)"
      ]
     },
     "execution_count": 5,
     "metadata": {},
     "output_type": "execute_result"
    }
   ],
   "source": [
    "np.min(big_array), np.max(big_array)"
   ]
  },
  {
   "cell_type": "code",
   "execution_count": 6,
   "metadata": {},
   "outputs": [
    {
     "name": "stdout",
     "output_type": "stream",
     "text": [
      "Python內建版本：\n",
      "54.2 ms ± 356 µs per loop (mean ± std. dev. of 7 runs, 10 loops each)\n",
      "Numpy版本：\n",
      "438 µs ± 21.8 µs per loop (mean ± std. dev. of 7 runs, 1000 loops each)\n"
     ]
    }
   ],
   "source": [
    "print(\"Python內建版本：\")\n",
    "%timeit min(big_array)\n",
    "print(\"Numpy版本：\")\n",
    "%timeit np.min(big_array)"
   ]
  },
  {
   "cell_type": "markdown",
   "metadata": {},
   "source": [
    "對於``min``，``max``，``sum``和其他幾個NumPy聚合功能，更短的寫法是使用陣列物件本身的方法："
   ]
  },
  {
   "cell_type": "code",
   "execution_count": 7,
   "metadata": {},
   "outputs": [
    {
     "name": "stdout",
     "output_type": "stream",
     "text": [
      "5.678456824753653e-07 0.9999999024603322 500441.63962966343\n"
     ]
    }
   ],
   "source": [
    "print(big_array.min(), big_array.max(), big_array.sum())"
   ]
  },
  {
   "cell_type": "markdown",
   "metadata": {},
   "source": [
    "Whenever possible, make sure that you are using the NumPy version of these aggregates when operating on NumPy arrays!"
   ]
  },
  {
   "cell_type": "markdown",
   "metadata": {},
   "source": [
    "### 多維陣列聚合操作\n",
    "\n",
    "假設您有一些儲存存在二維陣列中的資料，預設是對整個陣列進行聚合操作，但也可以進行聚合操作是沿行或列聚合："
   ]
  },
  {
   "cell_type": "code",
   "execution_count": 8,
   "metadata": {},
   "outputs": [
    {
     "name": "stdout",
     "output_type": "stream",
     "text": [
      "[[0.2161298  0.24452895 0.9039042  0.06511674]\n",
      " [0.95245665 0.96426864 0.66881504 0.32197578]\n",
      " [0.43814338 0.03070089 0.30242855 0.33516801]\n",
      " [0.45101403 0.73766608 0.16497214 0.2081843 ]]\n",
      "7.005473168787838\n"
     ]
    }
   ],
   "source": [
    "M = np.random.random((4, 4))\n",
    "print(M)\n",
    "print(M.sum())"
   ]
  },
  {
   "cell_type": "markdown",
   "metadata": {},
   "source": [
    "聚合函數採用另一個參數來指定計算聚合的*軸*。 例如，我們可以通過指定``axis = 0``找到每列中的最小值，指定``axis = 1``找到每行中的最小值："
   ]
  },
  {
   "cell_type": "code",
   "execution_count": 9,
   "metadata": {},
   "outputs": [
    {
     "name": "stdout",
     "output_type": "stream",
     "text": [
      "[0.2161298  0.03070089 0.16497214 0.06511674]\n",
      "[0.06511674 0.32197578 0.03070089 0.16497214]\n"
     ]
    }
   ],
   "source": [
    "print(M.min(axis=0))\n",
    "print(M.min(axis=1))"
   ]
  },
  {
   "cell_type": "markdown",
   "metadata": {},
   "source": [
    "max與sum也可以進行類似的操作。"
   ]
  },
  {
   "cell_type": "code",
   "execution_count": 10,
   "metadata": {},
   "outputs": [
    {
     "name": "stdout",
     "output_type": "stream",
     "text": [
      "[0.95245665 0.96426864 0.9039042  0.33516801]\n",
      "[0.9039042  0.96426864 0.43814338 0.73766608]\n",
      "[2.05774385 1.97716456 2.04011993 0.93044482]\n",
      "[1.42967968 2.90751611 1.10644083 1.56183655]\n"
     ]
    }
   ],
   "source": [
    "print(M.max(axis=0))\n",
    "print(M.max(axis=1))\n",
    "print(M.sum(axis=0))\n",
    "print(M.sum(axis=1))"
   ]
  },
  {
   "cell_type": "markdown",
   "metadata": {},
   "source": [
    "在此處指定軸的方式中，``axis``關鍵字指定將折疊*的陣列的*維度，而不是將返回的維度。因此，指定``axis = 0``意味著第一個軸將被折疊：對於二維陣列，這意味著將聚合每列中的值。"
   ]
  },
  {
   "cell_type": "markdown",
   "metadata": {},
   "source": [
    "### 其他聚合操作\n",
    "\n",
    "NumPy提供了許多其他聚合函數，大多數聚合都有一個“NaN”安全對應物來計算結果，同時忽略缺失值，缺失值由特殊的IEEE浮點“NaN”值標記。\n",
    "下表提供了NumPy中可用的有用聚合函數的列表：\n",
    "\n",
    "|功能名稱| NaN安全版| 說明|\n",
    "|-------------------|---------------------|-----------------------------------------------|\n",
    "| ``np.sum`` | ``np.nansum`` |計算元素之和|\n",
    "| ``np.prod`` | ``np.nanprod`` |計算元素的乘積|\n",
    "| ``np.mean`` | ``np.nanmean`` |計算元素的中位數|\n",
    "| ``np.std`` | ``np.nanstd`` |計算標準差|\n",
    "| ``np.var`` | ``np.nanvar`` |計算方差|\n",
    "| ``np.min`` | ``np.nanmin`` |找到最小值|\n",
    "| ``np.max`` | ``np.nanmax`` |找到最大值|\n",
    "| ``np.argmin`` | ``np.nanargmin`` |查找最小值索引|\n",
    "| ``np.argmax`` | ``np.nanargmax`` |查找最大值的索引|\n",
    "| ``np.median`` | ``np.nanmedian`` |計算元素的中位數|\n",
    "| ``np.percentile`` | ``np.nanpercentile`` |計算元素的基於排名的統計數據|\n",
    "| ``np.any`` | N / A |評估是否有任何元素是真的|\n",
    "| ``np.all`` | N / A |評估所有元素是否都為真|\n"
   ]
  }
 ],
 "metadata": {
  "anaconda-cloud": {},
  "kernelspec": {
   "display_name": "Python 3",
   "language": "python",
   "name": "python3"
  },
  "language_info": {
   "codemirror_mode": {
    "name": "ipython",
    "version": 3
   },
   "file_extension": ".py",
   "mimetype": "text/x-python",
   "name": "python",
   "nbconvert_exporter": "python",
   "pygments_lexer": "ipython3",
   "version": "3.6.5"
  }
 },
 "nbformat": 4,
 "nbformat_minor": 1
}
