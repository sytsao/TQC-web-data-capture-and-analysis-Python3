{
 "cells": [
  {
   "cell_type": "markdown",
   "metadata": {},
   "source": [
    "# 字典資料型態\n",
    "\n",
    "字典資料型態提供了一種訪問和組織資料的靈活方式。\n",
    "像串列一樣，字典是許多值的集合。 但與串列索引不同，字典索引可以使用許多不同的資料型態，而不僅僅是整數。 字典的索引稱為鍵，具有關聯值的鍵稱為鍵值對。\n",
    "在代碼中，字典用大括號“{}”鍵入。"
   ]
  },
  {
   "cell_type": "code",
   "execution_count": 1,
   "metadata": {},
   "outputs": [
    {
     "data": {
      "text/plain": [
       "{'color': 'greyscale',\n",
       " 'size': 256789,\n",
       " 'type': 'jpg',\n",
       " 'address': 'file:PIC_0390.jpg'}"
      ]
     },
     "execution_count": 1,
     "metadata": {},
     "output_type": "execute_result"
    }
   ],
   "source": [
    "image = {'color': 'greyscale', 'size': 256789, 'type': 'jpg',\n",
    "         'address': 'file:PIC_0390.jpg'}\n",
    "\n",
    "image"
   ]
  },
  {
   "cell_type": "markdown",
   "metadata": {},
   "source": [
    "這為`image`變數分配了一個字典。 這本詞典的鍵是“'color”，“size”，“type”和“地址”。 這些鍵的值分別是''greyscale'，`289983`，''jpg'`和`'https：// upload.wikimedia.org/wikipedia/comons/7 / 7b / Moby_Dick_p510_illustration.jpg'。。 您可以通過其鍵訪問這些值。"
   ]
  },
  {
   "cell_type": "code",
   "execution_count": 2,
   "metadata": {},
   "outputs": [
    {
     "data": {
      "text/plain": [
       "'greyscale'"
      ]
     },
     "execution_count": 2,
     "metadata": {},
     "output_type": "execute_result"
    }
   ],
   "source": [
    "image['color']"
   ]
  },
  {
   "cell_type": "code",
   "execution_count": 3,
   "metadata": {},
   "outputs": [
    {
     "data": {
      "text/plain": [
       "256789"
      ]
     },
     "execution_count": 3,
     "metadata": {},
     "output_type": "execute_result"
    }
   ],
   "source": [
    "image['size']"
   ]
  },
  {
   "cell_type": "markdown",
   "metadata": {},
   "source": [
    "字典仍然可以使用整數值作為鍵，就像列表使用整數作為索引一樣，但它們不必從“0”開始，可以是任何數字。"
   ]
  },
  {
   "cell_type": "code",
   "execution_count": 4,
   "metadata": {},
   "outputs": [],
   "source": [
    "image = {510: 'page in book', 'color': 'greyscale', 'size': 256789, 'type': 'jpg',\n",
    "         'address': 'file:PIC_0390.jpg'}"
   ]
  },
  {
   "cell_type": "code",
   "execution_count": 5,
   "metadata": {},
   "outputs": [
    {
     "data": {
      "text/plain": [
       "'page in book'"
      ]
     },
     "execution_count": 5,
     "metadata": {},
     "output_type": "execute_result"
    }
   ],
   "source": [
    "image[510]"
   ]
  },
  {
   "cell_type": "markdown",
   "metadata": {},
   "source": [
    "## 字典與串列\n",
    "\n",
    "與串列不同，字典中的項目是無序的。 名為`values`的串列中的第一項將是`values [0]`。 但字典中沒有“第一”項。 雖然項目的順序對於確定兩個串列是否相同很重要，但鍵值對在字典中鍵入的順序無關緊要。"
   ]
  },
  {
   "cell_type": "code",
   "execution_count": 6,
   "metadata": {},
   "outputs": [
    {
     "data": {
      "text/plain": [
       "False"
      ]
     },
     "execution_count": 6,
     "metadata": {},
     "output_type": "execute_result"
    }
   ],
   "source": [
    "fst_sentence = ['Call', 'me', 'Howard']\n",
    "fst_sentence_juggled = ['Howard', 'me', 'Call']\n",
    "\n",
    "fst_sentence == fst_sentence_juggled"
   ]
  },
  {
   "cell_type": "code",
   "execution_count": 7,
   "metadata": {},
   "outputs": [
    {
     "data": {
      "text/plain": [
       "True"
      ]
     },
     "execution_count": 7,
     "metadata": {},
     "output_type": "execute_result"
    }
   ],
   "source": [
    "fst_sentence = {1: 'Call', 2: 'me', 3: 'Howard'}\n",
    "fst_sentence_juggled = {3: 'Howard', 2: 'me', 1: 'Call'}\n",
    "\n",
    "fst_sentence == fst_sentence_juggled"
   ]
  },
  {
   "cell_type": "markdown",
   "metadata": {},
   "source": [
    "由於字典不是有序的，因此不能像串列那樣切片。"
   ]
  },
  {
   "cell_type": "markdown",
   "metadata": {},
   "source": [
    "## 訪問字典中的值\n",
    "要獲取與鍵關聯的值，請提供字典的名稱，然後將鍵放在一組方括號內。嘗試訪問字典中不存在的鍵將導致出現“KeyError”錯誤消息，就像列表的“超出範圍”的“IndexError”錯誤消息一樣。"
   ]
  },
  {
   "cell_type": "code",
   "execution_count": 8,
   "metadata": {},
   "outputs": [
    {
     "data": {
      "text/plain": [
       "256789"
      ]
     },
     "execution_count": 8,
     "metadata": {},
     "output_type": "execute_result"
    }
   ],
   "source": [
    "image = {'color': 'greyscale', 'size': 256789, 'type': 'jpg',\n",
    "         'address': 'file:PIC_0390.jpg'}\n",
    "\n",
    "image['size']"
   ]
  },
  {
   "cell_type": "code",
   "execution_count": 9,
   "metadata": {},
   "outputs": [
    {
     "ename": "KeyError",
     "evalue": "'author'",
     "output_type": "error",
     "traceback": [
      "\u001b[1;31m---------------------------------------------------------------------------\u001b[0m",
      "\u001b[1;31mKeyError\u001b[0m                                  Traceback (most recent call last)",
      "\u001b[1;32m<ipython-input-9-03c3970ec369>\u001b[0m in \u001b[0;36m<module>\u001b[1;34m()\u001b[0m\n\u001b[1;32m----> 1\u001b[1;33m \u001b[0mimage\u001b[0m\u001b[1;33m[\u001b[0m\u001b[1;34m'author'\u001b[0m\u001b[1;33m]\u001b[0m\u001b[1;33m\u001b[0m\u001b[0m\n\u001b[0m",
      "\u001b[1;31mKeyError\u001b[0m: 'author'"
     ]
    }
   ],
   "source": [
    "image['author']"
   ]
  },
  {
   "cell_type": "markdown",
   "metadata": {},
   "source": [
    "## 添加新的鍵值對\n",
    "\n",
    "字典是動態結構，您可以隨時向字典添加新的鍵值對。 例如，要添加新的鍵值對，可以給出字典的名稱，後跟方括號中的新鍵以及新值。"
   ]
  },
  {
   "cell_type": "code",
   "execution_count": 10,
   "metadata": {},
   "outputs": [
    {
     "data": {
      "text/plain": [
       "{'color': 'greyscale',\n",
       " 'size': 256789,\n",
       " 'type': 'jpg',\n",
       " 'address': 'file:PIC_0390.jpg',\n",
       " 'source': 'Wikipedia'}"
      ]
     },
     "execution_count": 10,
     "metadata": {},
     "output_type": "execute_result"
    }
   ],
   "source": [
    "image = {'color': 'greyscale', 'size': 256789, 'type': 'jpg',\n",
    "         'address': 'file:PIC_0390.jpg'}\n",
    "\n",
    "image['source'] = 'Wikipedia'\n",
    "image"
   ]
  },
  {
   "cell_type": "markdown",
   "metadata": {},
   "source": [
    "## 修改字典中的值\n",
    "\n",
    "要修改字典中的值，請使用方括號中的鍵給出字典的名稱，然後使用與該鍵關聯的新值。"
   ]
  },
  {
   "cell_type": "code",
   "execution_count": 11,
   "metadata": {},
   "outputs": [
    {
     "data": {
      "text/plain": [
       "{'color': 'Black&White',\n",
       " 'size': 256789,\n",
       " 'type': 'jpg',\n",
       " 'address': 'file:PIC_0390.jpg'}"
      ]
     },
     "execution_count": 11,
     "metadata": {},
     "output_type": "execute_result"
    }
   ],
   "source": [
    "image = {'color': 'greyscale', 'size': 256789, 'type': 'jpg',\n",
    "         'address': 'file:PIC_0390.jpg'}\n",
    "\n",
    "image['color'] = 'Black&White'\n",
    "image"
   ]
  },
  {
   "cell_type": "markdown",
   "metadata": {},
   "source": [
    "## 刪除鍵值對\n",
    "\n",
    "可以使用`del`語句來完全刪除鍵值對，其中填入字典的名稱和要刪除的鍵。"
   ]
  },
  {
   "cell_type": "code",
   "execution_count": 12,
   "metadata": {},
   "outputs": [
    {
     "data": {
      "text/plain": [
       "{'size': 256789, 'type': 'jpg', 'address': 'file:PIC_0390.jpg'}"
      ]
     },
     "execution_count": 12,
     "metadata": {},
     "output_type": "execute_result"
    }
   ],
   "source": [
    "del image['color']\n",
    "\n",
    "image"
   ]
  },
  {
   "cell_type": "markdown",
   "metadata": {},
   "source": [
    "## `keys（）`，`values（）`和`items（）`方法\n",
    "\n",
    "有三種字典方法將返回字典的鍵，值或鍵和值的類似列表值：`keys（）`，`values（）`和`items（）`。 這些方法返回的值不是真正的串列：它們**不能修改，也沒有`append（）`方法**。 但是這些資料型態（分別是`dict_keys`，`dict_values`和`dict_items`）可以用於for迴圈。"
   ]
  },
  {
   "cell_type": "code",
   "execution_count": 13,
   "metadata": {
    "scrolled": true
   },
   "outputs": [
    {
     "name": "stdout",
     "output_type": "stream",
     "text": [
      "color\n",
      "size\n",
      "type\n",
      "address\n"
     ]
    }
   ],
   "source": [
    "image = {'color': 'greyscale', 'size': 256789, 'type': 'jpg',\n",
    "         'address': 'file:PIC_0390.jpg'}\n",
    "\n",
    "for key in image.keys():\n",
    "    print(key)"
   ]
  },
  {
   "cell_type": "code",
   "execution_count": 14,
   "metadata": {},
   "outputs": [
    {
     "name": "stdout",
     "output_type": "stream",
     "text": [
      "greyscale\n",
      "256789\n",
      "jpg\n",
      "file:PIC_0390.jpg\n"
     ]
    }
   ],
   "source": [
    "for value in image.values():\n",
    "    print(value)"
   ]
  },
  {
   "cell_type": "code",
   "execution_count": 15,
   "metadata": {},
   "outputs": [
    {
     "name": "stdout",
     "output_type": "stream",
     "text": [
      "color\n",
      "\t -greyscale\n",
      "size\n"
     ]
    },
    {
     "ename": "TypeError",
     "evalue": "must be str, not int",
     "output_type": "error",
     "traceback": [
      "\u001b[1;31m---------------------------------------------------------------------------\u001b[0m",
      "\u001b[1;31mTypeError\u001b[0m                                 Traceback (most recent call last)",
      "\u001b[1;32m<ipython-input-15-26f864fe4c7b>\u001b[0m in \u001b[0;36m<module>\u001b[1;34m()\u001b[0m\n\u001b[0;32m      1\u001b[0m \u001b[1;32mfor\u001b[0m \u001b[0mkey\u001b[0m\u001b[1;33m,\u001b[0m \u001b[0mvalue\u001b[0m \u001b[1;32min\u001b[0m \u001b[0mimage\u001b[0m\u001b[1;33m.\u001b[0m\u001b[0mitems\u001b[0m\u001b[1;33m(\u001b[0m\u001b[1;33m)\u001b[0m\u001b[1;33m:\u001b[0m\u001b[1;33m\u001b[0m\u001b[0m\n\u001b[0;32m      2\u001b[0m     \u001b[0mprint\u001b[0m\u001b[1;33m(\u001b[0m\u001b[0mkey\u001b[0m\u001b[1;33m)\u001b[0m\u001b[1;33m\u001b[0m\u001b[0m\n\u001b[1;32m----> 3\u001b[1;33m     \u001b[0mprint\u001b[0m\u001b[1;33m(\u001b[0m\u001b[1;34m'\\t -'\u001b[0m \u001b[1;33m+\u001b[0m \u001b[0mvalue\u001b[0m\u001b[1;33m)\u001b[0m\u001b[1;33m\u001b[0m\u001b[0m\n\u001b[0m",
      "\u001b[1;31mTypeError\u001b[0m: must be str, not int"
     ]
    }
   ],
   "source": [
    "for key, value in image.items():\n",
    "    print(key)\n",
    "    print('\\t -' + value)"
   ]
  },
  {
   "cell_type": "markdown",
   "metadata": {},
   "source": [
    "## 檢查字典中是否存在鍵或值\n",
    "\n",
    "利用`in`和`not in`運算子可以檢查字典中是否存在某個鍵或值。"
   ]
  },
  {
   "cell_type": "code",
   "execution_count": 16,
   "metadata": {},
   "outputs": [
    {
     "data": {
      "text/plain": [
       "True"
      ]
     },
     "execution_count": 16,
     "metadata": {},
     "output_type": "execute_result"
    }
   ],
   "source": [
    "image = {'color': 'greyscale', 'size': 256789, 'type': 'jpg',\n",
    "         'address': 'file:PIC_0390.jpg'}\n",
    "\n",
    "'color' in image.keys()"
   ]
  },
  {
   "cell_type": "code",
   "execution_count": 17,
   "metadata": {},
   "outputs": [
    {
     "data": {
      "text/plain": [
       "False"
      ]
     },
     "execution_count": 17,
     "metadata": {},
     "output_type": "execute_result"
    }
   ],
   "source": [
    "289983 in image.values()"
   ]
  },
  {
   "cell_type": "code",
   "execution_count": 18,
   "metadata": {},
   "outputs": [
    {
     "data": {
      "text/plain": [
       "True"
      ]
     },
     "execution_count": 18,
     "metadata": {},
     "output_type": "execute_result"
    }
   ],
   "source": [
    "'compression' not in image.keys()"
   ]
  },
  {
   "cell_type": "markdown",
   "metadata": {},
   "source": [
    "## `get（）`方法\n",
    "\n",
    "字典有一個`get（）`方法，它接受兩個參數：要檢索的值的鍵，如果該鍵不存在則返回的回退值。"
   ]
  },
  {
   "cell_type": "code",
   "execution_count": 19,
   "metadata": {},
   "outputs": [
    {
     "data": {
      "text/plain": [
       "'unknown'"
      ]
     },
     "execution_count": 19,
     "metadata": {},
     "output_type": "execute_result"
    }
   ],
   "source": [
    "image = {'color': 'greyscale', 'size': 256789, 'type': 'jpg',\n",
    "         'address': 'file:PIC_0390.jpg'}\n",
    "\n",
    "color_val = image.get('color', 'unknown')\n",
    "designer_val = image.get('designer', 'unknown')\n",
    "\n",
    "designer_val"
   ]
  },
  {
   "cell_type": "markdown",
   "metadata": {},
   "source": [
    "## `setdefault（）`方法\n",
    "`setdefault（）`方法 傳遞給方法的第一個參數是檢查的鍵，第二個參數是在該鍵不存在時設置在該鍵的值。 如果密鑰確實存在，`setdefault（）`方法返回鍵的值。"
   ]
  },
  {
   "cell_type": "code",
   "execution_count": 20,
   "metadata": {},
   "outputs": [
    {
     "name": "stdout",
     "output_type": "stream",
     "text": [
      "{'\\n': 16, 'C': 2, 'a': 57, 'l': 45, ' ': 182, 'm': 30, 'e': 107, 'I': 12, 's': 52, 'h': 51, '.': 8, 'S': 1, 'o': 62, 'y': 22, 'r': 56, 'g': 24, '—': 3, 'n': 61, 'v': 13, 'i': 68, 'd': 21, 'w': 15, 'p': 25, 'c': 16, 't': 74, 'u': 26, ',': 10, 'b': 9, 'f': 22, 'W': 2, ';': 4, 'z': 2, 'N': 1, 'q': 2, 'k': 4, '’': 1, 'T': 2}\n"
     ]
    }
   ],
   "source": [
    "# A simple character counter using the setdefault() method\n",
    "fst_paragraph = '''\n",
    "Call me Ishmael. Some years ago—never mind how long precisely—having\n",
    "little or no money in my purse, and nothing particular to interest me on\n",
    "shore, I thought I would sail about a little and see the watery part of\n",
    "the world. It is a way I have of driving off the spleen and regulating\n",
    "the circulation. Whenever I find myself growing grim about the mouth;\n",
    "whenever it is a damp, drizzly November in my soul; whenever I find\n",
    "myself involuntarily pausing before coffin warehouses, and bringing up\n",
    "the rear of every funeral I meet; and especially whenever my hypos get\n",
    "such an upper hand of me, that it requires a strong moral principle to\n",
    "prevent me from deliberately stepping into the street, and methodically\n",
    "knocking people’s hats off—then, I account it high time to get to\n",
    "sea as soon as I can. This is my substitute for pistol and ball. With\n",
    "a philosophical flourish Cato throws himself upon his sword; I quietly\n",
    "take to the ship. There is nothing surprising in this. If they but knew\n",
    "it, almost all men in their degree, some time or other, cherish very\n",
    "nearly the same feelings towards the ocean with me.'''\n",
    "\n",
    "count = {}\n",
    "\n",
    "for character in fst_paragraph:\n",
    "    count.setdefault(character, 0)\n",
    "    count[character] += 1\n",
    "\n",
    "print(count)"
   ]
  },
  {
   "cell_type": "markdown",
   "metadata": {},
   "source": [
    "# 嵌套\n",
    "\n",
    "有時，您需要將一組字典存儲在串列中，或將項目串列存儲為字典中的值。 這稱為* nesting *。您可以在串列中嵌套一組字典，在字典中嵌套項目串列，甚至在另一個字典中嵌套字典。 嵌套是一個強大的功能，如下面的示例所示。\n",
    "\n",
    "通常，串列對於包含有序的一系列值很有用，而字典對於將鍵與值相關聯很有用。\n",
    "\n",
    "## 字典串列\n",
    "\n"
   ]
  },
  {
   "cell_type": "code",
   "execution_count": 21,
   "metadata": {},
   "outputs": [
    {
     "data": {
      "text/plain": [
       "[{'color': 'greyscale',\n",
       "  'size': 256789,\n",
       "  'type': 'jpg',\n",
       "  'address': 'file:PIC_0390.jpg'},\n",
       " {'color': 'greyscale',\n",
       "  'size': 492872,\n",
       "  'type': 'jpg',\n",
       "  'address': 'https://upload.wikimedia.org/wikipedia/commons/f/f7/Queequeg.JPG'},\n",
       " {'color': 'greyscale',\n",
       "  'size': 497121,\n",
       "  'type': 'jpg',\n",
       "  'address': 'https://upload.wikimedia.org/wikipedia/commons/8/8b/Moby_Dick_final_chase.jpg'}]"
      ]
     },
     "execution_count": 21,
     "metadata": {},
     "output_type": "execute_result"
    }
   ],
   "source": [
    "image_0 = {'color': 'greyscale', 'size': 256789, 'type': 'jpg',\n",
    "         'address': 'file:PIC_0390.jpg'}\n",
    "image_1 = {'color': 'greyscale', 'size': 492872, 'type': 'jpg',\n",
    "         'address': 'https://upload.wikimedia.org/wikipedia/commons/f/f7/Queequeg.JPG'}\n",
    "image_2 = {'color': 'greyscale', 'size': 497121, 'type': 'jpg',\n",
    "         'address': 'https://upload.wikimedia.org/wikipedia/commons/8/8b/Moby_Dick_final_chase.jpg'}\n",
    "\n",
    "article_images = [image_0, image_1, image_2]\n",
    "\n",
    "article_images\n"
   ]
  },
  {
   "cell_type": "markdown",
   "metadata": {},
   "source": [
    "## 字典中的串列\n",
    "\n",
    "而不是將字典放在串列中，有時將串列放在字典中是可行的。"
   ]
  },
  {
   "cell_type": "code",
   "execution_count": 22,
   "metadata": {},
   "outputs": [
    {
     "data": {
      "text/plain": [
       "497121"
      ]
     },
     "execution_count": 22,
     "metadata": {},
     "output_type": "execute_result"
    }
   ],
   "source": [
    "images = {'color': 'greyscale', 'size': [256789, 492872, 497121], 'type': 'jpg',\n",
    "         'address': ['file:PIC_0390.jpg', \n",
    "                     'https://upload.wikimedia.org/wikipedia/commons/f/f7/Queequeg.JPG', \n",
    "                     'https://upload.wikimedia.org/wikipedia/commons/8/8b/Moby_Dick_final_chase.jpg']\n",
    "         }\n",
    "\n",
    "images['size'][-1]"
   ]
  },
  {
   "cell_type": "code",
   "execution_count": 23,
   "metadata": {},
   "outputs": [
    {
     "name": "stdout",
     "output_type": "stream",
     "text": [
      "\n",
      "Color\n",
      "\tgreyscale\n",
      "\n",
      "Size\n",
      "\t * 256789\n",
      "\t * 492872\n",
      "\t * 497121\n",
      "\n",
      "Type\n",
      "\tjpg\n",
      "\n",
      "Address\n",
      "\t * file:PIC_0390.jpg\n",
      "\t * https://upload.wikimedia.org/wikipedia/commons/f/f7/Queequeg.JPG\n",
      "\t * https://upload.wikimedia.org/wikipedia/commons/8/8b/Moby_Dick_final_chase.jpg\n"
     ]
    }
   ],
   "source": [
    "for key, value in images.items():\n",
    "    print(\"\\n\" + key.title())\n",
    "    \n",
    "    if type(value) == list:\n",
    "        for element in value: \n",
    "            print(\"\\t * \" + str(element))\n",
    "    else:\n",
    "        print(\"\\t\" + value)"
   ]
  },
  {
   "cell_type": "markdown",
   "metadata": {},
   "source": [
    "## 字典中的字典\n",
    "\n",
    "可以將字典嵌套在另一個字典中，但是執行此操作時，代碼可能會很快變得複雜。 例如，如果您有一個網站的多個用戶，每個用戶都有一個唯一的用戶名，您可以使用用戶名作為字典中的鍵。 然後，可以使用字典作為與其用戶名關聯的值來存儲有關每個用戶的信息。 在下面的清單中，我們存儲了有關每個用戶的三條信息：他們的名字，姓氏和位置。 我們將通過循環訪問用戶名和與每個用戶名關聯的信息字典來訪問此信息：\n"
   ]
  },
  {
   "cell_type": "code",
   "execution_count": 24,
   "metadata": {},
   "outputs": [],
   "source": [
    "users = {\n",
    "    'aeinstein': {\n",
    "        'first': 'albert',\n",
    "        'last': 'einstein',\n",
    "        'locations': ['princeton', 'copenhagen'],\n",
    "        },\n",
    "    \n",
    "    'mcurie': {\n",
    "           'first': 'marie',\n",
    "           'last': 'curie',\n",
    "           'locations': ['paris', 'athens'],\n",
    "           },\n",
    "}"
   ]
  },
  {
   "cell_type": "code",
   "execution_count": 25,
   "metadata": {},
   "outputs": [
    {
     "name": "stdout",
     "output_type": "stream",
     "text": [
      "\n",
      "Username: aeinstein\n",
      "\tFull name: Albert Einstein\n",
      "\tLocation: Princeton\n",
      "\tLocation: Copenhagen\n",
      "\n",
      "Username: mcurie\n",
      "\tFull name: Marie Curie\n",
      "\tLocation: Paris\n",
      "\tLocation: Athens\n"
     ]
    }
   ],
   "source": [
    "for username, user_info in users.items():\n",
    "    print(\"\\nUsername: \" + username)\n",
    "    full_name = user_info['first'] + \" \" + user_info['last']\n",
    "    locations = user_info['locations']\n",
    "    \n",
    "    print(\"\\tFull name: \" + full_name.title()) \n",
    "    for location in locations:\n",
    "        print(\"\\tLocation: \" + location.title())"
   ]
  },
  {
   "cell_type": "markdown",
   "metadata": {},
   "source": [
    "## 漂亮的印刷\n",
    "\n",
    "如果將pprint模塊導入到程序中，您將可以訪問`pprint（）`和`pformat（）`函數，這些函數將“漂亮打印”字典的值。 當您希望在字典中清晰地顯示項目時，這比“print（）”提供的內容更有用。\n"
   ]
  },
  {
   "cell_type": "code",
   "execution_count": 26,
   "metadata": {},
   "outputs": [
    {
     "name": "stdout",
     "output_type": "stream",
     "text": [
      "{'aeinstein': {'first': 'albert', 'last': 'einstein', 'locations': ['princeton', 'copenhagen']}, 'mcurie': {'first': 'marie', 'last': 'curie', 'locations': ['paris', 'athens']}}\n"
     ]
    }
   ],
   "source": [
    "print(users)"
   ]
  },
  {
   "cell_type": "code",
   "execution_count": 27,
   "metadata": {},
   "outputs": [
    {
     "name": "stdout",
     "output_type": "stream",
     "text": [
      "{'aeinstein': {'first': 'albert',\n",
      "               'last': 'einstein',\n",
      "               'locations': ['princeton', 'copenhagen']},\n",
      " 'mcurie': {'first': 'marie',\n",
      "            'last': 'curie',\n",
      "            'locations': ['paris', 'athens']}}\n"
     ]
    }
   ],
   "source": [
    "import pprint\n",
    "\n",
    "pprint.pprint(users)"
   ]
  }
 ],
 "metadata": {
  "kernelspec": {
   "display_name": "Python 3",
   "language": "python",
   "name": "python3"
  },
  "language_info": {
   "codemirror_mode": {
    "name": "ipython",
    "version": 3
   },
   "file_extension": ".py",
   "mimetype": "text/x-python",
   "name": "python",
   "nbconvert_exporter": "python",
   "pygments_lexer": "ipython3",
   "version": "3.6.5"
  }
 },
 "nbformat": 4,
 "nbformat_minor": 2
}
